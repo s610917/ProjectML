{
 "cells": [
  {
   "cell_type": "markdown",
   "metadata": {},
   "source": [
    "## Sample of comments analysis based on external data"
   ]
  },
  {
   "cell_type": "code",
   "execution_count": 95,
   "metadata": {},
   "outputs": [],
   "source": [
    "import pandas as pd\n",
    "import matplotlib.pyplot as plt\n",
    "\n",
    "from tensorflow.keras.preprocessing.text import Tokenizer\n",
    "from tensorflow.keras.preprocessing.sequence import pad_sequences\n",
    "from tensorflow.keras.models import Sequential\n",
    "from tensorflow.keras.layers import LSTM,Dense, Dropout, SpatialDropout1D\n",
    "from tensorflow.keras.layers import Embedding\n",
    "\n",
    "df = pd.read_csv(\"telesales calls.csv\", sep = \";\")"
   ]
  },
  {
   "cell_type": "code",
   "execution_count": 96,
   "metadata": {},
   "outputs": [
    {
     "data": {
      "text/html": [
       "<div>\n",
       "<style scoped>\n",
       "    .dataframe tbody tr th:only-of-type {\n",
       "        vertical-align: middle;\n",
       "    }\n",
       "\n",
       "    .dataframe tbody tr th {\n",
       "        vertical-align: top;\n",
       "    }\n",
       "\n",
       "    .dataframe thead th {\n",
       "        text-align: right;\n",
       "    }\n",
       "</style>\n",
       "<table border=\"1\" class=\"dataframe\">\n",
       "  <thead>\n",
       "    <tr style=\"text-align: right;\">\n",
       "      <th></th>\n",
       "      <th>cardcode</th>\n",
       "      <th>calldate</th>\n",
       "      <th>Result</th>\n",
       "      <th>ShortComment</th>\n",
       "      <th>LongComment</th>\n",
       "      <th>Found</th>\n",
       "      <th>Interest</th>\n",
       "    </tr>\n",
       "  </thead>\n",
       "  <tbody>\n",
       "    <tr>\n",
       "      <th>0</th>\n",
       "      <td>A.06446</td>\n",
       "      <td>4/9/2019</td>\n",
       "      <td>Παραγγελία</td>\n",
       "      <td>Επανάκληση</td>\n",
       "      <td>ΕΔΩΣΕ ΠΑΡΑΓΓΕΛΙΑ ΕΝΑ MAMAS CAKE λΕΥΚΟ ΚΑΙ ΘΕΛΕ...</td>\n",
       "      <td>1.0</td>\n",
       "      <td>1.0</td>\n",
       "    </tr>\n",
       "    <tr>\n",
       "      <th>1</th>\n",
       "      <td>A.01775</td>\n",
       "      <td>4/9/2019</td>\n",
       "      <td>Ενημέρωση</td>\n",
       "      <td>Αντιπρόσωπος μόνο</td>\n",
       "      <td>ΘΕΛΕΙ ΚΑΤΑΛΟΛΟ ΜΕ ΤΑ ΠΡΟΙΟΝΤΑ  ΨΩΝΙΖΕΙ ΑΠΟ ΝΟΥ...</td>\n",
       "      <td>1.0</td>\n",
       "      <td>0.0</td>\n",
       "    </tr>\n",
       "    <tr>\n",
       "      <th>2</th>\n",
       "      <td>A.03996</td>\n",
       "      <td>4/9/2019</td>\n",
       "      <td>Ενημέρωση</td>\n",
       "      <td>Αντιπρόσωπος μόνο</td>\n",
       "      <td>ΨΩΝΙΖΕΙ ΑΠΟ ΝΟΥΣΗ ΧΡΗΣΤΟ ΚΑΙ ΘΑ ΔΩΣΕΙ ΠΑΡΑΓΓΕΛ...</td>\n",
       "      <td>1.0</td>\n",
       "      <td>0.0</td>\n",
       "    </tr>\n",
       "    <tr>\n",
       "      <th>3</th>\n",
       "      <td>A.04698</td>\n",
       "      <td>4/9/2019</td>\n",
       "      <td>Ενημέρωση</td>\n",
       "      <td>Ανταγωνισμός</td>\n",
       "      <td>ΨΩΝΙΖΕΙ ΑΠΟ ΖΑΦΕΙΡΑΤΟ ΚΑΙ ΔΟΥΛΕΥΕΙ ΤΟ MAMAS CA...</td>\n",
       "      <td>1.0</td>\n",
       "      <td>0.0</td>\n",
       "    </tr>\n",
       "    <tr>\n",
       "      <th>4</th>\n",
       "      <td>A.01653</td>\n",
       "      <td>4/9/2019</td>\n",
       "      <td>Ενημέρωση</td>\n",
       "      <td>Κατάλογος προϊόντων</td>\n",
       "      <td>ΘΕΛΕΙ ΔΕΙΓΜΑ ΓΙΑ ΨΩΜΙ oLIKIS ΜΕ ΠΡΟΖΥΜΙ ΠΑΙΡΝΕ...</td>\n",
       "      <td>1.0</td>\n",
       "      <td>0.0</td>\n",
       "    </tr>\n",
       "  </tbody>\n",
       "</table>\n",
       "</div>"
      ],
      "text/plain": [
       "  cardcode  calldate      Result         ShortComment  \\\n",
       "0  A.06446  4/9/2019  Παραγγελία           Επανάκληση   \n",
       "1  A.01775  4/9/2019   Ενημέρωση    Αντιπρόσωπος μόνο   \n",
       "2  A.03996  4/9/2019   Ενημέρωση    Αντιπρόσωπος μόνο   \n",
       "3  A.04698  4/9/2019   Ενημέρωση         Ανταγωνισμός   \n",
       "4  A.01653  4/9/2019   Ενημέρωση  Κατάλογος προϊόντων   \n",
       "\n",
       "                                         LongComment  Found  Interest  \n",
       "0  ΕΔΩΣΕ ΠΑΡΑΓΓΕΛΙΑ ΕΝΑ MAMAS CAKE λΕΥΚΟ ΚΑΙ ΘΕΛΕ...    1.0       1.0  \n",
       "1  ΘΕΛΕΙ ΚΑΤΑΛΟΛΟ ΜΕ ΤΑ ΠΡΟΙΟΝΤΑ  ΨΩΝΙΖΕΙ ΑΠΟ ΝΟΥ...    1.0       0.0  \n",
       "2  ΨΩΝΙΖΕΙ ΑΠΟ ΝΟΥΣΗ ΧΡΗΣΤΟ ΚΑΙ ΘΑ ΔΩΣΕΙ ΠΑΡΑΓΓΕΛ...    1.0       0.0  \n",
       "3  ΨΩΝΙΖΕΙ ΑΠΟ ΖΑΦΕΙΡΑΤΟ ΚΑΙ ΔΟΥΛΕΥΕΙ ΤΟ MAMAS CA...    1.0       0.0  \n",
       "4  ΘΕΛΕΙ ΔΕΙΓΜΑ ΓΙΑ ΨΩΜΙ oLIKIS ΜΕ ΠΡΟΖΥΜΙ ΠΑΙΡΝΕ...    1.0       0.0  "
      ]
     },
     "execution_count": 96,
     "metadata": {},
     "output_type": "execute_result"
    }
   ],
   "source": [
    "df.head()\n"
   ]
  },
  {
   "cell_type": "code",
   "execution_count": 97,
   "metadata": {},
   "outputs": [
    {
     "data": {
      "text/plain": [
       "Index(['cardcode', 'calldate', 'Result', 'ShortComment', 'LongComment',\n",
       "       'Found', 'Interest'],\n",
       "      dtype='object')"
      ]
     },
     "execution_count": 97,
     "metadata": {},
     "output_type": "execute_result"
    }
   ],
   "source": [
    "df.columns"
   ]
  },
  {
   "cell_type": "code",
   "execution_count": null,
   "metadata": {},
   "outputs": [],
   "source": []
  },
  {
   "cell_type": "code",
   "execution_count": 98,
   "metadata": {},
   "outputs": [
    {
     "name": "stdout",
     "output_type": "stream",
     "text": [
      "(3346, 3)\n"
     ]
    },
    {
     "data": {
      "text/html": [
       "<div>\n",
       "<style scoped>\n",
       "    .dataframe tbody tr th:only-of-type {\n",
       "        vertical-align: middle;\n",
       "    }\n",
       "\n",
       "    .dataframe tbody tr th {\n",
       "        vertical-align: top;\n",
       "    }\n",
       "\n",
       "    .dataframe thead th {\n",
       "        text-align: right;\n",
       "    }\n",
       "</style>\n",
       "<table border=\"1\" class=\"dataframe\">\n",
       "  <thead>\n",
       "    <tr style=\"text-align: right;\">\n",
       "      <th></th>\n",
       "      <th>LongComment</th>\n",
       "      <th>Found</th>\n",
       "      <th>Interest</th>\n",
       "    </tr>\n",
       "  </thead>\n",
       "  <tbody>\n",
       "    <tr>\n",
       "      <th>0</th>\n",
       "      <td>ΕΔΩΣΕ ΠΑΡΑΓΓΕΛΙΑ ΕΝΑ MAMAS CAKE λΕΥΚΟ ΚΑΙ ΘΕΛΕ...</td>\n",
       "      <td>1.0</td>\n",
       "      <td>1.0</td>\n",
       "    </tr>\n",
       "    <tr>\n",
       "      <th>1</th>\n",
       "      <td>ΘΕΛΕΙ ΚΑΤΑΛΟΛΟ ΜΕ ΤΑ ΠΡΟΙΟΝΤΑ  ΨΩΝΙΖΕΙ ΑΠΟ ΝΟΥ...</td>\n",
       "      <td>1.0</td>\n",
       "      <td>0.0</td>\n",
       "    </tr>\n",
       "    <tr>\n",
       "      <th>2</th>\n",
       "      <td>ΨΩΝΙΖΕΙ ΑΠΟ ΝΟΥΣΗ ΧΡΗΣΤΟ ΚΑΙ ΘΑ ΔΩΣΕΙ ΠΑΡΑΓΓΕΛ...</td>\n",
       "      <td>1.0</td>\n",
       "      <td>0.0</td>\n",
       "    </tr>\n",
       "    <tr>\n",
       "      <th>3</th>\n",
       "      <td>ΨΩΝΙΖΕΙ ΑΠΟ ΖΑΦΕΙΡΑΤΟ ΚΑΙ ΔΟΥΛΕΥΕΙ ΤΟ MAMAS CA...</td>\n",
       "      <td>1.0</td>\n",
       "      <td>0.0</td>\n",
       "    </tr>\n",
       "    <tr>\n",
       "      <th>4</th>\n",
       "      <td>ΘΕΛΕΙ ΔΕΙΓΜΑ ΓΙΑ ΨΩΜΙ oLIKIS ΜΕ ΠΡΟΖΥΜΙ ΠΑΙΡΝΕ...</td>\n",
       "      <td>1.0</td>\n",
       "      <td>0.0</td>\n",
       "    </tr>\n",
       "    <tr>\n",
       "      <th>5</th>\n",
       "      <td>ΔΕΝ ΑΠΑΝΤΑ ΣΤΟ ΤΗΛ.</td>\n",
       "      <td>0.0</td>\n",
       "      <td>NaN</td>\n",
       "    </tr>\n",
       "    <tr>\n",
       "      <th>6</th>\n",
       "      <td>ΕΛΕΙΠΕ Ο ΥΠΕΥΘΥΝΟΣ.</td>\n",
       "      <td>0.0</td>\n",
       "      <td>NaN</td>\n",
       "    </tr>\n",
       "    <tr>\n",
       "      <th>7</th>\n",
       "      <td>ΛΑΘΟΣ ΤΗΛ</td>\n",
       "      <td>0.0</td>\n",
       "      <td>NaN</td>\n",
       "    </tr>\n",
       "    <tr>\n",
       "      <th>8</th>\n",
       "      <td>ΨΩΝΙΖΕΙ ΑΠΟ ΠΥΡΡΟ ΑΛΛΑ ΘΕΛΕΙ ΚΑΛΥΤΕΡΕΣ ΤΙΜΕΣ. ...</td>\n",
       "      <td>1.0</td>\n",
       "      <td>0.0</td>\n",
       "    </tr>\n",
       "    <tr>\n",
       "      <th>9</th>\n",
       "      <td>ΕΝΗΜΕΡΩΘΗΚΕ ΓΙΑ ΝΕΑ ΠΡΟΙΟΝΤΑ ΚΑΙ ΕΠΙΘΥΜΕΙ ΔΕΙΓ...</td>\n",
       "      <td>1.0</td>\n",
       "      <td>0.0</td>\n",
       "    </tr>\n",
       "    <tr>\n",
       "      <th>10</th>\n",
       "      <td>ΨΩΝΙΖΕΙ ΑΠΟ ΝΟΥΣΗ ΒΑΣΙΛΗ ΚΑΙ ΕΙΝΑΙ ΕΝΗΜΕΡΩΜΕΝΗ...</td>\n",
       "      <td>1.0</td>\n",
       "      <td>0.0</td>\n",
       "    </tr>\n",
       "    <tr>\n",
       "      <th>11</th>\n",
       "      <td>Ο ΥΠΕΥΘΥΝΟΣ ΕΙΝΑΙ ΜΕΧΡΙ ΤΙΣ 8 ΤΟ ΠΡΩΙ ΣΤΟ ΜΑΓΑ...</td>\n",
       "      <td>1.0</td>\n",
       "      <td>0.0</td>\n",
       "    </tr>\n",
       "    <tr>\n",
       "      <th>12</th>\n",
       "      <td>ΤΗΛ ΕΠΙΚΟΙΝΩΝΙΑΣ 2104913347 (10-11 Κα Διονυσια)</td>\n",
       "      <td>0.0</td>\n",
       "      <td>NaN</td>\n",
       "    </tr>\n",
       "    <tr>\n",
       "      <th>13</th>\n",
       "      <td>ψωνιζει τα προιοντα μας απο ΝΟΥΣΗ ΧΡ. ΕΙΝΑΙ ΕΥ...</td>\n",
       "      <td>1.0</td>\n",
       "      <td>0.0</td>\n",
       "    </tr>\n",
       "    <tr>\n",
       "      <th>14</th>\n",
       "      <td>ΤΗΛ ΑΡΓΟΤΕΡΑ ΔΕΝ ΑΠΑΝΤΑ(ψωνιζει απο ΝΟΥΣΗ ΧΡ,</td>\n",
       "      <td>0.0</td>\n",
       "      <td>NaN</td>\n",
       "    </tr>\n",
       "    <tr>\n",
       "      <th>15</th>\n",
       "      <td>ΨΩΝΙΖΕΙ ΑΠΟ ΝΟΥΣΗ ΒΑΣ. ΘΕΛΕΙ ΚΑΤΑΛΟΓΟ ΠΡΟΙΟΝΤΩ...</td>\n",
       "      <td>1.0</td>\n",
       "      <td>0.0</td>\n",
       "    </tr>\n",
       "    <tr>\n",
       "      <th>16</th>\n",
       "      <td>ΘΑ ΔΩΣΕΙ ΠΑΡΑΓΓΕΛΙΑ ΑΡΓΟΤΕΡΑ,,,,,,,,,,</td>\n",
       "      <td>1.0</td>\n",
       "      <td>0.0</td>\n",
       "    </tr>\n",
       "    <tr>\n",
       "      <th>17</th>\n",
       "      <td>ΘΑ ΚΑΛΕΣΕΙ Ο ΙΔΙΟΣ ΟΤΑΝ ΧΡΕΙΑΣΤΕΙ ΚΑΤΙ 2105621903</td>\n",
       "      <td>1.0</td>\n",
       "      <td>-1.0</td>\n",
       "    </tr>\n",
       "    <tr>\n",
       "      <th>18</th>\n",
       "      <td>ΘΑ ΠΑΡΕΙ ΤΗΛ ΑΝ ΧΡΕΙΣΤΕΙ ΚΑΤΙ ΑΠΟ ΤΗΝ ΕΤΑΙΡΕΙΑ...</td>\n",
       "      <td>1.0</td>\n",
       "      <td>-1.0</td>\n",
       "    </tr>\n",
       "    <tr>\n",
       "      <th>19</th>\n",
       "      <td>ΣΥΝΕΡΓΑΖΟΤΑΝ ΠΑΛΙΑ ΜΑΖΙ ΜΑΣ ΨΩΝΙΖΕΙ ΜΟΝΟ ΑΠΟ Α...</td>\n",
       "      <td>1.0</td>\n",
       "      <td>-1.0</td>\n",
       "    </tr>\n",
       "  </tbody>\n",
       "</table>\n",
       "</div>"
      ],
      "text/plain": [
       "                                          LongComment  Found  Interest\n",
       "0   ΕΔΩΣΕ ΠΑΡΑΓΓΕΛΙΑ ΕΝΑ MAMAS CAKE λΕΥΚΟ ΚΑΙ ΘΕΛΕ...    1.0       1.0\n",
       "1   ΘΕΛΕΙ ΚΑΤΑΛΟΛΟ ΜΕ ΤΑ ΠΡΟΙΟΝΤΑ  ΨΩΝΙΖΕΙ ΑΠΟ ΝΟΥ...    1.0       0.0\n",
       "2   ΨΩΝΙΖΕΙ ΑΠΟ ΝΟΥΣΗ ΧΡΗΣΤΟ ΚΑΙ ΘΑ ΔΩΣΕΙ ΠΑΡΑΓΓΕΛ...    1.0       0.0\n",
       "3   ΨΩΝΙΖΕΙ ΑΠΟ ΖΑΦΕΙΡΑΤΟ ΚΑΙ ΔΟΥΛΕΥΕΙ ΤΟ MAMAS CA...    1.0       0.0\n",
       "4   ΘΕΛΕΙ ΔΕΙΓΜΑ ΓΙΑ ΨΩΜΙ oLIKIS ΜΕ ΠΡΟΖΥΜΙ ΠΑΙΡΝΕ...    1.0       0.0\n",
       "5                                 ΔΕΝ ΑΠΑΝΤΑ ΣΤΟ ΤΗΛ.    0.0       NaN\n",
       "6                                 ΕΛΕΙΠΕ Ο ΥΠΕΥΘΥΝΟΣ.    0.0       NaN\n",
       "7                                           ΛΑΘΟΣ ΤΗΛ    0.0       NaN\n",
       "8   ΨΩΝΙΖΕΙ ΑΠΟ ΠΥΡΡΟ ΑΛΛΑ ΘΕΛΕΙ ΚΑΛΥΤΕΡΕΣ ΤΙΜΕΣ. ...    1.0       0.0\n",
       "9   ΕΝΗΜΕΡΩΘΗΚΕ ΓΙΑ ΝΕΑ ΠΡΟΙΟΝΤΑ ΚΑΙ ΕΠΙΘΥΜΕΙ ΔΕΙΓ...    1.0       0.0\n",
       "10  ΨΩΝΙΖΕΙ ΑΠΟ ΝΟΥΣΗ ΒΑΣΙΛΗ ΚΑΙ ΕΙΝΑΙ ΕΝΗΜΕΡΩΜΕΝΗ...    1.0       0.0\n",
       "11  Ο ΥΠΕΥΘΥΝΟΣ ΕΙΝΑΙ ΜΕΧΡΙ ΤΙΣ 8 ΤΟ ΠΡΩΙ ΣΤΟ ΜΑΓΑ...    1.0       0.0\n",
       "12    ΤΗΛ ΕΠΙΚΟΙΝΩΝΙΑΣ 2104913347 (10-11 Κα Διονυσια)    0.0       NaN\n",
       "13  ψωνιζει τα προιοντα μας απο ΝΟΥΣΗ ΧΡ. ΕΙΝΑΙ ΕΥ...    1.0       0.0\n",
       "14      ΤΗΛ ΑΡΓΟΤΕΡΑ ΔΕΝ ΑΠΑΝΤΑ(ψωνιζει απο ΝΟΥΣΗ ΧΡ,    0.0       NaN\n",
       "15  ΨΩΝΙΖΕΙ ΑΠΟ ΝΟΥΣΗ ΒΑΣ. ΘΕΛΕΙ ΚΑΤΑΛΟΓΟ ΠΡΟΙΟΝΤΩ...    1.0       0.0\n",
       "16             ΘΑ ΔΩΣΕΙ ΠΑΡΑΓΓΕΛΙΑ ΑΡΓΟΤΕΡΑ,,,,,,,,,,    1.0       0.0\n",
       "17  ΘΑ ΚΑΛΕΣΕΙ Ο ΙΔΙΟΣ ΟΤΑΝ ΧΡΕΙΑΣΤΕΙ ΚΑΤΙ 2105621903    1.0      -1.0\n",
       "18  ΘΑ ΠΑΡΕΙ ΤΗΛ ΑΝ ΧΡΕΙΣΤΕΙ ΚΑΤΙ ΑΠΟ ΤΗΝ ΕΤΑΙΡΕΙΑ...    1.0      -1.0\n",
       "19  ΣΥΝΕΡΓΑΖΟΤΑΝ ΠΑΛΙΑ ΜΑΖΙ ΜΑΣ ΨΩΝΙΖΕΙ ΜΟΝΟ ΑΠΟ Α...    1.0      -1.0"
      ]
     },
     "execution_count": 98,
     "metadata": {},
     "output_type": "execute_result"
    }
   ],
   "source": [
    "fill_df = df[['LongComment',\"Found\",'Interest']]\n",
    "print(fill_df.shape)\n",
    "fill_df.head(20)"
   ]
  },
  {
   "cell_type": "markdown",
   "metadata": {},
   "source": [
    "* We keep only the records where the customer was found"
   ]
  },
  {
   "cell_type": "code",
   "execution_count": 99,
   "metadata": {},
   "outputs": [],
   "source": [
    "df_found = fill_df[(fill_df[\"Found\"] == 1.0)]"
   ]
  },
  {
   "cell_type": "code",
   "execution_count": 100,
   "metadata": {},
   "outputs": [
    {
     "data": {
      "text/html": [
       "<div>\n",
       "<style scoped>\n",
       "    .dataframe tbody tr th:only-of-type {\n",
       "        vertical-align: middle;\n",
       "    }\n",
       "\n",
       "    .dataframe tbody tr th {\n",
       "        vertical-align: top;\n",
       "    }\n",
       "\n",
       "    .dataframe thead th {\n",
       "        text-align: right;\n",
       "    }\n",
       "</style>\n",
       "<table border=\"1\" class=\"dataframe\">\n",
       "  <thead>\n",
       "    <tr style=\"text-align: right;\">\n",
       "      <th></th>\n",
       "      <th>LongComment</th>\n",
       "      <th>Found</th>\n",
       "      <th>Interest</th>\n",
       "    </tr>\n",
       "  </thead>\n",
       "  <tbody>\n",
       "    <tr>\n",
       "      <th>0</th>\n",
       "      <td>ΕΔΩΣΕ ΠΑΡΑΓΓΕΛΙΑ ΕΝΑ MAMAS CAKE λΕΥΚΟ ΚΑΙ ΘΕΛΕ...</td>\n",
       "      <td>1.0</td>\n",
       "      <td>1.0</td>\n",
       "    </tr>\n",
       "    <tr>\n",
       "      <th>1</th>\n",
       "      <td>ΘΕΛΕΙ ΚΑΤΑΛΟΛΟ ΜΕ ΤΑ ΠΡΟΙΟΝΤΑ  ΨΩΝΙΖΕΙ ΑΠΟ ΝΟΥ...</td>\n",
       "      <td>1.0</td>\n",
       "      <td>0.0</td>\n",
       "    </tr>\n",
       "    <tr>\n",
       "      <th>2</th>\n",
       "      <td>ΨΩΝΙΖΕΙ ΑΠΟ ΝΟΥΣΗ ΧΡΗΣΤΟ ΚΑΙ ΘΑ ΔΩΣΕΙ ΠΑΡΑΓΓΕΛ...</td>\n",
       "      <td>1.0</td>\n",
       "      <td>0.0</td>\n",
       "    </tr>\n",
       "    <tr>\n",
       "      <th>3</th>\n",
       "      <td>ΨΩΝΙΖΕΙ ΑΠΟ ΖΑΦΕΙΡΑΤΟ ΚΑΙ ΔΟΥΛΕΥΕΙ ΤΟ MAMAS CA...</td>\n",
       "      <td>1.0</td>\n",
       "      <td>0.0</td>\n",
       "    </tr>\n",
       "    <tr>\n",
       "      <th>4</th>\n",
       "      <td>ΘΕΛΕΙ ΔΕΙΓΜΑ ΓΙΑ ΨΩΜΙ oLIKIS ΜΕ ΠΡΟΖΥΜΙ ΠΑΙΡΝΕ...</td>\n",
       "      <td>1.0</td>\n",
       "      <td>0.0</td>\n",
       "    </tr>\n",
       "  </tbody>\n",
       "</table>\n",
       "</div>"
      ],
      "text/plain": [
       "                                         LongComment  Found  Interest\n",
       "0  ΕΔΩΣΕ ΠΑΡΑΓΓΕΛΙΑ ΕΝΑ MAMAS CAKE λΕΥΚΟ ΚΑΙ ΘΕΛΕ...    1.0       1.0\n",
       "1  ΘΕΛΕΙ ΚΑΤΑΛΟΛΟ ΜΕ ΤΑ ΠΡΟΙΟΝΤΑ  ΨΩΝΙΖΕΙ ΑΠΟ ΝΟΥ...    1.0       0.0\n",
       "2  ΨΩΝΙΖΕΙ ΑΠΟ ΝΟΥΣΗ ΧΡΗΣΤΟ ΚΑΙ ΘΑ ΔΩΣΕΙ ΠΑΡΑΓΓΕΛ...    1.0       0.0\n",
       "3  ΨΩΝΙΖΕΙ ΑΠΟ ΖΑΦΕΙΡΑΤΟ ΚΑΙ ΔΟΥΛΕΥΕΙ ΤΟ MAMAS CA...    1.0       0.0\n",
       "4  ΘΕΛΕΙ ΔΕΙΓΜΑ ΓΙΑ ΨΩΜΙ oLIKIS ΜΕ ΠΡΟΖΥΜΙ ΠΑΙΡΝΕ...    1.0       0.0"
      ]
     },
     "execution_count": 100,
     "metadata": {},
     "output_type": "execute_result"
    }
   ],
   "source": [
    "df_found.head()"
   ]
  },
  {
   "cell_type": "markdown",
   "metadata": {},
   "source": [
    "* Remove the calls that had neutral result"
   ]
  },
  {
   "cell_type": "code",
   "execution_count": 101,
   "metadata": {},
   "outputs": [],
   "source": [
    "df_interest = df_found[(df_found[\"Interest\"] == 1.0)|(df_found[\"Interest\"] == -1.0) ]"
   ]
  },
  {
   "cell_type": "code",
   "execution_count": 102,
   "metadata": {},
   "outputs": [
    {
     "data": {
      "text/html": [
       "<div>\n",
       "<style scoped>\n",
       "    .dataframe tbody tr th:only-of-type {\n",
       "        vertical-align: middle;\n",
       "    }\n",
       "\n",
       "    .dataframe tbody tr th {\n",
       "        vertical-align: top;\n",
       "    }\n",
       "\n",
       "    .dataframe thead th {\n",
       "        text-align: right;\n",
       "    }\n",
       "</style>\n",
       "<table border=\"1\" class=\"dataframe\">\n",
       "  <thead>\n",
       "    <tr style=\"text-align: right;\">\n",
       "      <th></th>\n",
       "      <th>LongComment</th>\n",
       "      <th>Found</th>\n",
       "      <th>Interest</th>\n",
       "    </tr>\n",
       "  </thead>\n",
       "  <tbody>\n",
       "    <tr>\n",
       "      <th>0</th>\n",
       "      <td>ΕΔΩΣΕ ΠΑΡΑΓΓΕΛΙΑ ΕΝΑ MAMAS CAKE λΕΥΚΟ ΚΑΙ ΘΕΛΕ...</td>\n",
       "      <td>1.0</td>\n",
       "      <td>1.0</td>\n",
       "    </tr>\n",
       "    <tr>\n",
       "      <th>17</th>\n",
       "      <td>ΘΑ ΚΑΛΕΣΕΙ Ο ΙΔΙΟΣ ΟΤΑΝ ΧΡΕΙΑΣΤΕΙ ΚΑΤΙ 2105621903</td>\n",
       "      <td>1.0</td>\n",
       "      <td>-1.0</td>\n",
       "    </tr>\n",
       "    <tr>\n",
       "      <th>18</th>\n",
       "      <td>ΘΑ ΠΑΡΕΙ ΤΗΛ ΑΝ ΧΡΕΙΣΤΕΙ ΚΑΤΙ ΑΠΟ ΤΗΝ ΕΤΑΙΡΕΙΑ...</td>\n",
       "      <td>1.0</td>\n",
       "      <td>-1.0</td>\n",
       "    </tr>\n",
       "    <tr>\n",
       "      <th>19</th>\n",
       "      <td>ΣΥΝΕΡΓΑΖΟΤΑΝ ΠΑΛΙΑ ΜΑΖΙ ΜΑΣ ΨΩΝΙΖΕΙ ΜΟΝΟ ΑΠΟ Α...</td>\n",
       "      <td>1.0</td>\n",
       "      <td>-1.0</td>\n",
       "    </tr>\n",
       "    <tr>\n",
       "      <th>22</th>\n",
       "      <td>ΧΟΝΔΡΙΚΗ ΠΩΛΗΣΗ ΠΑΓΩΤΩΜΗΧΑΝΩΝ,</td>\n",
       "      <td>1.0</td>\n",
       "      <td>1.0</td>\n",
       "    </tr>\n",
       "  </tbody>\n",
       "</table>\n",
       "</div>"
      ],
      "text/plain": [
       "                                          LongComment  Found  Interest\n",
       "0   ΕΔΩΣΕ ΠΑΡΑΓΓΕΛΙΑ ΕΝΑ MAMAS CAKE λΕΥΚΟ ΚΑΙ ΘΕΛΕ...    1.0       1.0\n",
       "17  ΘΑ ΚΑΛΕΣΕΙ Ο ΙΔΙΟΣ ΟΤΑΝ ΧΡΕΙΑΣΤΕΙ ΚΑΤΙ 2105621903    1.0      -1.0\n",
       "18  ΘΑ ΠΑΡΕΙ ΤΗΛ ΑΝ ΧΡΕΙΣΤΕΙ ΚΑΤΙ ΑΠΟ ΤΗΝ ΕΤΑΙΡΕΙΑ...    1.0      -1.0\n",
       "19  ΣΥΝΕΡΓΑΖΟΤΑΝ ΠΑΛΙΑ ΜΑΖΙ ΜΑΣ ΨΩΝΙΖΕΙ ΜΟΝΟ ΑΠΟ Α...    1.0      -1.0\n",
       "22                     ΧΟΝΔΡΙΚΗ ΠΩΛΗΣΗ ΠΑΓΩΤΩΜΗΧΑΝΩΝ,    1.0       1.0"
      ]
     },
     "execution_count": 102,
     "metadata": {},
     "output_type": "execute_result"
    }
   ],
   "source": [
    "df_interest.head()"
   ]
  },
  {
   "cell_type": "code",
   "execution_count": 103,
   "metadata": {},
   "outputs": [],
   "source": [
    "df1 =df_interest.replace(to_replace = 1.0,\n",
    "                 value =\"pos\")"
   ]
  },
  {
   "cell_type": "code",
   "execution_count": 104,
   "metadata": {},
   "outputs": [
    {
     "data": {
      "text/html": [
       "<div>\n",
       "<style scoped>\n",
       "    .dataframe tbody tr th:only-of-type {\n",
       "        vertical-align: middle;\n",
       "    }\n",
       "\n",
       "    .dataframe tbody tr th {\n",
       "        vertical-align: top;\n",
       "    }\n",
       "\n",
       "    .dataframe thead th {\n",
       "        text-align: right;\n",
       "    }\n",
       "</style>\n",
       "<table border=\"1\" class=\"dataframe\">\n",
       "  <thead>\n",
       "    <tr style=\"text-align: right;\">\n",
       "      <th></th>\n",
       "      <th>LongComment</th>\n",
       "      <th>Found</th>\n",
       "      <th>Interest</th>\n",
       "    </tr>\n",
       "  </thead>\n",
       "  <tbody>\n",
       "    <tr>\n",
       "      <th>0</th>\n",
       "      <td>ΕΔΩΣΕ ΠΑΡΑΓΓΕΛΙΑ ΕΝΑ MAMAS CAKE λΕΥΚΟ ΚΑΙ ΘΕΛΕ...</td>\n",
       "      <td>pos</td>\n",
       "      <td>pos</td>\n",
       "    </tr>\n",
       "    <tr>\n",
       "      <th>17</th>\n",
       "      <td>ΘΑ ΚΑΛΕΣΕΙ Ο ΙΔΙΟΣ ΟΤΑΝ ΧΡΕΙΑΣΤΕΙ ΚΑΤΙ 2105621903</td>\n",
       "      <td>pos</td>\n",
       "      <td>-1.0</td>\n",
       "    </tr>\n",
       "    <tr>\n",
       "      <th>18</th>\n",
       "      <td>ΘΑ ΠΑΡΕΙ ΤΗΛ ΑΝ ΧΡΕΙΣΤΕΙ ΚΑΤΙ ΑΠΟ ΤΗΝ ΕΤΑΙΡΕΙΑ...</td>\n",
       "      <td>pos</td>\n",
       "      <td>-1.0</td>\n",
       "    </tr>\n",
       "    <tr>\n",
       "      <th>19</th>\n",
       "      <td>ΣΥΝΕΡΓΑΖΟΤΑΝ ΠΑΛΙΑ ΜΑΖΙ ΜΑΣ ΨΩΝΙΖΕΙ ΜΟΝΟ ΑΠΟ Α...</td>\n",
       "      <td>pos</td>\n",
       "      <td>-1.0</td>\n",
       "    </tr>\n",
       "    <tr>\n",
       "      <th>22</th>\n",
       "      <td>ΧΟΝΔΡΙΚΗ ΠΩΛΗΣΗ ΠΑΓΩΤΩΜΗΧΑΝΩΝ,</td>\n",
       "      <td>pos</td>\n",
       "      <td>pos</td>\n",
       "    </tr>\n",
       "  </tbody>\n",
       "</table>\n",
       "</div>"
      ],
      "text/plain": [
       "                                          LongComment Found Interest\n",
       "0   ΕΔΩΣΕ ΠΑΡΑΓΓΕΛΙΑ ΕΝΑ MAMAS CAKE λΕΥΚΟ ΚΑΙ ΘΕΛΕ...   pos      pos\n",
       "17  ΘΑ ΚΑΛΕΣΕΙ Ο ΙΔΙΟΣ ΟΤΑΝ ΧΡΕΙΑΣΤΕΙ ΚΑΤΙ 2105621903   pos     -1.0\n",
       "18  ΘΑ ΠΑΡΕΙ ΤΗΛ ΑΝ ΧΡΕΙΣΤΕΙ ΚΑΤΙ ΑΠΟ ΤΗΝ ΕΤΑΙΡΕΙΑ...   pos     -1.0\n",
       "19  ΣΥΝΕΡΓΑΖΟΤΑΝ ΠΑΛΙΑ ΜΑΖΙ ΜΑΣ ΨΩΝΙΖΕΙ ΜΟΝΟ ΑΠΟ Α...   pos     -1.0\n",
       "22                     ΧΟΝΔΡΙΚΗ ΠΩΛΗΣΗ ΠΑΓΩΤΩΜΗΧΑΝΩΝ,   pos      pos"
      ]
     },
     "execution_count": 104,
     "metadata": {},
     "output_type": "execute_result"
    }
   ],
   "source": [
    "df1.head()"
   ]
  },
  {
   "cell_type": "code",
   "execution_count": 105,
   "metadata": {},
   "outputs": [],
   "source": [
    "df_final = df1.replace(to_replace = -1.0,\n",
    "                 value =\"neg\")"
   ]
  },
  {
   "cell_type": "code",
   "execution_count": 106,
   "metadata": {},
   "outputs": [
    {
     "data": {
      "text/html": [
       "<div>\n",
       "<style scoped>\n",
       "    .dataframe tbody tr th:only-of-type {\n",
       "        vertical-align: middle;\n",
       "    }\n",
       "\n",
       "    .dataframe tbody tr th {\n",
       "        vertical-align: top;\n",
       "    }\n",
       "\n",
       "    .dataframe thead th {\n",
       "        text-align: right;\n",
       "    }\n",
       "</style>\n",
       "<table border=\"1\" class=\"dataframe\">\n",
       "  <thead>\n",
       "    <tr style=\"text-align: right;\">\n",
       "      <th></th>\n",
       "      <th>LongComment</th>\n",
       "      <th>Interest</th>\n",
       "    </tr>\n",
       "  </thead>\n",
       "  <tbody>\n",
       "    <tr>\n",
       "      <th>0</th>\n",
       "      <td>ΕΔΩΣΕ ΠΑΡΑΓΓΕΛΙΑ ΕΝΑ MAMAS CAKE λΕΥΚΟ ΚΑΙ ΘΕΛΕ...</td>\n",
       "      <td>pos</td>\n",
       "    </tr>\n",
       "    <tr>\n",
       "      <th>17</th>\n",
       "      <td>ΘΑ ΚΑΛΕΣΕΙ Ο ΙΔΙΟΣ ΟΤΑΝ ΧΡΕΙΑΣΤΕΙ ΚΑΤΙ 2105621903</td>\n",
       "      <td>neg</td>\n",
       "    </tr>\n",
       "    <tr>\n",
       "      <th>18</th>\n",
       "      <td>ΘΑ ΠΑΡΕΙ ΤΗΛ ΑΝ ΧΡΕΙΣΤΕΙ ΚΑΤΙ ΑΠΟ ΤΗΝ ΕΤΑΙΡΕΙΑ...</td>\n",
       "      <td>neg</td>\n",
       "    </tr>\n",
       "    <tr>\n",
       "      <th>19</th>\n",
       "      <td>ΣΥΝΕΡΓΑΖΟΤΑΝ ΠΑΛΙΑ ΜΑΖΙ ΜΑΣ ΨΩΝΙΖΕΙ ΜΟΝΟ ΑΠΟ Α...</td>\n",
       "      <td>neg</td>\n",
       "    </tr>\n",
       "    <tr>\n",
       "      <th>22</th>\n",
       "      <td>ΧΟΝΔΡΙΚΗ ΠΩΛΗΣΗ ΠΑΓΩΤΩΜΗΧΑΝΩΝ,</td>\n",
       "      <td>pos</td>\n",
       "    </tr>\n",
       "  </tbody>\n",
       "</table>\n",
       "</div>"
      ],
      "text/plain": [
       "                                          LongComment Interest\n",
       "0   ΕΔΩΣΕ ΠΑΡΑΓΓΕΛΙΑ ΕΝΑ MAMAS CAKE λΕΥΚΟ ΚΑΙ ΘΕΛΕ...      pos\n",
       "17  ΘΑ ΚΑΛΕΣΕΙ Ο ΙΔΙΟΣ ΟΤΑΝ ΧΡΕΙΑΣΤΕΙ ΚΑΤΙ 2105621903      neg\n",
       "18  ΘΑ ΠΑΡΕΙ ΤΗΛ ΑΝ ΧΡΕΙΣΤΕΙ ΚΑΤΙ ΑΠΟ ΤΗΝ ΕΤΑΙΡΕΙΑ...      neg\n",
       "19  ΣΥΝΕΡΓΑΖΟΤΑΝ ΠΑΛΙΑ ΜΑΖΙ ΜΑΣ ΨΩΝΙΖΕΙ ΜΟΝΟ ΑΠΟ Α...      neg\n",
       "22                     ΧΟΝΔΡΙΚΗ ΠΩΛΗΣΗ ΠΑΓΩΤΩΜΗΧΑΝΩΝ,      pos"
      ]
     },
     "execution_count": 106,
     "metadata": {},
     "output_type": "execute_result"
    }
   ],
   "source": [
    "df_final= df_final[[\"LongComment\", \"Interest\"]]\n",
    "df_final.head()"
   ]
  },
  {
   "cell_type": "code",
   "execution_count": 107,
   "metadata": {},
   "outputs": [
    {
     "data": {
      "text/plain": [
       "neg    570\n",
       "pos    207\n",
       "Name: Interest, dtype: int64"
      ]
     },
     "execution_count": 107,
     "metadata": {},
     "output_type": "execute_result"
    }
   ],
   "source": [
    "df_final[\"Interest\"].value_counts()"
   ]
  },
  {
   "cell_type": "code",
   "execution_count": 108,
   "metadata": {},
   "outputs": [
    {
     "data": {
      "image/png": "[encoded data removed]",
      "text/plain": [
       "<Figure size 504x504 with 1 Axes>"
      ]
     },
     "metadata": {},
     "output_type": "display_data"
    }
   ],
   "source": [
    "fig=plt.figure(figsize=(7,7))\n",
    "colors=[\"green\",'blue']\n",
    "pos=df_final[df_final['Interest']== 'pos']\n",
    "neg=df_final[df_final['Interest']== 'neg']\n",
    "ck=[pos['Interest'].count(),neg['Interest'].count()]\n",
    "legpie=plt.pie(ck,labels=[\"Positive\",\"Negative\"],\n",
    "                 autopct ='%1.1f%%', \n",
    "                 shadow = True,\n",
    "                 colors = colors,\n",
    "                 startangle = 90,\n",
    "                 explode=(0, 0.2))"
   ]
  },
  {
   "cell_type": "markdown",
   "metadata": {},
   "source": [
    "* Negative reactions are the majority. This is expected since the specific datasets contains records from calls to old customers or to firms which are of unknown condtion"
   ]
  },
  {
   "cell_type": "code",
   "execution_count": 109,
   "metadata": {},
   "outputs": [
    {
     "data": {
      "text/plain": [
       "array(['ΕΔΩΣΕ ΠΑΡΑΓΓΕΛΙΑ ΕΝΑ MAMAS CAKE λΕΥΚΟ ΚΑΙ ΘΕΛΕΙ ΔΕΙΓΜΑ ΓΙΑ CHOCOLATIER DELICECOVER SOKOLATA,',\n",
       "       'ΘΑ ΚΑΛΕΣΕΙ Ο ΙΔΙΟΣ ΟΤΑΝ ΧΡΕΙΑΣΤΕΙ ΚΑΤΙ 2105621903',\n",
       "       'ΘΑ ΠΑΡΕΙ ΤΗΛ ΑΝ ΧΡΕΙΣΤΕΙ ΚΑΤΙ ΑΠΟ ΤΗΝ ΕΤΑΙΡΕΙΑ....',\n",
       "       'ΣΥΝΕΡΓΑΖΟΤΑΝ ΠΑΛΙΑ ΜΑΖΙ ΜΑΣ ΨΩΝΙΖΕΙ ΜΟΝΟ ΑΠΟ ΑΝΤΑΓΩΝΙΣΤΗ,ΠΡΟΣ ΤΟ ΠΑΡΟΝ ΔΕΝ ΘΕΛΕΙ  ΣΥΝΕΡΓΑΣΙΑ.',\n",
       "       'ΧΟΝΔΡΙΚΗ ΠΩΛΗΣΗ ΠΑΓΩΤΩΜΗΧΑΝΩΝ,',\n",
       "       'δεν ψωνιζει προοιντα απο την εταιρεια  εχει σταματησει και παιρνει μονο απο ανταγωνιστες.(ΜΠΕΞΗΣ)',\n",
       "       'ΘΑ ΔΩΣΕΙ Ο ΙΔΙΟΣ ΠΑΡΑΓΓΕΛΙΑ ΟΤΑΝ ΧΡΕΙΑΣΤΕΙ.',\n",
       "       'ΘΑ ΔΩΣΕΙ ΠΑΡΑΓΓΕΛΙΑ Ο ΙΔΙΟΣ ΟΤΑΝ ΧΡΕΑΣΤΕΙ  ΕΙΝΑΙ ΕΝΗΜΕΡΩΜΕΝΟΣ ΓΙΑ ΤΑ ΠΡΟΙΟΝΤΑ ΜΑΣ.',\n",
       "       'Ο ΠΕΛΑΤΗΣ ΕΝΗΜΕΡΩΘΗΚΕ ΓΙΑ ΝΕΑ ΠΡΟΙΟΝΤΑ ΕΔΩΣΕ ΠΑΡΑΓΓΕΛΙΑ ΓΙΑ ΠΡΩΤΗ ΦΟΡΑ ΜΙΑ mINUTA ΚΑΙ ΖΗΤΗΣΕ ΔΕΙΓΜΑ ΚΑΙ mATCHA TEA ',\n",
       "       'ΠΑΡΑΓΓΕΛΙΑ ΜΙΑ mINUTA',\n",
       "       'παιρνει συγκεκριμενα προιοντα και αν χρειαστει κατι θα μας ενημερωσει,',\n",
       "       'ΔΕΝ ΕΝΔΙΑΦΕΡΕΤΑΙ,',\n",
       "       'ΠΑΙΡΝΕΙ ΣΥΓΚΕΚΡΙΜΕΝΑ ΠΡΟΙΟΝΤΑ ΚΑΙ ΔΙΝΕΙ ΠΑΡΑΓΓΕΛΙΑ ΟΤΑΝ ΧΡΕΙΑΖΕΤΑΙ,',\n",
       "       'ΕΝΗΜΕΡΩΩΝΕΤΑΙ ΑΠΟ ΤΟΝ ΚΕΙΜΠΙΝΟ ΚΑΙ ΔΕΝ ΧΡΕΙΑΖΕΤΑΙ ΤΩΡΑ ΚΑΤΙ',\n",
       "       'ΔΕΝ ΕΝΔΙΑΦΕΡΤΑΙ ΠΡΟΣ ΤΟ ΠΑΡΩΝ ΓΙΑ ΤΑ ΠΡΟΙΟΝΤΑ ΜΑΣ,',\n",
       "       'ΑΓΟΡΑΖΕΙ ΜΟΝΟ ΚΑΤΕΨΥΓΜΕΝΑ, ΕΙΝΑΙ ΑΝΑΨΥΚΤΗΡΙΟ',\n",
       "       'ΕΝΗΜΕΡΩΝΕΤΑΙ ΚΑΙ ΑΠΟ ΤΟΝ ΑΝΤΩΝΙΟΥ ΚΑΙ ΟΤΑΝ ΧΡΕΡΙΑΣΤΕΙ ΘΑ ΜΑΣ ΚΑΛΕΣΕΙ Ο ΔΙΟΣ ΓΙΑ ΠΑΡΑΓΓΕΛΙΑ,.',\n",
       "       'ΑΝ ΧΡΕΙΑΣΤΕΙ ΘΑ ΔΩΣΕΙ Ο ΙΔΙΟΣ ΠΑΡΑΓΓΕΛΙΑ ',\n",
       "       'ΠΑΙΡΝΕΙ ΜΟΝΟ TSOUREKI ΑΠΟ ΤΗΝ ΕΤΑΙΡΕΙΑ ΚΑΙ ΘΑ ΔΩΣΕΙ Ο ΙΔΙΟΣ ΟΤΑΝ ΧΡΕΙΑΣΤΕΙ,',\n",
       "       'ΔΕΝ ΕΝΔΙΑΦΕΡΕΤΑΙ ΓΑΙ ΤΑ ΠΡΟΙΟΝΤΑ ΜΑΣ,',\n",
       "       'ΘΑ ΔΩΣΕΙ Ο ΙΔΙΟΣ ΠΑΡΑΓΓΕΛΙΑ ΟΤΑΝ ΧΡΕΙΑΣΤΕΙ, ΕΙΝΑΙ ΤΑΒΕΡΝΑ',\n",
       "       'ΓΝΩΡΙΖΕΙ ΤΑ ΠΡΟΙΟΝΤΑ ΜΑΣ ΑΛΛΑ ΠΡΟΣ ΤΟ ΠΑΡΩΝ ΔΕΝ ΕΝΔΙΑΦΕΡΕΤΑΙ ΓΙΑ ΚΑΤΙ,',\n",
       "       'ΑΛΛΑΓΗ ΕΠΩΝΥΜΙΑΣ -ΖΕΚΗΣ ΧΡΗΣΤΟΣ. ΔΙΝΕΙ ΠΑΡΑΓΓΕΛΙΑ ΣΤΗΝ ΕΤΑΙΡΕΙΑ Ο ΙΔΙΟΣ.',\n",
       "       'ΠΡΟΣ ΤΟ ΠΑΡΟΝ ΔΕΝ ΕΝΔΙΑΦΕΡΕΤΑΙ ΓΙΑ ΤΑ ΠΡΟΙΟΝΤΑ ΜΑΣ,',\n",
       "       'ΨΩΝΙΖΕΙ ΑΠΟ ΠΥΡΡΟ ΚΑΙ ΕΙΝΑΙ ΕΝΗΜΕΡΩΜΕΝΟΣ ΓΙΑ ΤΑ ΠΡΟΙΟΝΤΑ ΜΑΣ,',\n",
       "       'ΠΑΙΡΝΕΙ ΜΟΝΟ ΣΥΓΚΕΚΡΙΜΕΝΑ ΠΡΟΙΟΝΤΑ ΑΠΟ ΤΗΝ ΕΤΑΙΡΕΙΑ(nORDIX)ΚΑΙ ΔΙΝΕΙ Ο ΙΔΙΟΣ ΠΑΡΑΓΓΕΛΙΑ ΟΤΑΝ ΧΡΕΙΑΖΕΤΑΙ,',\n",
       "       'ΔΕΝ ΕΝΔΙΑΦΕΡΕΤΑΙ ΠΡΟΣ ΤΟ ΠΑΡΟΝ ΓΙΑ ΤΑ ΠΡΟΙΟΝΤΑ ΜΑΣ,',\n",
       "       'ΘΑ ΔΩΣΕΙ Ο ΙΔΙΟΣ ΠΑΡΑΓΓΕΛΙΑ ΟΤΑΝ ΧΡΕΙΑΣΤΕΙ.',\n",
       "       'ΓΝΩΡΙΖΕΙ ΤΑ ΠΡΟΙΟΝΤΑ ΜΑΣ ΑΛΛΑ ΠΑΙΡΝΕΙ ΛΙΓΑ ΠΡΑΓΜΑΤΑ ΑΠΟ ΕΜΠΟΡΟ.',\n",
       "       'ΠΑΙΡΝΕΙ ΤΑ ΠΡΟΙΟΝΤΑ ΜΑΣ ΜΟΝΟ ΑΠΟ ΕΜΠΟΡΟ ',\n",
       "       'ΔΙΝΕΙ Ο ΙΔΙΟΣ ΟΤΑΝ ΧΡΕΙΑΖΕΤΑΙ,',\n",
       "       'ΨΩΝΙΖΕΙ -ΜΟΝΟ- ΑΠΟ ΒΟΥΔΡΗ ΚΑΙ ΕΙΝΑΙ ΕΝΗΜΕΡΩΜΕΝΟΣ ΓΙΑ ΤΑ ΠΡΟΙΟΝΤΑ ΜΑΣ.',\n",
       "       'ΨΩΝΙΖΕΙ ΑΠΟ ΝΟΥΣΗ ΚΑΙ ΕΙΝΑΙ ΕΝΗΜΕΡΩΜΕΝΗ ΓΙΑ ΤΑ ΠΡΟΙΟΝΤΑ ΜΑΣ,',\n",
       "       'ΓΝΩΡΙΖΕΙ ΤΑ ΠΡΟΙΟΝΤΑ ΜΑΣ ΑΛΛΑ ΘΑ ΔΩΣΕΙ ΠΑΡΑΓΓΕΛΙΑ ΟΤΑΝ ΧΡΕΙΑΣΤΕΙ Ο ΙΔΙΟΣ.',\n",
       "       'ΘΑ ΔΩΣΕΙ Ο ΙΔΙΟΣ ΠΑΡΑΓΓΕΛΙΑ ΑΝ ΧΡΕΙΑΣΤΕΙ ΚΑΤΙ',\n",
       "       'ΨΩΝΙΖΕΙ ΑΠΟ ΚΩΤΣΗ ΚΑΙ ΕΝΗΜΕΡΩΝΕΤΑΙ ΑΠΟ ΕΚΕΙΝΟΝ',\n",
       "       'ΕΔΩΣΕ ΠΑΡΑΓΓΕΛΙΑ ΣΗΜΕΡΑ bLEND IT CORN ΣΤΟ ΠΥΡΡΟ ΕΙΝΑΙ ΕΝΗΜΕΡΩΜΕΝΟΣ ΓΙΑ ΤΑ ΠΡΙΟΝΤΑ .',\n",
       "       'ΔΙΝΕΙ  ΠΑΡΑΓΓΕΛΙΑ ΣΕ ΟΤΙ ΧΡΕΙΑΖΕΤΑΙ ΣΤΟΝ ΜΑΝΟ. ΠΡΟΣ ΤΟ ΠΑΡΩΝ ΔΕΝ ΕΝΔΙΑΦΕΡΤΑΙ ΓΙΑ ΝΕΑ ΠΡΟΙΟΝΤΑ,',\n",
       "       'ΕΙΝΑΙ ΕΝΗΜΕΡΩΜΕΝΟΣ ΓΙΑ ΤΑ ΠΡΟΙΟΝΤΑ ΜΑΣ  ΠΑΙΡΝΕΙ ΕΛΑΧΙΣΤΑ ΠΡΑΓΜΑΤΑ ΑΠΟ ΕΝΑΝ ΕΜΠΟΡΟ ΚΑΙ ΔΕΝ ΕΝΔΙΑΦΕΡΕΤΑΙ ΓΙΑ ΠΕΡΙΣΣΟΤΕΡΑ\\\\ ΕΧΕΙ ΚΑΤΑΛΟΓΟ ΜΕ ΤΑ ΠΡΟΙΟΝΤΑ ΜΑΣ,',\n",
       "       'ΤΗΛΕΦΩΝΟ ΑΠΟ ΟΚΤΩΒΡΗ ΠΡΟΣ ΤΟ ΠΑΡΩΝ ΔΕΝ ΕΝΔΙΑΦΕΡΟΝΤΑΙ',\n",
       "       'ΔΙΝΕΙ ΠΑΡΑΓΓΕΛΙΕΣ Ο ΥΠΕΥΘΥΝΟΣ ΠΟΥ ΣΥΝΕΡΓΑΖΕΤΑΙ ΚΑΙ ΣΤΗΝ ΜΥΚΟΝΟ ΜΕ ΤΗΝ ΙΔΙΑ ΕΠΩΝΥΜΙΑ 2289026206 Κος Μαριος προς το παρων δεν ενδιαφερεται,',\n",
       "       \"ΔΙΝΕΙ Ο ΙΔΙΟΣ ΟΤΑΝ ΧΡΕΙΑΖΕΤΑΙ ΠΑΡΑΓΓΕΛΙΑ'\",\n",
       "       'ΕΙΝΑΙ ΚΑΦΕ ΔΕΝ ΕΝΔΙΑΦΕΡΕΤΑΙ ΠΡΟΣ ΤΟ ΠΑΡΩΝ',\n",
       "       'ΕΝΗΜΕΡΩΝΕΤΑΙ ΑΠ ΤΟΝ ΠΥΡΡΟ.', 'ΕΝΗΜΕΡΩΝΕΤΑΙ ΑΠΟ ΤΟΝ ΠΥΡΡΟ.',\n",
       "       'ΕΝΗΜΕΡΩΝΕΤΑΙ ΜΟΝΟ ΑΠΟ ΠΥΡΡΟ,',\n",
       "       'ΨΩΝΙΖΕΙ ΑΠΟ ΤΟΝ ΒΟΥΔΡΗ ΚΑΙ ΕΝΗΜΕΡΩΝΕΤΑΙ  ΜΟΝΟ ΑΠΟ ΕΚΕΙΝΟΝ .. ',\n",
       "       'ΕΙΝΑΙ ΕΝΗΜΕΡΩΜΕΝΟΣ ΓΙΑ ΤΑ ΠΡΟΙΟΝΤΑ ΜΑΣ ΑΠΟ ΤΟΝ ΕΜΠΟΡΟ ΔΕΝ ΧΡΕΙΑΖΕΤΑΙ ΚΑΤΙ ΑΛΛΟ, ',\n",
       "       'ΔΕΝ ΕΝΔΙΑΦΕΡΕΤΑΙ ΤΩΡΑ ΓΙΑ ΚΑΤΙ ΕΝΗΜΕΡΩΝΕΤΑΙ ΑΠΟ ΜΑΝΟ',\n",
       "       'ΔΕΝ ΕΔΝΙΑΦΕΡΤΑΙ',\n",
       "       'ΨΩΝΙΖΕΙ ΑΠΟ ΠΥΡΡΟ ΚΑΙ ΕΝΗΜΕΡΩΝΕΤΑΙ ΜΟΝΟ ΑΠΟ ΕΚΕΙΝΟΝ',\n",
       "       'ΔΕΝ ΣΥΝΕΡΓΑΖΕΤΑΙ ΜΑΖΙ ΜΑΣ,',\n",
       "       'ΠΡΟΜΗΘΕΥΕΤΑΙ ΑΠΟ ΚΕΙΜΠΙΝΟ ΔΕΝ ΧΡΕΙΑΖΕΤΑΙ  ΚΑΤΙ. ',\n",
       "       'ΕΙΝΑΙ ΕΝΗΜΕΡΩΜΕΝΟΣ ΔΕΝ ΕΝΔΙΑΦΕΡΕΤΑΙ ΤΩΡΑ,',\n",
       "       'ΘΑ ΔΩΣΕΙ ΠΑΡΑΓΓΕΛΙΑ ΣΤΟΝ ΠΩΛΗΤΗ ΟΤΑΝ ΧΡΕΙΑΖΕΤΑΙ ΚΑΤΙ',\n",
       "       'ΜΙΛΑΕΙ ΚΑΤΕΥΘΕΙΑΝ ΜΕ ΔΗΜΗΤΡΙΑΔΗ ΚΑΙ ΕΝΗΜΕΡΩΝΕΤΑΙ ΑΠΟ ΕΚΕΙΝΟΝ ΓΙΑ ΟΤΙ ΧΡΕΙΑΖΕΤΑΙ,',\n",
       "       'ΘΑ ΔΩΣΕΙ Ο ΙΔΙΟΣ ΟΤΑΝ ΧΡΕΙΑΣΤΕΙ,',\n",
       "       'ΕΔΩΣΕ ΣΤΟΝ ΠΩΛΗΤΗ ΠΑΡΑΓΓΕΛΙΑ  ΚΑΙ ΘΕΛΕΙ ΚΑΘΕ 15 ΗΜΕΡΕΣ ΤΗΛ',\n",
       "       'ΨΩΝΙΖΕΙ ΑΠΟ ΕΡΔΑ ΚΙΑ ΕΝΗΜΕΡΩΝΕΤΑΙ ΑΠΟ ΤΟΝ ΠΩΛΗΤΗ ΓΙΑ ΤΑ ΠΡΟΙΟΝΤΑ,',\n",
       "       'ΨΩΝΙΖΕΙ ΑΠΟ ΕΡΔΑ  ΘΕΛΕΙ ΚΑΤΑΛΟΓΟ ΜΕ ΤΑ ΠΡΟΙΟΝΤΑ ΜΑΣ ΕΔΩΣΕ ΠΑΡΑΓΓΕΛΙΑ ΕΝΑ P,FIESTA CORN.',\n",
       "       'ΔΕΝ ΕΝΔΙΑΦΕΡΕΤΑΙ ΓΙΑ ΤΑ ΠΡΟΙΟΝΤΑ ΜΑΣ,',\n",
       "       'ΨΩΝΙΖΕΙ ΜΟΝΟ ΑΠΟ ΡΟΥΝΤΑ,', 'ΨΩΝΙΖΕΙ ΑΠΟ ΛΕΤΤΑ ΜΟΝΟ  ', 'nan',\n",
       "       'nan', 'δινει παραγγελία οταν χρειαζεται ο ιδιος ',\n",
       "       'ΕΔΩΣΕ ΠΑΡΑΓΓΕΛΙΑ TWIN CHOCO ,BINACA GR KAI NEO ΠΡΟΙΟΝ CHOCOLATIER DELICECOVER CHOCO,',\n",
       "       'ΔΕΝ ΘΑ ΧΡΕΙΑΣΤΕΙ ΠΡΟΙΟΝΤΑ ΜΑΣ ΓΙΑ ΚΑΠΟΙΟ ΔΙΑΣΤΗΜΑ',\n",
       "       'ΠΑΡΑΓΓΕΛΙΑ 1 SALTY CARAMEL',\n",
       "       'ΠΑΡΑΓΓΕΛΙΑ 2PRINCESS KAI 2 PRINCELUX,',\n",
       "       'ΕΔΩΣΕ ΠΑΡΑΓΓΕΛΙΑ ΣΤΟΝ ΠΩΛΗΤΗ', 'ΔΕΝ ΕΝΔΙΑΦΕΡΕΤΑΙ',\n",
       "       'ΠΑΡΑΓΓΕΛΙΑ 1 bECAHMEL KASERI', 'δεν ενδιαφερεται για παραγγελια.',\n",
       "       'δινει παραγγελια ΜΟΝΟ στον ΠΥΡΡΟ',\n",
       "       'ΕΔΩΣΕ ΠΑΡΑΓΓΕΛΙΑ ΕΧΘΕΣ ΣΤΟΝ ΠΩΛΗΤΗ ΠΟΥ ΠΕΡΑΣΕ.',\n",
       "       'ΘΑ ΔΩΣΕΙ Ο ΙΔΙΟΣ ΠΑΡΑΓΓΕΛΙΑ.',\n",
       "       'ΔΕΝ ΕΝΔΙΑΦΕΡΟΝΤΑΙ ΓΙΑ ΠΑΡΑΓΓΕΛΙΑ.',\n",
       "       'ΘΑ ΔΩΣΟΥΝ ΠΑΡΑΓΓΕΛΙΑ ΟΙ ΙΔΙΟΙ ΣΤΟΝ ΝΟΥΣΗ', 'ΔΕΝ ΕΝΔΙΑΦΕΡΕΤΑΙ ',\n",
       "       'ΔΕΝ ΕΝΔΙΑΦΕΡΕΤΑΙ', 'ΠΡΟΣ ΤΟ ΠΑΡΟΝ ΔΦΕ ΕΝΔΙΑΦΕΡΕΤΑΙ',\n",
       "       'ΕΔΩΣΕ ΠΑΡΑΓΓΕΛΙΑ ΜΕΣΩ ΝΟΥΣΗ ΓΙΑ ΜΑΜΑS ΜΕ 10 κιλο ανευ',\n",
       "       'εδωσε ο ιδιος παραγγελια στον ΝΟΥΣΗ ΧΡ.',\n",
       "       'ΔΕΝ ΕΝΔΙΑΦΕΡΕΤΑΙ ΤΩΡΑ ΓΙΑ ΠΑΡΑΓΓΕΛΙΑ Θ ΔΩΣΕΙ Η ΙΔΙΑ',\n",
       "       'ΔΕΝ ΕΝΔΙΑΦΕΡΤΑΙ,',\n",
       "       'ΘΑ ΔΩΣΣΕΙ ΠΑΡΑΓΓΕΛΙΑ CARLEX SPRAY OTAN ΧΡΕΙΑΣΤΕΙ,',\n",
       "       'ΤΗΛ ΕΠΙΚΟΙΝΩΝΙΑΣ 6938871927  ΔΕΝ ΕΝΔΙΑΦΕΡΕΤΙΑ ΓΙΑ ΠΑΡΑΓΓΕΛΙΑ ΘΑ ΔΩΣΕΙ ΣΤΟΝ ΠΩΛΗΤΗ',\n",
       "       'ΘΑ ΔΩΣΕΙ Η ΙΔΙΑ ΠΑΡΑΓΓΕΛΙΑ',\n",
       "       'ΨΝΙΖΕΙ ΑΠΟ ΕΡΔΑ  ΕΧΕΙ ΕΔΡΑ ΣΤΗΝ ΑΜΦΙΛΟΧΙΑ,',\n",
       "       'θα σωσει ο ιδιος παραγγελια ειναι ενημερωμενος για το πακετο mamas',\n",
       "       'ΔΕΝ ΕΝΔΙΑΦΕΡΕΤΑΙ ΓΙΑ ΠΑΡΑΓΓΕΛΙΑ  ΔΙΝΕΙ ΟΤΑΝΑ ΧΡΕΙΑΖΕΤΑΙ ΤΟ MAMAS MΑΛΛΟΝ ΔΕΝ ΘΑ ΤΟ ΞΑΝΑΧΡΕΙΑΣΤΟΥΝ',\n",
       "       'ΔΕΝ ΕΝΔΙΑΦΕΡΕΤΑΙ', 'ΔΙΝΕΙ ΠΑΡΑΓΓΕΛΙΑ ΣΤΟΝ ΚΕΙΜΠΙΝΟ  ΟΚ.',\n",
       "       'ΠΑΡΑΓΓΕΛΙΑ 1 ZELLA PIZZA (NEA ΤΟΠΟΘΕΤΗΣΗ)',\n",
       "       'ΨΩΝΙΖΕΙ ΑΠΟ ΚΕΙΜΠΙΝΟ ΜΟΝΟ', 'ΔΕΝ ΕΝΔΙΑΦΕΡΕΤΑΙ,',\n",
       "       'ΔΕΝ ΕΝΔΙΑΦΕΡΕΤΑΙ ΓΙΑ ΤΑ ΠΡΟΙΟΝΤΑ ΜΑΣ',\n",
       "       'ΔΕΝ ΕΝΔΙΑΦΕΡΤΑΙ ΓΙΑ ΤΑ ΠΡΟΙΟΝΤΑ ΜΑΣ,',\n",
       "       'ΘΑ ΠΑΡΕΙ ΟΤΑΝ ΧΡΕΙΑΣΤΕΙ ΑΠΟ ΑΝΤΩΝΙΟΥ ΔΕΝ ΕΝΔΙΑΦΕΡΕΤΑΙ ΑΠΟ ΕΜΑΣ,',\n",
       "       'δεν ενδιαφερεται', 'θα δωσει η ιδια αν χρειαστει κατι',\n",
       "       'ΔΕΝ ΕΝΔΙΑΦΕΡΕΤΑΙ,', 'ΕΔΩΣΕ ΠΑΡΑΓΓΕΛΙΑ ΕΝΑ PROZYL PASTE',\n",
       "       'ΔΕΝ ΕΝΔΙΑΦΕΡΤΑΙ ΓΙΑ ΠΑΡΑΓΓΕΛΙΑ', 'ΕΔΩΣΕ ΠΑΡΑΓΓΕΛΙΑ ΣΤΟΝ ΠΥΡΟ',\n",
       "       'ΔΕΝ ΕΝΔΙΑΦΕΡΤΑΙ,', 'ΕΔΩΣΕ ΠΑΡΑΓΓΕΛΙΑ ',\n",
       "       'ΔΕΝ ΧΡΕΙΑΕΤΑΙ ΚΑΤΙ  ΕΙΠΕ ΝΑ ΤΟΝ ΚΑΛΕΣΟΥΜΕ ΜΕΤΑ ΤΙΣ ΓΙΟΡΤΕΣ.',\n",
       "       'ΔΕΝ ΕΝΔΙΑΦΕΡΤΑΙ ΓΙΑ ΠΑΡΑΓΓΕΛΙΑ',\n",
       "       'ΘΑ ΔΩΣΕΙ ΠΑΡΑΓΓΕΛΙΑ ΑΡΓΟΤΕΡΑ ΑΝ ΧΡΕΙΑΣΤΕΙ ΣΤΟΝ ΒΟΥΔΡΗ.',\n",
       "       'ΘΑ ΔΩΣΕΙ Ο ΙΔΙΟΣ ΑΝ ΧΡΕΙΑΣΤΕΙ,',\n",
       "       'δεν ενδιαφερεται για παραγγελια', 'δεν ενδιαφερεται,',\n",
       "       'ΔΕΝ ΕΝΔΙΑΦΕΡΕΤΑΙ ΑΥΤΗ ΤΗΝ ΕΒΔΟΜΑΔΑ',\n",
       "       'ΔΕΝ ΕΧΕΙ ΑΚΟΜΗ ΑΠΟΦΑΣΙΣΕΙ ΠΟΙΑ ΠΡΟΙΟΝΤΑ ΘΑ ΠΑΡΕΙΙ',\n",
       "       'ΔΕΝ ΕΝΔΙΑΦΕΡΕΤΑΙ', 'ΔΕΝ ΦΤΙΑΧΝΕΙ ΤΙΠΟΤΑ  ΤΑ ΠΑΙΡΝΕΙ ΕΤΟΙΜΑ',\n",
       "       'ΘΑ ΔΩΣΕΙ Ο ΙΔΙΟΣ ΟΤΑΝ ΧΡΕΙΑΣΤΕΙ',\n",
       "       'ΘΑ ΔΩΣΕΙ Ο ΙΔΙΟ ΠΑΡΑΓΓΕΛΙΑ ΟΤΑΝ ΧΡΕΙΑΣΤΕΙ',\n",
       "       'ΘΑ ΔΩΣΕΙ ΠΑΡΑΓΓΕΛΙΑ ΣΤΟΝ ΒΑΛΑΡΗ ΟΤΑΝ ΧΡΕΙΑΑΣΤΕΙ,',\n",
       "       'ΕΧΕΙ ΔΩΣΕΙ ΣΤΟΝ ΜΑΝΟ ΠΑΡΑΓΓΕΛΙΑ', 'ΔΕΝ ΕΝΔΙΑΦΕΡΕΤΑΙ',\n",
       "       'ΑΝ ΧΡΕΙΑΣΤΕΙ ΚΑΤΙ ΘΑ ΠΑΡΕΙ ΤΟΝ ΕΜΠΟΡΟ',\n",
       "       'ΔΕΝ ΕΝΔΙΑΦΕΡΕΤΑΙ ΓΙΑ ΠΑΡΑΓΓΕΛΙΑ',\n",
       "       'ΔΕΝ ΕΝΔΙΑΦΕΡΕΤΑΙ ΝΑ ΨΩΝΙΖΕΙ ΑΠΟ ΕΜΑΣ ΜΠΕΡΔΕΥΕΤΑΙ ΚΑΙ ΔΙΝΕΙ ΜΟΝΟ ΣΤΟΝ ΕΜΠΟΡΟ',\n",
       "       'ΔΕΝ ΕΝΔΙΑΦΕΡΤΑΙ ΓΙΑ ΤΑ ΠΡΟΙΟΝΤΑ ΜΑΣ,',\n",
       "       'ΔΕΝ ΕΝΔΙΑΦΕΡΕΤΑΙ ΘΑ ΔΩΣΕΙ ΣΤΤΟΝ ΚΕΙΜΠΙΝΟ',\n",
       "       'ΘΑ ΣΩΣΕΙ ΠΑΡΑΓΓΕΛΙΑ ΟΤΑΝ ΧΡΕΙΑΣΤΕΙ,', 'ΔΕΝ ΕΝΔΙΑΦΕΡΕΤΑΙ',\n",
       "       'ΔΕΝ ΕΝΔΙΑΦΕΡΕΤΑΙ ', 'ΘΑ ΔΩΣΕΙ ΠΑΡΑΓΓΕΛΙΑ Ο ΙΔΙΟΣ',\n",
       "       'ΔΕΝ ΕΝΔΙΑΦΕΡΕΤΑΙ', 'ΔΕΝ ΕΝΔΙΑΦΕΡΕΤΑΙ',\n",
       "       'ΠΑΡΑΓΓΕΛΙΑ 1 BECAHMEL KASERI', 'ΘΑ ΣΩΣΟΥΝ ΟΤΑ ΧΡΕΙΑΣΤΟΥΝ ΚΑΤΙ  ',\n",
       "       'ΔΕΝ ΕΝΔΙΑΦΕΡΕΤΑΙ', 'εδωσε παραγγελια στον πωλητη mamas cake',\n",
       "       'εδωσε παραγγελια 7 velex 10 kl',\n",
       "       'ΕΔΩΣΕ ΠΑΡΑΓΓΕΛΙΑ ΚΑΙ ΜΑΜΑS ΠΑΚΕΤΟ',\n",
       "       'ΔΕΝ ΕΝΔΙΑΦΕΡΕΤΑΙ ΓΙΑ ΠΑΡΑΓΓΕΛΙΑ',\n",
       "       'ΕΔΩΣΕ ΠΑΡΑΓΓΕΛΙΑ 4 PRINCESS 2 PRINCELUX KAI 1 PROKORN',\n",
       "       'ΘΑ ΔΩΣΕΙ Ο ΙΔΙΟ ΠΑΡΑΓΓΕΛΙΑ ', 'ΘΙΑ ΔΩΣΕΙ Ο ΙΔΙΟΣ ΑΝ ΧΡΕΙΑΣΤΕΙ.',\n",
       "       'ΕΔΩΣΕ ΠΑΡΑΓΓΕΛΙΑ 4 ΜAMAS +1 ANEY',\n",
       "       'ΔΕΝ ΕΔΝΔΙΑΦΕΡΕΤΑΙ ΓΙΑ ΠΑΡΑΓΓΕΛΙΑ',\n",
       "       'ΕΧΕΙ ΔΩΣΕΙ ΠΑΡΑΓΓΕΛΙΑ ΣΤΟΝ ΠΩΛΗΤΗ ΓΙΑ MAMAS',\n",
       "       'ΔΕΝ ΕΝΔΙΑΦΕΡΟΝΤΑΙ ΓΙΑ ΠΑΡΑΓΓΕΛΙΑ ΨΩΝΙΖΟΥΝ ΑΠΟ ΕΜΠΟΡΟ', 'nan',\n",
       "       'ΘΑ ΔΩΣΕΙ Ο ΙΔΙΟΣ ΑΝ ΧΡΕΙΑΣΤΕΙ',\n",
       "       'ΔΙΝΕΙ Ο ΙΔΙΟΣ ΟΤΑΝ ΧΡΕΙΑΖΕΤΑΙ ΣΤΟΝ ΠΥΡΡΟ', 'ΔΕΝ ΕΝΔΙΑΦΕΡΕΤΑΙ',\n",
       "       'ΕΔΩΣΕ ΣΤΟΝ ΒΟΥΔΡΗ',\n",
       "       'ΠΑΡΑΓΓΕΛΙΑ ΕΝΑ CHOCOLATIER DELICECOVER SOKOLATA',\n",
       "       'ΔΕΝ ΕΝΔΙΑΦΕΡΕΤΑΙ ΓΙΑ ΠΑΡΑΓΓΕΛΙΑ', 'ΔΕΝ ΕΝΔΙΑΦΕΡΕΤΑΙ',\n",
       "       'ΔΕΝ ΕΝΔΙΑΦΕΡΕΤΑΙ ΓΙΑ ΠΑΡΑΓΓΕΛΙΑ', 'ΔΕΝ ΕΝΔΙΑΦΕΡΕΤΑΙ',\n",
       "       'ΕΔΩΣΕ ΠΑΡΑΓΓΕΛΙΑ ΣΤΟΝ ΝΟΥΣΗ', 'ΔΕΝ ΕΝΔΙΑΦΕΡΕΤΑΙ',\n",
       "       'ΔΕΝ ΕΝΔΙΑΦΕΡΕΤΑΙ', 'ΔΕΝ ΕΝΔΙΑΦΕΡΤΑΙ ΓΙΑ ΤΑ ΠΡΟΙΟΝΤΑ ΜΑΣ',\n",
       "       'ΕΔΩΣΕ ΠΑΡΑΓΓΕΛΙΑ 1 BECHAMEL KASERI', 'ΔΙΝΕΙ ΣΤΟΝ ΓΙΑΝΝΑΚΟ ',\n",
       "       'ΔΙΝΕΙ ΟΤΙ ΧΡΕΙΑΖΕΤΑΙ ΣΤΟΝ ΝΟΥΣΗ, ΕΔΩΣΕ ΑΥΤΗ ΤΗΝ ΕΒΔΟΜΑΔΑ',\n",
       "       'ΔΙΝΕΙ Ο ΙΔΙΟΣ ΟΤΑΝ ΧΡΕΙΑΖΕΤΑΙ',\n",
       "       'ΔΕΝ ΕΝΔΙΑΦΕΡΕΤΑΙ  ΕΙΧΕ ΠΑΡΕΙ DIP WHITE ΠΡΙΝ ΚΛΕΙΣΟΥΜΕ',\n",
       "       'ΔΕΝ ΕΝΔΙΑΦΕΡΕΤΑΙ ΓΙΑ ΠΑΡΑΓΓΕΛΙΑ. ΘΑ ΔΩΣΕΙ ΜΟΝΟΣ ΤΟΥ ΑΝ ΧΡΕΙΑΣΤΕΙ ΚΑΤΙ',\n",
       "       'ΔΕΝ ΕΝΔΙΑΦΕΡΕΤΑΙ ΓΙΑ ΠΑΡΑΓΓΕΛΙΑ',\n",
       "       'ΠΑΙΡΝΕΙ ΜΟΝΟ ΑΠΟ ΓΙΑΝΝΑΚΟ ΚΑΙ ΔΙΝΕΙ Σ ΕΚΕΙΝΟΝ ΠΑΡΑΓΓΕΛΙΑ',\n",
       "       'δεν ενδιαφερεται αυτη την εβδομαδα για παραγγελια',\n",
       "       'ΑΝ ΘΑ ΧΡΕΙΑΣΤΕΙ ΠΑΡΑΓΓΕΛΙΑ ΘΑ ΔΩΣΕΙ Ο ΙΔΙΟΣ,,,',\n",
       "       'ΘΑ ΔΩΣΕΙ Ο ΙΔΙΟΣ ΠΑΡΑΓΓΕΛΙΑ ΑΝ ΧΡΕΙΑΣΤΕΙ ',\n",
       "       'ΘΑ ΔΩΣΕΙ Ο ΙΔΙΟΣ ΟΤΑΝ ΧΡΕΙΑΣΤΕΙ,',\n",
       "       'ΔΕΝ ΕΝΔΙΑΦΕΤΑΙ ΓΙΑ ΠΑΡΑΓΓΕΛΙΑ.',\n",
       "       'ΔΕΝ ΕΝΔΙΑΦΕΡΕΤΑΙ ΓΙΑ ΠΑΡΑΓΓΕΛΙΑ ', 'ΔΕΝ ΕΝΔΙΑΦΕΡΕΤΑΙ.',\n",
       "       'ΔΕΝ ΕΝΔΙΑΦΕΡΕΤΑΙ ΨΩΝΙΖΕΙ ΜΟΝΟ ΑΠΟ ΑΝΤΩΝΙΟΥ',\n",
       "       'ΔΕΝ ΕΝΔΙΑΦΕΡΕΤΑΙ ΓΙΑ ΠΑΡΑΓΓΕΛΙΑ ',\n",
       "       'ΔΕΝ ΕΝΔΙΑΦΕΡΕΤΑΙ ΓΙΑ ΠΑΡΑΓΓΕΛΙΑ,',\n",
       "       'ΔΕΝ ΕΝΔΙΑΦΕΡΕΤΑΙ ΓΙΑ ΠΑΡΑΓΓΕΛΙΑ.',\n",
       "       'ΕΔΩΣΕ ΠΑΡΑΓΓΕΛΙΑ ΕΝΑ PROZYL PASTE,',\n",
       "       'ΔΕΝ ΕΝΔΙΑΦΕΡΕΤΑΙ ΓΙΑ ΠΑΡΑΓΓΕΛΙΑ ',\n",
       "       'ΔΕΝ ΕΝΔΙΑΦΕΡΕΤΑΙ ΓΙΑ ΠΑΡΑΓΓΕΛΙΑ ',\n",
       "       'ΕΧΕΙ ΔΩΣΕΙ ΠΑΡΑΓΓΕΛΙΑ ΣΤΟΝ ΕΜΠΟΡΟ',\n",
       "       'ΕΔΩΣΕ ΣΤΟΝ ΚΑΠΕΛΟ ΠΑΡΑΓΓΕΛΙΑ.', 'ΔΕΝ ΕΝΔΙΑΦΕΡΕΤΑΙ ΓΙΑ ΠΑΡΑΓΓΕΛΙΑ',\n",
       "       'ΔΙΝΕΙ ΜΟΝΟ ΣΤΟΝ ΕΜΠΟΡΟ ΠΑΡΑΓΓΕΛΙΑ ..ΔΕΝ ΤΟΝ ΕΝΔΙΑΦΕΡΕΙ ΝΑ ΤΟΝ ΕΝΗΜΕΡΩΝΟΥΜΕ ',\n",
       "       'ΔΕΝ ΕΝΔΙΑΦΕΡΕΤΑΙ ΓΙΑ ΠΑΡΑΓΓΕΛΙΑ  ΔΙΝΕΙ ΜΟΝΟ ΣΤΟΝ ΕΜΠΟΡΟ',\n",
       "       'ΔΕΝ ΕΝΔΙΑΦΕΡΕΤΑΙ ΓΙΑ ΠΑΡΑΓΓΕΛΙΑ',\n",
       "       'ΔΕΝ ΕΝΔΙΑΦΕΡΕΤΑΙ ΠΡΟΣ ΤΟ ΠΑΡΑΩΝ ΓΙΑ ΤΑ ΠΡΟΙΟΝΤΑ ΜΑΣ,',\n",
       "       'ΔΕΝ ΕΝΔΙΑΦΕΡΕΤΑΙ ΓΙΑ ΠΑΡΑΓΓΕΛΙΑ.',\n",
       "       'ΔΕΝ ΕΝΔΙΑΦΕΡΕΤΑΙ ΓΙΑ ΠΑΡΑΓΓΕΛΙΑ',\n",
       "       'ΔΕΝ ΕΝΔΙΑΦΕΡΕΤΑΙ ΓΙΑ ΠΑΡΑΓΓΕΛΙΑ',\n",
       "       'ΔΕΝ ΕΝΔΙΑΦΕΡΤΑΙ ΓΙΑ ΠΑΡΑΓΓΕΛΙΑ.',\n",
       "       'ΔΕΝ ΕΝΔΙΑΦΕΡΕΤΑΙ ΓΙΑ ΤΑ ΠΡΟΙΟΝΤΑ ΜΑΣ',\n",
       "       'ΑΝ ΧΡΕΙΑΣΤΕΙ ΠΑΡΑΓΓΕΛΙΑ ΘΑ ΑΠΕΥΘΥΝΘΕΙ ΣΤΟΝ ΕΜΠΟΡΟ.',\n",
       "       'ΔΕΝ ΕΝΔΙΑΦΕΡΕΤΑΙ ΓΙΑ ΠΑΡΑΓΓΕΛΙΑ ΑΥΤΗ ΤΗΝ ΕΒΔΟΜΑΔΑ',\n",
       "       'ΔΙΝΕΙ ΣΤΟΝ ΚΕΙΜΠΙΝΟ ΟΤΑΝΑ ΧΡΕΙΑΖΕΤΑΙ,',\n",
       "       'ΘΑ ΔΩΣΕΙ Ο ΙΔΙΟ ΠΑΡΑΓΓΕΛΙΑ ΟΤΑΝ ΧΡΕΙΑΣΤΕΙ,',\n",
       "       'ΔΕΝ ΕΝΔΙΑΦΕΡΕΤΑΙ ΓΙΑ ΠΑΡΑΓΓΕΛΙΑ',\n",
       "       'ΔΕΝ ΕΝΔΙΑΦΕΡΕΤΑΙ ΓΙΑ ΠΑΡΑΓΓΕΛΙΑ ΘΑ ΔΩΣΕΙ Ο ΙΔΙΟΣ ΟΤΑΝ ΧΡΕΙΑΣΤΕΙ,',\n",
       "       'ΔΕΝ ΕΝΔΙΑΦΕΡΕΤΑΙ ΓΙΑ ΠΑΡΑΓΓΕΛΙΑ ',\n",
       "       'ΔΕΝ ΕΝΔΙΑΦΕΡΕΤΑΙ ΓΙΑ ΠΑΡΑΓΓΕΛΙΑ/.',\n",
       "       'ΘΕΛΕΙ ΝΑ ΨΩΝΙΖΕΙ ΜΟΝΟ ΑΠΟ ΖΑΦΕΙΡΑΤΟ',\n",
       "       'ΔΕΝ ΕΝΔΙΑΦΕΡΕΤΑΙ ΓΙΑ ΠΑΡΑΓΓΕΛΙΑ ΨΩΝΙΖΕΙ ΑΠΟ ΤΟΝ ΕΜΠΟΡΟ..',\n",
       "       'ΔΕΝ ΕΝΔΙΑΦΕΡΕΤΑΙ ΓΙΑ ΠΑΡΑΓΓΕΛΙΑ ',\n",
       "       'ΟΤΑΝ ΧΡΕΙΑΖΕΤΑΙ ΚΑΤΙ ΕΠΙΚΟΙΝΩΝΕΙ Ο ΙΔΙΟΣ  ΔΕΝ ΕΝΔΙΑΦΕΡΕΤΑΙ ΓΙΑ ΠΑΡΑΓΓΕΛΙΑ,',\n",
       "       'ΔΕΝ ΕΝΔΙΑΦΕΡΕΤΑΙ ΓΙΑ ΠΑΡΑΓΓΕΛΙΑ',\n",
       "       'ΕΔΩΣΕ ΠΑΡΑΓΓΕΛΙΑ 1 bECHAMEL KASERI.',\n",
       "       'ΔΕΝ ΕΝΔΙΑΦΕΡΕΤΑΙ ΓΙΑ ΠΑΡΑΓΓΕΛΙΑ.',\n",
       "       'ΔΕΝ ΕΝΔΙΑΦΕΡΤΑΙ ΓΙΑ ΠΑΡΑΓΓΕΛΙΑ.',\n",
       "       'ΔΕΝ ΕΝΔΙΑΦΕΡΤΑΙ ΓΙΑ ΠΑΡΑΓΓΕΛΙΑ.',\n",
       "       'ΔΙΝΕΙ ΠΑΡΑΓΓΕΛΙΑ ΣΤΟΝ ΓΙΑΝΝΑΚΟ.',\n",
       "       'ΔΕΝ ΕΝΔΙΑΦΕΡΤΑΙ ΓΙΑ ΠΑΡΑΓΓΕΛΙΑ.', 'ΘΑ ΔΩΣΕΙ Ο ΙΔΙΟΣ ΠΑΡΑΓΓΕΛΙΑ.',\n",
       "       'ΔΕΝ ΕΝΔΙΑΦΕΡΕΤΑΙ ΓΙΑ ΠΑΡΑΓΓΕΛΙΑ.',\n",
       "       'ΘΑ ΔΩΣΕΙ ΠΑΡΑΓΓΕΛΙΑ ΟΤΑΝ ΧΡΕΙΑΣΤΕΙ Ο ΙΔΙΟΣ',\n",
       "       'ΘΑ ΔΩΣΕΙ Ο ΙΔΙΟΣ ΟΤΑΝ ΧΡΕΙΑΣΤΕΙ ΠΑΡΑΓΓΕΛΙΑ',\n",
       "       'ΔΕΝ ΕΝΔΙΑΑΦΕΡΕΤΑΙ ΓΙΑ ΠΑΡΑΓΓΕΛΙΑ',\n",
       "       'ΑΝ ΧΡΕΙΑΣΤΕΙ ΚΑΤΙ ΘΑ ΚΑΛΕΣΕΙ Ο ΙΔΙΟΣ',\n",
       "       'ΔΕΝ ΕΝΔΙΑΦΕΡΕΤΑΙ ΓΙΑ ΠΑΡΑΓΓΕΛΙΑ', 'ΕΧΕΙ ΔΩΣΕΙ ΣΤΟΝ ΑΝΤΩΝΙΟΥ',\n",
       "       'ΔΕΝ ΕΝΔΙΑΦΕΡΤΑΙ ΓΙΑ ΠΑΡΑΓΓΕΛΙΑ',\n",
       "       'ΘΑ ΣΩΣΕΙ Ο ΙΔΙΟΣ ΟΤΑΝ ΧΡΕΙΑΣΤΕΙ,',\n",
       "       'ΔΕΝ ΕΝΔΙΑΦΕΡΤΑΙ ΓΙΑ ΠΑΡΑΓΓΕΛΙΑ', 'ΕΔΩΣΕ ΠΑΡΑΓΓΕΛΙΑ ΣΤΟΝ ΠΩΛΗΤΗ',\n",
       "       'ΔΕΝ ΕΝΔΙΑΦΕΡΕΤΑΙ ΓΙΑ ΠΑΡΑΓΓΕΛΙΑ', 'ΔΕΝ ΕΝΔΙΑΦΕΡΕΤΑΙ ',\n",
       "       'ΘΑ ΔΩΣΕΙ Ο ΙΔΙΟΣ ΟΤΑΝ ΧΡΕΙΑΣΤΕΙ,',\n",
       "       'ΘΑ ΔΩΣΕΙ Ο ΙΔΙΟΣ ΑΝ ΧΡΕΙΑΣΤΕΙ ΚΑΤΙ', 'ΔΕΝ ΕΝΔΙΑΦΕΡΕΤΑΙ',\n",
       "       'ΕΔΩΣΕ ΠΑΡΑΓΓΕΛΙΑ ΣΤΟΝ ΕΜΠΟΡΟ.',\n",
       "       'ΔΕΝ ΕΝΔΙΑΦΕΡΕΤΑΙ ΓΙΑ ΝΕΑ ΠΡΙΟΙΝΤΑ,',\n",
       "       'θα δωσει εκεινος παραγγελια στον ΚΑΠΕΛΟ ΧΡ.',\n",
       "       'ΘΑ ΔΩΣΕΙ Ο ΙΔΙΟΣ ΣΤΟΝ ΕΜΠΟΡΟ', 'ΕΔΩΣΕ ΠΑΡΑΓΓΕΛΙΑ ΣΤΟΝ ΠΩΛΗΤΗ',\n",
       "       'ΕΧΕΙ ΔΩΣΕΙ ΠΑΡΑΓΓΕΛΙΑ ΣΤΟΝ ΕΡΔΑ',\n",
       "       'ΔΙΝΕΙ ΠΑΡΑΓΓΕΛΙΑ ΜΟΝΟ ΣΤΟΝ ΛΕΤΤΑ  ΔΕΝ ΤΗΝ ΕΝΔΙΑΦΕΡΕΙ ΝΑ ΤΝ ΕΝΗΜΕΡΩΝΟΥΜΕ',\n",
       "       'ΕΔΩΣΕ ΠΑΡΑΓΓΕΛΙΑ ΣΤΟΝ ΚΩΤΣΗ,',\n",
       "       'ΕΔΩΣΕ ΠΑΡΑΓΓΕΛΙΑ ΣΤΟΝ  ΕΜΠΟΡΟ ΨΩΝΙΖΕΙ  ΜΟΝΟ ΑΠΟ ΕΚΕΙΝΟΝ ΚΑΙ ΕΝΗΜΕΡΩΝΕΤΑΙ',\n",
       "       'ΑΝ ΧΡΕΙΑΣΤΕΙ ΚΑΤΙ ΘΑ ΔΩΣΕΙ Ο ΙΔΙΟΣ,',\n",
       "       'ΕΔΩΣΕ ΠΑΡΑΓΓΕΛΙΑ 1 PANACOTTA', 'ΕΔΩΣΕ ΠΑΡΑΓΓΕΛΙΑ ΣΤΟΝ ΠΩΛΗΤΗ',\n",
       "       'ΕΔΩΣΕ ΠΑΡΑΓΓΕΛΙΑ ΣΤΟΝ ΠΩΛΗΤΗ.',\n",
       "       'ΘΑ ΔΩΣΕΙ Ο ΙΔΙΟΣ ΟΤΑΝ ΧΡΕΙΑΣΤΕΙ.', 'ΕΔΩΣΕ ΠΑΡΑΓΓΕΛΙΑ ΣΤΟΝ ΠΩΛΗΤΗ',\n",
       "       'ΔΕΝ ΕΝΔΙΑΦΕΡΕΤΑΙ ΓΙΑ ΠΑΡΑΓΓΕΛΙΑ ',\n",
       "       'ΔΕΝ ΕΝΔΙΑΦΕΡΕΤΑΙ ΓΙΑ ΠΑΡΑΓΓΕΛΙΑ',\n",
       "       'ΕΔΩΣΕ ΠΑΡΑΓΓΕΛΙΑ 4 VELEX 10 KL', 'ΕΔΩΣΕ ΠΑΡΑΓΓΕΛΙΑ',\n",
       "       'ΔΕΝ ΕΝΔΙΑΦΕΡΕΤΑΙ ΓΙΑ ΠΑΡΑΓΓΕΛΙΑ',\n",
       "       'ΔΕΝ ΕΝΔΙΑΦΕΡΕΤΑΙ ΓΙΑ ΠΑΡΑΓΓΕΛΙΑ ΘΑ ΔΩΣΕΙ ΤΗΝ ΑΛΛΗ ΕΒΔΟΜΑΔΑ ΣΤΟΝ ΠΩΛΗΤΗ',\n",
       "       'ΕΔΩΣΕ ΠΑΡΑΓΓΕΛΙΑ 6  FRUIT FILLING (ΠΡΟΣΦΟΡΑ)',\n",
       "       'ΕΔΩΣΕ ΠΑΡΑΓΓΕΛΙΑ ΣΤΟΝ ΕΜΠΟΡΟ',\n",
       "       'ΑΝ ΧΡΕΙΑΣΤΕΙ ΠΑΡΑΓΓΕΛΙΑ ΘΑ ΔΩΣΕΙ ΣΤΟΝ ΕΜΠΟΡΟ.',\n",
       "       'ΔΕΝ ΕΝΔΙΑΦΕΡΕΤΑΙ ΓΙΑ ΠΑΡΑΓΓΕΛΙΑ', 'ΟΚ ΠΑΡΑΓΓΕΛΙΑ',\n",
       "       'ΕΔΩΣΕ ΠΑΡΑΓΓΕΛΙΑ ΣΤΟΝ ΠΩΛΗΤΗ',\n",
       "       'ΑΝ ΧΡΕΙΑΣΤΕΙ ΚΑΤΙ ΘΑ ΔΩΣΕΙ Ο ΙΔΙΟΣ.',\n",
       "       'ΔΕΝ ΕΝΔΙΑΦΕΡΕΤΑΙ ΓΙΑ ΠΑΡΑΓΓΕΛΙΑ',\n",
       "       'ΔΕΝ ΕΝΔΙΑΦΕΡΕΤΑΙ ΓΙΑ ΠΑΡΑΓΓΕΛΙΑ',\n",
       "       'ΘΑ ΔΩΣΕΙ ΠΑΡΑΓΓΕΛΙΑ ΣΤΟΝ ΕΜΠΟΡΟ.',\n",
       "       'ΔΕΝ ΕΝΔΙΑΦΕΡΕΤΑΙ ΓΙΑ ΠΑΡΕΓΓΕΛΙΑ ΔΙΝΕΙ ΣΤΟΝ ΕΜΠΟΡΟ.',\n",
       "       'ΔΕΝ ΕΝΔΙΑΦΕΡΤΑΙ ΓΙΑ ΠΑΡΑΓΓΕΛΙΑ ΔΙΝΕΙ ΜΟΝΟ ΣΤΟΝ ΕΜΠΟΡΟ.',\n",
       "       'ΔΕΝ ΕΝΔΙΑΦΕΡΕΤΑΙ ΓΙΑ ΠΑΡΑΓΓΕΛΙΑ ΔΙΝΕΙ ΣΤΟΝ ΕΜΠΟΡΟ',\n",
       "       'ΔΕΝ ΕΝΔΙΑΦΕΡΕΤΑΙ ΓΙΑ ΠΑΡΑΓΓΕΛΙΑ ', 'ΔΕΝ ΕΝΔΙΑΦΕΡΕΤΑΙ',\n",
       "       'ΔΕΝ ΕΝΔΙΑΦΕΡΕΤΑΙ ΓΙΑ ΠΑΡΑΓΓΕΛΙΑ ΔΙΙΝΕΙ ΣΤΟ ΕΜΠΟΡΟ ΜΟΝΟ',\n",
       "       'ΔΕΝ ΕΝΔΙΑΦΕΡΕΤΑΙ ΓΙΑ ΠΑΡΑΓΓΕΛΙΑ',\n",
       "       'ΨΩΝΙΖΕΙ ΜΟΝΟ ΑΠΟ ΤΟΝ ΕΜΠΟΡΟ ΔΕΝ ΧΡΕΙΑΖΕΤΑΙ ΚΑΤΙ..',\n",
       "       'ΨΩΝΙΖΕΙ ΜΟΝΟ ΑΠΟ ΕΜΠΟΡΟ  ΕΙΝΑΙ ΕΝΗΜΕΡΩΜΕΝΟΣ ',\n",
       "       'ΕΔΩΣΕ ΠΑΡΑΓΓΕΛΙΑ ΟΚ', 'ΔΕΝ ΕΝΔΙΑΦΕΡΕΤΑΙ ΑΥΤΗ ΤΗΝ ΕΒΔΟΜΑΔΑ',\n",
       "       'ΔΕΝ ΕΝΔΙΑΦΕΡΕΤΑΙ ΓΙΑ ΤΑ ΠΡΟΙΟΝΤΑ ΜΑΣ,', 'ΔΕΝ ΕΝΔΙΑΦΕΡΤΑΙ',\n",
       "       'ΘΑ ΔΩΣΕΙ Ο ΙΔΙΟΣ ΟΤΑΝ ΧΡΕΙΑΣΤΕΙ',\n",
       "       'ΘΑ ΔΩΣΕΙ ΠΑΡΑΓΓΕΛΙΑ ΤΗΝ ΑΛΛΗ ΕΒΔΟΜΑΔΑ.',\n",
       "       'ΔΙΝΕΙ ΠΑΡΑΓΓΕΛΙΑ ΜΟΝΟ ΣΤΟΝ ΕΜΠΟΡΟ.', 'ΔΕΝ ΕΝΔΙΑΦΕΡΤΑΙ ',\n",
       "       'ΔΕΝΕ ΔΝΙΑΦΕΡΤΑΙ ΓΙΑ ΤΑ ΠΡΟΙΟΝΤΑ ΜΑΣ',\n",
       "       'ΔΕΝ ΕΝΔΙΑΦΕΡΕΤΑΙ ΘΑ ΔΩΣΕΙ ΣΤΟΝ ΠΩΛΗΤΗ ',\n",
       "       'ΘΑ ΔΩΣΕΙ Ο ΙΔΙΟΣ ΑΝ ΧΡΕΙΑΣΤΕΙ ΚΑΤΙ.',\n",
       "       'ΘΑ ΔΩΣΕΙ Ο ΙΔΙΟΣ ΠΑΡΑΓΓΕΛΙΑ ΟΤΑΝ ΧΡΕΙΑΣΤΕΙ.',\n",
       "       'ΔΕΝ ΕΝΔΙΑΔΕΡΕΤΑΙ ΓΙΑ ΠΡΑΓΓΕΛΙΑ', 'ΕΔΩΣΕ ΠΑΡΑΓΓΕΛΙΑ ΣΤΟΝ ΕΜΠΟΡΟ',\n",
       "       'ΟΚ ΕΔΩΣΕ ΠΑΡΑΓΓΕΛΙΑ', 'εδωσε παραγγελια', 'οκ εδωσε παραγγελια',\n",
       "       'ΔΕΝ ΕΝΔΙΑΦΕΡΕΤΑΙ ΓΙΑ ΠΑΡΑΓΓΕΛΙΑ', 'ΔΕΝ ΕΝΔΙΑΦΕΡΕΤΑΙ',\n",
       "       'ΔΕΝ ΕΝΔΙΑΦΕΡΕΤΑΙ ', 'ΔΕΝ ΕΝΔΙΑΦΕΡΕΤΑΙ ΓΙΑ ΠΑΡΑΓΓΕΛΙΑ',\n",
       "       'ΔΕΝ ΕΝΔΙΑΦΕΡΤΑΙ ΓΙΑ ΠΑΡΑΓΓΕΛΙΑ', 'ΟΚ ΕΔΩΣΕ ΠΑΡΑΓΓΕΛΙΑ ',\n",
       "       'ΕΔΩΣΕ ΠΑΡΑΓΓΕΛΙΑ ΟΚ', 'ΟΚ ΕΔΩΣΕ ΠΑΡΑΓΓΕΛΙΑ',\n",
       "       'ΟΚ ΕΔΩΣΕ ΠΑΡΑΓΓΕΛΙΑ',\n",
       "       'ΟΚ ΕΔΩΣΕ ΠΑΡΑΓΓΕΛΙΑ ΓPROZYL PASTE ,PAN F.CORN',\n",
       "       'ΟΚ ΕΔΩΣΕ ΠΑΡΑΓΓΕΛΙΑ ', 'ΟΚ ΕΔΩΣΕ ΠΑΡΑΓΓΕΛΙΑ',\n",
       "       'ΟΚ ΕΔΩΣΕ ΠΑΡΑΓΓΕΛΙΑ', 'OK ΕΔΩΣΕ ΠΑΡΑΓΓΕΛΙΑ.',\n",
       "       'ΟΚ ΕΔΩΣΕ ΠΑΡΑΓΓΕΛΙΑ', 'οκ εδωσε παραγγελια',\n",
       "       'οκ εδωσε παραγγελια.',\n",
       "       'ΔΕΝ ΣΥΝΕΡΓΑΖΕΤΑΙ ΠΛΕΟΝ ΜΕ ΤΗΝ ΕΤΑΙΡΕΙΑ ΜΑΣ,',\n",
       "       'ΔΕΝ ΕΝΔΙΑΦΕΡΤΑΙ ΓΙΑ ΠΑΡΑΓΓΕΛΙΑ ', 'ΕΔΩΣΕ ΠΑΡΑΓΓΕΛΙΑ ΣΤΟΜ ΕΜΠΟΡΟ.',\n",
       "       'ΔΕΝ ΕΝΔΙΑΦΕΡΕΤΑΙ', 'ΔΕΝ ΕΝΔΙΑΦΕΡΤΑΙ ΓΙΑ ΠΑΡΑΓΓΕΛΙΑ ',\n",
       "       'οκ εδωσε παραγγελια 4 chocolatier delicecover sokolata',\n",
       "       'ΔΕΝ ΕΝΔΙΑΦΕΡΤΑΙ ΓΙΑ ΠΑΡΑΓΓΕΛΙΑ ',\n",
       "       'δεν ενδιαφερται για παραγγελια',\n",
       "       'ΘΑ ΔΩΣΕΙ ΣΤΟΝ ΕΜΠΟΡΟ ΑΝ ΧΡΕΙΑΣΤΕΙ ΠΑΡΑΓΓΕΛΙΑ',\n",
       "       'ΘΑ ΔΩΣΕΙ Ο ΙΔΙΟΣ ΣΤΟΝ ΕΜΠΟΡΟ ΠΑΡΑΓΓΕΛΙΑ ΟΤΝΑ ΧΡΕΙΑΣΤΕΙ',\n",
       "       'ΔΕΝ ΕΝΔΙΑΦΕΡΕΤΑΙ ΓΙΑ ΠΑΡΑΓΓΕΛΙΑ ',\n",
       "       'ΔΕΝ ΕΝΔΙΑΦΕΡΕΤΑΙ ΓΙΑ ΠΑΡΑΓΓΕΛΙΑ',\n",
       "       'ΔΕΝ ΕΝΔΙΑΦΕΡΕΤΑΙ ΓΙΑ ΠΑΡΑΓΓΕΛΙΑ',\n",
       "       'ΔΕΝ ΕΝΔΙΑΦΕΡΕΤΑΙ ΓΙΑ ΠΑΡΑΓΓΕΛΙΑ ', 'ΟΚ ΕΔΩΣΕ ΠΑΡΑΓΓΕΛΙΑ',\n",
       "       'ΔΕΝ ΕΝΔΙΑΦΕΡΕΤΑΙ ΓΙΑ ΤΑ ΠΡΟΙΟΝΤΑ ΜΑΣ,',\n",
       "       'ΔΙΝΕΙ ΠΑΡΑΓΓΕΊΑ ΜΟΝΟ ΣΤΟΝ ΕΜΠΟΡΟ.', 'ΟΚ ΕΔΩΣΕ ΠΑΡΑΓΓΕΛΙΑ',\n",
       "       'ΟΚ ΕΔΩΣΕ ΠΑΡΑΓΓΕΛΙΑ,,,', 'ΔΕΝ ΕΝΔΙΑΦΕΡΕΤΑΙ ΓΙΑ ΠΑΡΑΓΓΕΛΙΑ',\n",
       "       'ΔΕΝ ΕΝΔΙΑΦΕΡΕΤΑΙ', 'ΕΔΩΣΕ ΠΑΡΑΓΓΕΛΙΑ ΣΤΟΝ ΕΜΠΟΡΟ',\n",
       "       'ΘΑ ΔΩΣΕΙ Ο ΙΔΙΟΣ ΟΤΑΝ ΧΡΕΙΑΣΤΕΙ', 'ΟΚ ΕΔΩΣΕ ΠΑΡΑΓΓΕΛΙΑ',\n",
       "       'ΟΚ ΕΔΩΣΕ ΠΑΡΑΓΕΛΙΑ',\n",
       "       'ΔΕΝ ΕΝΔΙΑΦΕΡΕΤΑΙ ΓΙΑ ΠΑΡΑΓΓΕΛΙΑ ΑΥΤΗ ΤΗΝ ΕΒΔΟΜΑΔΑ,', 'nan',\n",
       "       'ΔΕΝ ΕΝΔΙΑΦΕΡΕΤΑΙ', 'nan', 'nan', 'nan', 'ΔΕΝ ΕΝΔΙΑΦΕΡΕΤΑΙ', 'nan',\n",
       "       'nan', 'nan', 'nan', 'nan', 'nan', 'nan', 'nan', 'nan', 'nan',\n",
       "       'ΟΚ ΕΔΩΣΕ ΠΑΡΑΓΓΕΛΙΑ', 'nan', 'nan', 'nan', 'ΟΚ ΠΑΡΑΓΓΕΛΙΑ', 'nan',\n",
       "       'nan', 'nan', 'nan', 'nan', 'nan', 'ΔΕΝ ΕΝΔΙΑΦΕΡΕΤΑΙ',\n",
       "       'ΔΕΝ ΕΝΔΙΑΦΕΡΕΤΑΙ', 'ΔΕΝ ΕΝΔΙΑΦΕΡΕΤΑΙ', 'nan', 'nan',\n",
       "       'ΔΕΝ ΕΝΔΙΑΦΕΡΕΤΑΙ', 'nan', 'ΔΕΝ ΕΝΔΙΑΦΕΡΕΤΑΙ ΓΙΑ ΠΑΡΑΓΓΕΛΙΑ',\n",
       "       'ΘΑ ΔΩΣΕΙ ΑΡΓΟΤΕΡΑ ΑΝ ΧΡΕΙΑΣΤΕΙ', 'ΔΕΝ ΕΝΔΙΑΦΕΡΕΤΑΙ',\n",
       "       'ΔΕΝ ΕΝΔΙΑΦΕΡΕΤΑΙ', 'οκ εδωσε παραγγελλια ενα ZeeMωτο,',\n",
       "       'ΔΕΝ ΕΝΔΙΑΦΕΡΤΑΙ,', 'EINAI ΚΛΕΙΣΤΑ ΔΕΝ ΠΑΙΡΝΟΥΝ ΠΑΡΑΓΓΕΛΙΕΣ ΤΩΡΑ',\n",
       "       'ΔΕΝ ΕΝΔΙΑΦΕΡΕΤΑΙ ΓΙΑ ΠΑΡΑΓΓΕΛΙΑ', 'ΔΕΝ ΕΝΔΙΑΦΕΡΕΤΑΙ ',\n",
       "       'Θ ΑΔΩΣΟΥΝ ΠΑΡΑΓΓΕΛΙΑ ΟΤΑΝ ΑΝΟΙΞΟΥΝ',\n",
       "       'ΔΕΝ ΕΝΔΙΑΦΕΡΟΝΤΑΙ ΓΙΑ ΠΑΡΑΓΓΕΛΙΑ', 'ΔΕΝ ΕΝΔΙΑΦΕΡΕΤΑΙ',\n",
       "       'ΔΕΝ ΕΝΔΙΑΦΕΡΕΤΑΙ ΘΑ ΔΩΣΕΙ ΑΡΓΟΤΕΡΑ',\n",
       "       'ΘΑ ΔΩΣΕΙ ΟΙΔΙΟΣ ΟΤΑΝ ΧΡΕΑΣΤΕΙ,', 'ΔΕΝ ΕΝΔΙΑΦΕΡΕΤΑΙ',\n",
       "       'ΔΕΝ ΕΝΔΙΑΦΕΕΡΕΤΑΙ', 'ΕΔΩΣΕ ΠΑΡΑΓΓΕΛΙΑ ΣΤΟΝ ΠΩΛΗΤΗ',\n",
       "       'ΕΔΩΣΕ ΠΑΡΑΓΓΕΛΙΑ ΣΤΟΝ ΕΜΠΟΡΟ', 'οκ εδωσε παραγγελια',\n",
       "       'οκ παραγγελια', 'ΔΕΝ ΕΝΔΙΑΦΕΡΕΤΑΙ', 'ΔΕΝ ΕΝΔΙΑΦΕΡΕΤΑΙ.',\n",
       "       'ΟΚ ΕΔΩΣΕ ΠΑΡΑΓΓΕΛΙΑ', 'ΔΕΝ ΕΝΔΙΑΦΕΡΕΤΑΙ',\n",
       "       'ΔΕΝ ΕΝΔΙΑΦΕΡΕΤΑΙ ΓΙΑ ΠΑΡΑΓΓΕΛΙΑ',\n",
       "       'ΔΕΝ ΕΝΔΙΑΦΕΡΕΑΤΑΙ ΓΙΑ ΠΑΡΑΓΓΕΛΙΑ ',\n",
       "       'ΔΕΝ ΕΝΔΙΑΦΕΡΕΤΑΙ ΓΙΑ ΠΑΡΑΓΓΕΛΙΑ', 'ΠΑΡΑΓΓΕΛΙΑ ΑΡΓΟΤΕΡΑ',\n",
       "       'ΔΕΝ ΕΝΔΙΑΦΕΡΕΤΑΙ', 'ΔΕΝ ΕΝΔΙΑΦΕΡΕΤΑΙ',\n",
       "       'ΔΕΝ ΕΝΔΙΑΦΕΡΕΤΑΙ ΓΙΑ ΠΑΡΑΓΓΕΛΙΑ',\n",
       "       'ΔΕΝ ΧΡΕΙΑΖΟΝΤΑΙ ΚΑΤΙ ΓΙΑ ΠΑΡΑΓΓΕΛΙΑ', 'ΕΔΩΣΕ ΠΑΡΑΓΓΕΛΙΑ',\n",
       "       'δεν ενδιαφερεται για παραγγελια  εδωσε στον εμπορο .', 'nan',\n",
       "       'εδωσε παραγγελια στον εμπορο', 'δεν ενδιαφερεται',\n",
       "       'δεν χρειαζονται κατι προς το παρον,',\n",
       "       'θα δωσει στον πωλτητη αν χρειστει.', 'δεν ενδιαφερεται,',\n",
       "       'δεν ενδιαφερονται για παραγγελια.',\n",
       "       'δεν ενδιαφερεται για παραγγελια',\n",
       "       'δενε δνιαφερεται για παραγγελια',\n",
       "       'δεν ενδιαφερεται για παραγγελια', 'εχει δωσει στον πωλητη',\n",
       "       'ok παραγγελια 1 mamas λευκο', 'ΟΚ ΕΔΩΣΕ ΠΑΡΑΓΓΕΛΙΑ',\n",
       "       'δενε διαφερεται', 'οκ εδωσε παραγγελια 3 και 1 ts oriental',\n",
       "       'δεν ενδιαφερεται ', 'ΘΑ ΔΩΣΕΙ ΣΤΟΝ ΕΜΠΟΡΟ ΑΝ ΧΡΕΙΑΣΤΕΙ,',\n",
       "       'θα δωσει αργοτερα αν χρεισετει στον εμπορο',\n",
       "       'εδωσαν παραγγελια στον πωλητη',\n",
       "       'ΑΝ ΧΡΕΙΑΣΤΕΙ ΚΑΤΙ ΘΑ ΕΠΙΚΟΙΝΩΝΗΣΕΙ ΕΚΕΙΝΟΣ ΜΑΖΙ ΜΑΣ',\n",
       "       'ΘΑ ΔΩΣΟΥΝ ΟΙ ΙΔΙΟΙ ΑΝ ΧΡΕΙΑΣΤΟΥΝ ΚΑΤΙ', 'nan', 'ΔΕΝ ΕΝΔΙΑΦΕΡΕΤΑΙ',\n",
       "       'ΔΕΝ ΕΝΧΕΙ ΚΑΘΟΛΟΥ ΔΟΥΛΕΙΑ \\\\ ΔΕΝ ΕΝΔΙΑΦΕΡΕΤΑΙ',\n",
       "       'ΔΕΝ ΕΝΔΙΑΦΕΡΕΤΑΙ(ΥΠΟΛΕΙΤΟΥΡΓΕΙ)', 'ΟΚ ΕΔΩΣΕ ΠΑΡΑΓΓΕΛΙΑ',\n",
       "       'ΔΕΝ ΕΝΔΙΑΦΕΡΕΤΑΙ ΠΡΟΣ ΤΟ ΠΑΡΟΝ ΓΙΑ ΠΑΡΑΓΓΕΛΙΑ',\n",
       "       'ΔΕΝ ΕΝΔΙΑΦΕΡΕΤΑΙ ΓΙΑ ΠΑΡΑΓΓΕΛΙΑ',\n",
       "       'ΔΕΝ ΕΝΔΙΑΦΕΡΕΤΑΙ ΓΙΑ ΠΑΡΑΓΓΕΛΙΑ ΥΠΟΛΕΙΤΟΥΡΓΕΙ.',\n",
       "       'ΔΕΝ ΕΝΔΙΑΦΕΡΕΤΑΙ',\n",
       "       'ΔΕΝΕ ΝΔΙΑΦΕΡΕΤΑΙ ΓΙΑ ΠΑΡΑΓΓΕΛΙΑ  ΥΠΟΛΕΙΤΟΥΡΓΕΙ,',\n",
       "       'ΔΕΝ ΕΝΔΙΑΦΕΡΕΤΑΙ ', 'δεν ενδιαφερεται', 'οκ εδωσε παραγγελια',\n",
       "       'οκ ΕΔΩΣΕ ΠΑΡΑΓΓΕΛΙΑ,', 'ΟΚ ΕΔΩΣΕ ΠΑΡΑΓΓΕΛΙΑ',\n",
       "       'ΔΕΝ ΕΝΔΙΑΦΕΡΕΤΑΙ ΓΙΑ ΠΑΡΑΓΓΕΛΙΑ',\n",
       "       'ΔΕΝ ΕΝΔΙΑΦΕΡΤΕΤΑΙ ΓΙΑ ΠΑΡΑΓΓΕΛΙΑ', 'ΔΕΝ ΕΝΔΙΑΦΕΡΕΤΑΙ.',\n",
       "       'ΔΕΝ ΕΝΔΙΑΦΕΡΕΤΑΙ.', 'ΔΕΝ ΕΧΕΙ ΚΑΘΟΛΟΥ ΔΟΥΛΕΙΑ ΔΕΝ ΕΝΔΙΑΦΕΡΕΤΑΙ',\n",
       "       'ΔΕΝΕ ΔΝΙΑΦΕΡΡΕΤΑΙ', 'ΟΚ ΕΔΩΣΕ ΠΑΡΑΓΓΕΛΙΑ',\n",
       "       'ΔΕΝ ΕΝΔΙΑΦΕΡΕΤΑΙ ΓΙΑ ΠΑΡΑΓΓΕΛΙΑ', 'ΔΕΝ ΕΝΔΙΑΦΕΡΕΤΑΙ.',\n",
       "       'ΔΕΝ ΕΝΔΙΑΦΕΡΕΤΑΙ', 'ΟΚΚ ΕΔΩΣΕ ΠΑΡΑΓΓΕΛΙΑ', 'οκ παραγγελια ',\n",
       "       'ΔΕΝ ΕΝΔΙΑΦΕΡΕΤΑΙ ΓΙΑ ΠΑΡΑΓΓΕΛΙΑ', 'ΔΕΝ ΕΝΔΙΑΦΕΡΕΤΑΙ',\n",
       "       'ΟΚ ΕΔΩΣΕ ΠΑΡΑΓΓΕΛΙΑ', 'ΔΕΝ ΕΝΔΙΑΦΕΡΕΤΑΙ',\n",
       "       'ΕΧΕΟ ΔΩΣΕΙ ΣΤΟ ΕΜΠΟΡΟ ΠΑΡΑΓΓΕΛΙΑ', 'ΟΚ ΕΔΩΣΕ ΠΑΡΑΓΓΕΛΙΑ',\n",
       "       'οκ εδωσε παραγγελια', 'ΟΚ ΕΔΩΣΕ ΠΑΡΑΓΓΕΛΙΑ',\n",
       "       'ok εδωσε παραγγελια', 'ΟΚ ΠΑΡΑΓΓΕΛΙΑ', 'OK ΠΑΡΑΓΓΕΛΙΑ',\n",
       "       'ΟΚ ΠΑΡΑΓΓΕΛΙΑ', 'nan', 'ΟΚ ΠΑΡΑΓΓΕΛΙΑ', 'ΟΚ ΠΑΡΑΓΓΕΛΙΑ',\n",
       "       'ΟΚ ΠΑΡΑΓΓΕΛΙΑ', 'nan', 'nan', 'nan', 'ΔΕΝ ΕΝΔΙΑΦΕΡΕΤΑΙ',\n",
       "       'ΔΕΝ ΕΝΔΙΑΦΕΡΕΤΑΙ', 'ΟΚ ΠΑΡΑΓΓΕΛΙΑ', 'ΔΕΝ ΕΝΔΙΑΦΕΡΕΤΑΙ',\n",
       "       'ΔΕΝΕ ΔΝΙΑΦΕΡΕΤΑΙ', 'ΔΕΝΕ ΕΝΔΙΑΦΕΡΕΤΑΙ', 'οκ παραγγελια', 'nan',\n",
       "       'οκ παραγγελια ,', 'ΟΚ ΠΑΡΑΓΓΕΛΙΑ',\n",
       "       'ΔΕΝ ΕΝΔΙΑΦΕΡΕΤΑΙ ΓΙΑ ΠΑΡΑΓΓΕΛΙΑ', 'οκ εδωσε παραγγελια',\n",
       "       'ΟΚ ΠΑΡΑΓΓΕΛΙΑ', 'ΟΚ ΠΑΡΑΓΓΕΛΙΑ', 'OK ΠΑΡΑΓΓΕΛΙΑ ',\n",
       "       'Οκ παραγγελια', 'οκ παραγγελια', 'ΟΚ ΕΔΩΣΕ ΠΑΡΑΓΓΕΛΙΑ ',\n",
       "       'ΟΚ ΠΑΡΑΓΓΕΛΙΑ ', 'ΕΔΩΣΕ ΠΑΡΑΓΓΕΛΙΑ ΣΤΟΝ ΠΩΛΗΤΗ',\n",
       "       'ΘΑ ΔΩΣΕΙ Ο ΙΔΙΟΣ ΑΝ ΧΡΕΙΑΣΤΕΙ ΠΑΡΑΓΓΕΛΙΑ', 'ΟΚ ΕΔΩΣΕ ΠΑΡΑΓΓΕΛΙΑ',\n",
       "       'δν ενδιαφερεται', 'ΔΕΝ ΕΝΔΙαφερεται', 'ΔΕΝ ΕΝΔΙΑΦΕΡΕΤΑΙ',\n",
       "       'οκ παραγγελια', 'οκ εδωσε παραγγελια', 'ΟΚ ΠΑΡΑΓΓΕΛΙΑ',\n",
       "       'δεν ενδιαφερεται', 'nan', 'nan', 'nan', 'nan', 'nan', 'nan',\n",
       "       'nan', 'οκ παραγγελια', 'ok παραγγελια', 'ok παραγγελια',\n",
       "       'οκ παραγγελια', 'οκ παραγγελια', 'ΟΚ ΠΑΡΑΓΓΕΛΙΑ', 'ΟΚ ΠΑΡΑΓΓΕΛΙΑ',\n",
       "       'ΟΚ ΠΑΡΑΓΓΕΛΙΑ', 'ΟΚ ΠΑΡΑΓΓΕΛΙΑ', 'nan', 'nan', 'nan',\n",
       "       'ΔΕΝ ΕΝΔΙΑΦΕΡΤΑΙ', 'nan', 'ΔΕΝ ΕΝΔΙΑΦΕΡΕΤΑΙ',\n",
       "       'ΔΕΝ ΕΝΔΙΑΦΕΡΕΤΑΙ ΤΩΡΑ', 'nan', 'nan', 'ΔΕΝ ΕΝΔΙΑΦΕΡΕΤΑΙ',\n",
       "       'ΔΙΝΕΙ ΜΟΜΝΟΟ ΣΤΟΝ ΕΜΠΟΡΟ', 'ΕΧΕΙ ΔΩΣΕΙ ΣΤΟΝ ΤΣΑΓΑΛΑ',\n",
       "       'ΔΕΝ ΕΝΔΙΑΦΕΡΕΤΑΙ', 'nan', 'ΟΚ ΠΑΡΑΓΓΕΛΙΑ', 'nan',\n",
       "       'ΔΕΝ ΕΝΔΙΑΦΕΡΕΤΑΙ', 'ΔΕΝ ΕΝΔΙΑΦΕΡΕΤΑΙ', 'nan', 'nan',\n",
       "       'ΔΕΝ ΕΝΔΙΑΦΕΡΕΤΑΙ', 'nan', 'nan', 'nan', 'nan', 'nan', 'nan',\n",
       "       'ΔΕΝ ΕΝΔΙΑΦΕΡΕΤΑΙ', 'ΔΕΝ ΕΝΔΙΑΦΕΡΕΤΑΙ', 'ΔΕΝ ΕΝΔΙΑΦΕΡΕΤΑΙ', 'nan',\n",
       "       'nan', 'nan', 'nan', 'ΟΚ ΠΑΡΑΓΓΕΛΙΑ', 'OK ΠΑΡΑΓΓΕΛΙΑ',\n",
       "       'αν χρειαστει κατι μιλαει με  τον εμπορο.', 'nan',\n",
       "       'ΔΕΝ ΕΝΔΙΑΦΕΡΕΤΑΙ', 'nan', 'nan', 'ΔΕΝ ΕΝΔΙΑΦΕΡΕΤΑΙ', 'nan', 'nan',\n",
       "       'nan', 'nan', 'Δεν χρειάζεται κάτι για αύριο', 'nan',\n",
       "       'Αρνητικός γενικά ,μου είπε ότι δεν ενδιαφέρεται.', 'nan',\n",
       "       'ΟΚ ΠΑΡΑΓΓΕΛΙΑ', 'nan', 'nan',\n",
       "       'Τα μίγματα τα κάνουνε μόνοι τους. Ενημέρωσα ότι έχουμε και μαργαρίνες,σοκολάτες ,σταγόνες σοκολάτας και άλλα... Ρώτησε για πρωτεινικό μπισκότα. Γενικά δεν ενδιαφέρεται προς το παρόν ,θα μας καλέσει η ίδια (κ.ΜΑΡΙΑ ΠΑΠΑΖΗ)',\n",
       "       'ΔΕΝ ΘΑ ΧΡΕΙΑΣΤΕΙ ΚΑΤΙ . ΜΟΥ ΕΚΛΕΙΣΕ ΤΟ ΤΗΛΕΦΩΝΟ.', 'nan',\n",
       "       'Δεν θα χρειαστεί κάτι . Να ξανακαλέσω.', 'ΟΚ ΠΑΡΑΓΓΕΛΙΑ',\n",
       "       'ΕΧΕΙ ΔΩΣΕΙ ΣΤΟΝ ΠΩΛΗΤΗ ΠΑΡΑΓΓΕΛΙΑ', 'ΟΚ ΕΔΩΣΕ ΠΑΡΑΓΓΕΛΙΑ',\n",
       "       'ΘΑ ΔΩΣΕΙ Ο ΙΔΙΟΣ ΠΑΡΑΓΓΕΛΙΑ',\n",
       "       'ΔΙΝΕΙ ΣΤΟΝ ΕΜΠΟΡΟ ΟΤΑΝ ΧΡΕΙΑΣΤΕΙ,,,,,',\n",
       "       'ΔΕΝ ΕΝΔΙΑΦΕΡΕΤΑΙ ΓΙΑΠΑΡΑΓΓΕΛΙΑ ΘΑ ΔΩΣΕΙ Ο ΙΔΙΟΣ ΕΙΠΕ ΑΝ ΧΡΕΙΑΣΤΕΙ ',\n",
       "       'ΔΕΝ ΕΝΔΙΑΦΕΡΕΤΑΙ', 'ΘΑ ΔΩΣΕΙ Ο ΙΔΙΟΣ ΑΝ ΧΡΕΙΑΣΤΕΙ ΠΑΡΑΓΓΕΛΙΑ',\n",
       "       'ΕΛΛΕΙΠΕ Ο ΥΟΕΥΘΥΝΟΣ. ΘΑ ΜΕ ΚΑΛΕΣΕΙ ΑΝ ΧΡΕΙΑΣΤΕΙ ΚΑΤΙ. ΜΕ ΚΑΛΕΣΕ Ο Κ. ΤΡΥΦΩΝ . ΘΕΛΕΙ ΝΑ ΠΕΡΑΣΕΙ ΠΩΛΗΤΗΣ ΝΑ ΤΟΝ ΕΝΗΜΕΡΩΣΕΙ.',\n",
       "       'ΔΕΝ ΕΝΔΙΑΦΕΡΕΤΑΙ',\n",
       "       'Προμηθεύεται από άλλους. Δεν έδειξε ενδιαφέρον για δικά μας προιόντα. Είναι φίλος με πρώην πωλητή μας ,οπότε συνεργάζεται μαζί του.',\n",
       "       'Υπεύθυνη η κόρη ,κ. Σοφία. δεν θα χρειαστεί κάτι για αύριο.',\n",
       "       'Δεν θα χρειαστεί κάτι για αύριο.', 'ΣΤΑΜΑΤΗΣΕ ΤΗΝ ΠΑΡΑΓΩΓΗ .',\n",
       "       'ΔΕΝ ΘΑ ΧΡΕΙΑΤΕΙ ΚΑΤΙ ΓΙΑ ΑΥΡΙΟ. ΕΝΗΜΕΡΩΣΑ ΚΑΙ ΓΙΑ ΖΑΧΑΡΗ ΚΑΙ ΕΝΔΙΑΦΕΡΕΤΑΙ. ΘΑ ΤΟ ΔΟΥΜΕ ΤΗΝ ΑΛΛΗ ΕΒΔΟΑΜΑΔΑ.',\n",
       "       'ΔΕΝ ΘΑ ΧΡΕΙΑΣΤΕΙ ΚΑΤΙ . ΚΥΡΙΩΣ ΠΑΙΡΝΕΙ ΤΟΝ ΠΩΛΗΤΗ. ΘΑ ΤΟΝ ΞΑΝΑΚΑΛΕΣΩ ΣΕ ΔΥΟ ΕΒΔΟΜΑΔΕΣ.',\n",
       "       'οκ παραγγελια', 'οκ ΠΑΡΑΓΓΕΛΙΑ',\n",
       "       'ΔΕΝ ΘΕΛΕΙ ΝΑ ΤΟΝ ΚΑΛΩ ΕΓΩ . ΚΑΛΕΙ Ο ΙΔΙΟΣ ΓΙΑ ΠΑΡΑΓΓΕΛΙΑ.',\n",
       "       'ΘΑ ΔΩΣΕΙ Ο ΙΔΙΟΣ ΠΑΡΑΓΓΕΛΙΑ ΟΤΑΝ ΧΡΕΙΑΣΤΕΙ',\n",
       "       'ΘΑ ΔΩΣΙΕ Ο ΙΔΙΟΣ ΣΤΟΝ ΠΩΛΗΤΗ ΑΝ ΧΡΕΙΑΣΤΕΙ',\n",
       "       'ΔΕΝ ΕΝΔΙΑΦΕΡΕΕΤΑΙ  ΘΕΛΕΙ ΠΡΩΤΑ ΝΑ ΕΞΟΦΛΗΣΕΙ....',\n",
       "       'ΘΑ ΔΩΣΕΙ Ο ΙΔΙΟΣ ΟΤΑΝ ΧΡΕΙΑΣΤΕΙ ',\n",
       "       'ΔΕΝ ΕΧΕΙ ΠΟΛΥ ΔΟΥΛΕΙΑ  ΔΕΝ ΕΝΔΙΑΦΕΡΕΤΑΙ',\n",
       "       'ΘΑ ΣΩΣΕΙ Ο ΙΔΙΟΣ ΤΗΝ ΑΛΛΗ ΕΒΔΟΜΑΔΑ ΑΝ ΧΡΕΙΑΣΤΕΙ,,,,,',\n",
       "       'ΔΙΝΕΙ ΣΤΟΝ ΕΜΠΟΡΟ ΑΝΑ ΧΡΕΙΑΣΤΕΙ',\n",
       "       'ΔΕΝΕ ΝΔΙΑΦΕΡΕΤΑΙ  ΕΧΕΙ ΚΑΙ ΤΟΝ ΠΡΟΙΟΝΤΙΚΟ ΚΑΤΑΛΟΓΟ',\n",
       "       'ΔΙΝΕΙ ΠΑΡΑΓΓΕΛΙΑ ΜΟΝΟ ΣΤΟΝ ΝΟΥΣΗ', 'ΔΕΝ ΕΝΔΙΑΦΕΡΕΤΑΙ,',\n",
       "       'ΔΕΝ ΕΝΔΙΑΦΕΡΕΤΑΙ', 'ΘΑ ΜΙΛΗΣΕΙ ΣΤΟΝ ΠΩΛΗΤΗ ΑΝ ΧΡΕΙΑΣΤΕΙ ΚΑΤΙ',\n",
       "       'ΘΑ ΔΩΣΕΙ Ο ΙΔΙΟΣ ΣΤΟΝ ΝΟΥΣΗ ΟΤΑΝ ΧΡΕΙΑΣΤΕΙ', 'nan',\n",
       "       'ΕΔΩΣΑΝ ΣΤΟΝ ΝΟΥΣΗ ΠΑΡΑΓΓΕΛΙΑ',\n",
       "       'ΔΙΝΕΙ Ο ΙΔΙΟΣ ΠΑΡΑΓΓΕΛΙΑ ΚΑΙ ΕΡΧΕΤΑΙ ΤΑ ΠΑΙΡΝΕΙ ΑΠΟ ΤΟ ΥΠΟΚΑΤΑΣΤΗΜΑ.',\n",
       "       'ΠΡΟΣΦΕΡΟΥΝ ΜΟΝΟ ΚΑΦΕ ,ΟΧΙ ΣΥΝΟΔΕΥΤΙΚΟ ΑΚΟΜΗ. ΣΚΟΠΕΥΟΥΝ ΟΜΩΣ ΑΝΑΛΟΓΑ ΜΕ ΤΗ ΔΟΥΛΕΙΑ ΝΑ ΕΠΑΝΕΛΘΟΥΝ. ',\n",
       "       'ΔΕΝ ΘΕΛΕΙ ΝΑ ΤΟΝ ΠΑΙΡΝΩ ΕΓΩ. ΘΑ ΚΑΛΕΙ Ο ΙΔΙΟΣ ΟΤΑΝ ΧΡΕΙΑΖΕΤΑΙ ΚΑΤΙ.',\n",
       "       'ΔΕΝ ΘΑ ΧΡΕΙΑΣΤΕΙ ΚΑΤΙ. ',\n",
       "       'ΔΕΝ ΘΑ ΧΡΕΙΑΣΤΕΙ ΚΑΤΙ. ΜΙΛΑΕΙ ΟΜΩΣ ΚΑΙ ΜΕ ΤΟΝ ΠΩΛΗΤΗ. ΘΑ ΞΑΝΑΚΑΛΕΣΩ .',\n",
       "       'ΕΔΩΣΕ ΠΑΡΑΓΓΕΛΑΙ ΣΤΟΝ ΠΩΛΗΤΗ', 'ΟΚ ΠΑΡΑΓΓΕΛΙΑ',\n",
       "       'ΕΔΩΣΕ ΣΤΟΝ ΠΩΛΗΤΗ', 'ΕΔΩΣΕ ΠΑΡΑΓΓΕΛΙΑ ΣΤΟΝ ΠΩΛΗΤΗ..',\n",
       "       'ΟΚ ΠΑΡΑΓΓΕΛΙΑ',\n",
       "       'ΕΠΕΙΔΗ ΔΕΝ ΜΠΟΡΕΙ ΝΑ ΤΑ ΠΗΓΑΙΝΕΙ ΤΟ ΦΟΡΤΗΓΟ ΜΑΣ ΔΙΝΕΙ ΠΑΡΑΓΓΕΛΙΑ ΣΤΟΝ ΜΑΝΟ',\n",
       "       'ΕΔΩΣΕ ΣΤΟΝ ΠΩΛΗΤΗ ΠΑΡΑΓΓΕΛΙΑ', 'ΔΕΝΕ ΔΝΙΑΦΕΡΕΑΤΑΙ ΓΙΑ ΠΑΡΑΓΓΕΛΙΑ',\n",
       "       'ΔΕΝ ΕΝΔΙΑΦΕΡΕΤΑΙ.,', 'ΔΕΝ ΕΝΔΙΑΦΕΡΕΤΑΙ ΓΙΑ ΠΑΡΑΓΓΕΛΙΑ',\n",
       "       'ΔΕΝ ΘΑ ΧΡΕΙΑΣΤΕΙ ΚΑΤΙ.',\n",
       "       'ΔΕΝ ΘΑ ΧΡΕΙΣΤΕΙ ΚΑΤΙ ΑΥΤΗ ΤΗΝ ΕΒΔΟΜΑΔΑ.',\n",
       "       'ΔΕΝ ΘΑ ΧΡΕΙΑΣΤΕΙ ΚΑΤΙ.', 'ΔΕΝ ΕΝΔΙΑΦΕΡΕΤΑΙ ΓΙΑ ΠΑΡΑΓΓΕΛΙΑ',\n",
       "       'ΔΕΝ ΕΝΔΙΑΦΕΡΕΤΑΙ',\n",
       "       'ΔΕΝ ΕΝΔΙΑΦΕΡΕΤΑΙ ΠΡΟΣ ΤΟ ΠΑΡΩΝ ΓΑΙΑ ΠΑΡΑΓΓΕΛΙΑ',\n",
       "       'ΔΕΝ ΕΝΔΙΑΦΕΡΤΑΙ ΓΙΑ ΠΑΡΑΓΓΕΛΙΑ', 'ΘΑ ΔΩΣΕΙ Ο ΙΔΙΟΣ ΑΝ ΧΡΕΙΑΣΤΕΙ',\n",
       "       'nan',\n",
       "       'ΕΙΝΑΙ ΚΑΛΗΜΕΝΟΣ ΓΙΑ ΚΑΛΟΚΑΙΡΙΝΗ ΣΕΖΟΝ. ΘΑ ΚΑΛΕΣΕΙ Ο ΙΔΙΟΣ ΑΝ ΧΡΕΙΑΣΤΕΙ ΚΑΤΙ.',\n",
       "       'ΔΕΝ ΧΡΕΙΑΖΕΤΑΙ ΚΑΤΙ.', 'ΔΕΝ ΘΑ ΧΡΕΙΑΣΤΕΙ ΚΑΤΙ.', 'nan',\n",
       "       'ΔΕΝ ΘΑ ΧΡΕΙΑΣΤΕΙ ΚΑΤΙ',\n",
       "       'ΔΕΝ ΘΑ ΧΡΕΙΑΣΤΕΙ ΚΑΤΙ. ΠΕΡΑΣΕ ΚΑΙ Ο ΠΩΛΗΤΗΣ.',\n",
       "       'ΔΕΝ ΧΡΕΙΑΖΕΤΑΙ ΚΑΤΙ,ΑΛΛΑ ΣΥΝΗΘΩΣ ΠΑΙΡΝΕΙ ΤΟΝ ΠΩΛΗΤΗ.',\n",
       "       'ΔΕΝ ΘΑ ΧΡΕΙΑΣΤΕΙ ΚΑΤΙ ΘΑ ΜΙΛΗΣΟΥΜΕ ΤΗΝ ΑΛΛΗ ΕΒΔΟΜΑΔΑ.',\n",
       "       'ΔΕΝ ΧΡΕΙΑΖΕΤΑΙ ΚΑΤΙ ΓΙΑ ΑΥΡΙΟ', 'ΔΕΝ ΘΑ ΧΡΕΙΑΣΤΕΙ ΚΑΤΙ.',\n",
       "       'ΔΕΝ ΕΝΔΙΑΦΕΡΕΤΑΙ ΓΙΑ ΠΑΡΑΓΓΕΛΙΑ',\n",
       "       'ΣΥΝΗΘΩΣ ΔΙΝΕΙ Ο ΙΔΙΟΣ ΠΑΡΑΓΓΕΛΙΑ. ΘΑ ΤΟΝ ΚΑΛΕΣΩ ΕΓΩ ΤΗΝ ΕΠΟΜΕΝΗ ΕΒΔΟΜΑΔΑ.',\n",
       "       'ΘΑ ΔΩΣΕΙ Ο ΙΔΙΟΣ ΠΑΡΑΓΓΕΛΙΑ ΑΝ ΧΡΕΙΑΣΤΕΙ', 'ΔΕΝ ΕΝΔΙΑΦΕΕΡΕΤΑΙ',\n",
       "       'ΘΑ ΔΩΣΕΙ Ο ΙΔΙΟΣ ΑΝ ΧΡΕΙΑΣΤΕΙ',\n",
       "       'ΔΕΝ ΕΝΔΙΑΦΕΡΕΤΙΑ ΑΚΟΜΗ ΓΙΑ ΠΑΡΑΓΓΕΛΙΑ',\n",
       "       'ΕΔΩΣΕ ΠΑΡΑΓΓΕΛΙΑ ΣΤΟΝ ΠΩΛΗΤΗ', 'ΠΑΡΑΓΓΕΛΙΑ ΑΠΟ ΣΕΠΤΕΜΒΡΗ',\n",
       "       'ΔΕΝ ΕΝΔΙΑΦΕΡΕΤΑΙ', 'ΘΑ ΔΩΣΕΙ Ο ΙΔΙΟΣ ΠΑΡΓΓΕΛΙΑ ΑΝ ΧΡΕΙΑΣΤΕΙ ΚΑΤΙ',\n",
       "       'ΑΓΟΡΑΖΟΥΝ ΜΟΝΟ ΜΕΣΩ ΕΜΠΟΡΟΥ ,ΤΟΥ ΚΟΥΚΟΥΖΕΛΟΙ ΑΦΟΙ.',\n",
       "       'ΔΕΝ ΕΝΔΙΑΦΕΡΟΝΤΑΙ .ΒΓΑΖΟΥΝ ΔΙΚΑ ΤΟΥΣ ΚΕΡΑΣΜΑΤΑ.',\n",
       "       'ΔΕΝ ΘΑ ΧΡΕΙΣΤΕΙ ΚΑΤΙ.', 'ΔΕΝ ΘΑ ΧΡΕΙΑΣΤΕΙ ΚΑΤΙ.',\n",
       "       'ΔΕΝ ΘΑΝ ΧΡΕΙΑΣΤΕΙΜ ΚΑΤΙ.', 'ΔΕΝ ΘΑ ΧΡΕΙΑΣΤΕΙ ΚΑΤΙ.',\n",
       "       'ΔΕΝ ΘΑ ΧΡΕΙΑΣΤΕΙ ΚΑΤΙ', 'nan',\n",
       "       'ΕΠΑΙΡΝΕ BIANCA ΑΠΟ ΕΜΑΣ, ΤΩΡΑ ΤΟ ΠΑΙΡΝΕΙ ΑΠΟ ΑΛΛΟΥ ΜΕ ΚΑΛΥΤΕΡΗ ΤΙΜΗ. ΗΤΑΝ ΕΥΧΑΡΙΣΤΗΜΕΝΟΣ ΑΠΟ ΤΟ ΠΡΟΙΟΝ. ΔΕΝ ΘΕΛΕΙ ΝΑ ΜΙΛΑΕΙ ΜΕ ΠΩΛΗΤΕΣ. ΘΑ ΤΟΝ ΞΑΝΑΚΑΛΕΣΩ ΤΗΝ ΕΠΟΜΕΝΗ ΕΒΔΟΜΑΔΑ ΓΙΑ ΝΑ ΠΕΡΑΣΕΙ ΚΑΠΟΙΟΣ ΝΑ ΤΟΥ ΔΩΣΕΙ ΚΑΤΑΛΟΓΟ ΚΑΙ ΤΙΜΕΣ. ',\n",
       "       'ΔΕΝ ΘΑ ΧΡΕΙΑΣΤΕΙ ΚΑΤΙ.',\n",
       "       'ΔΕΝ ΘΑ ΧΡΕΙΑΣΤΕΙ ΚΑΤΙ. ΜΕ ΤΗΝ ΕΠΟΜΕΝΗ ΠΑΡΑΓΓΕΛΙΑ ΘΕΛΕΙ ΚΑΙ ΔΕΙΓΜΑ ZELA PIZZA.',\n",
       "       'ΔΕΝ ΕΝΔΙΑΦΕΡΕΤΑΙ', 'ΔΙΝΕΙ ΠΑΡΑΓΓΕΛΙΑ ΣΤΟΝ ΕΜΠΟΡΟ',\n",
       "       'ΔΕΝ ΕΝΔΙΑΦΕΡΕΤΑΙ', 'ΔΕΝ ΕΝΔΙΑΦΕΡΕΤΑΙ',\n",
       "       'ΔΙΝΕΙ ΣΤΟΝ ΕΜΠΟΡΟ ΟΤΑΝ ΧΡΕΙΑΖΕΤΑΙ ΠΑΡΑΓΓΕΛΙΑ', 'ΟΚ ΠΑΡΑΓΓΕΛΙΑ',\n",
       "       'ΟΚ ΕΔΩΣΕ ΠΑΡΑΓΓΕΛΙΑ', 'ΟΚ ΕΔΩΣΕ ΠΑΡΑΓΓΕΛΙΑ', 'δεν ενδιαφερεται',\n",
       "       'nan', 'ΟΚ ΕΔΩΣΕ ΠΑΡΑΓΓΕΛΙΑ',\n",
       "       'ΕΔΩΣΕ ΠΑΡΑΓΓΕΛΙΑ ΣΤΟΝ ΠΩΛΗΤΗ ΘΕΛΕΙ ΣΥΝΤΑΓΕΣ MAMAS CAKE',\n",
       "       'ΔΕΝ ΕΝΔΙΑΦΕΡΕΤΑΙ', 'δεν ενδιαφερεται ',\n",
       "       'θα δωσει ο ιδιος παραγγελία στον πωλητη.,',\n",
       "       'ΔΕΝΕ ΕΝΔΙΑΦΕΡΕΤΑΙ ΓΙΑ ΠΑΡΑΓΓΕΛΙΑ ', 'nan', 'ΔΕΝ ΕΝΔΙΑΦΕΡΕΤΑΙ',\n",
       "       'ΔΕΝ ΕΝΔΙΑΦΕΡΕΤΑΙ', 'ΔΕΝ ΕΝΔΙΑΦΕΡΕΤΑΙ ΓΙΑ ΠΑΡΑΓΓΕΛΙΑ',\n",
       "       'ΟΚ ΕΔΩΣΕ ΠΑΡΑΓΓΕΛΙΑ', 'ΘΑ ΔΩΣΕΙ Ο ΙΔΙΟΣ ΑΝ  ΧΡΕΙΑΣΤΕΙ ',\n",
       "       'ΕΔΩΣΕ ΠΑΡΑΓΓΕΛΙΑ ΣΤΗΝ ΕΤΑΙΡΕΕΙΑ', 'ΔΕΝ ΕΝΔΙΑΦΕΡΕΤΑΙ',\n",
       "       'ΔΕΝΕ ΝΔΙΑΦΕΡΕΤΑΙ', 'nan',\n",
       "       'ΘΑ ΔΩΣΕΙ Ο ΙΔΙΟΣ ΠΑΡΑΓΓΕΛΙΑ ΑΝ ΧΡΕΙΑΣΤΕΙ', 'ΟΚ ΠΑΡΑΓΓΕΛΙΑ',\n",
       "       'ΘΑ ΔΩΣΕΙ Ο ΙΔΙΟΣ ΠΑΡΑΓΓΕΛΙΑ', 'nan', 'ΔΕΝ ΕΝΔΙΑΦΕΡΕΤΑΙ',\n",
       "       'ΔΕΝ ΕΝΔΙΑΦΕΡΕΤΑΙ', 'ΘΑ ΔΩΣΕΙ Ο ΙΔΙΟΣ ΟΤΑΝ ΧΡΕΙΑΣΤΕΙ,',\n",
       "       'ΘΑ ΔΩΣΕΙ Ο ΙΔΙΟΣ ΑΝ ΧΡΕΙΑΣΤΕΙ', 'ΘΑ ΔΩΣΕΙ Ο ΙΔΙΟΣ ΑΝ ΧΡΕΙΑΣΤΕΙ',\n",
       "       'nan', 'ΔΕΝ ΘΑ ΧΡΕΙΑΣΤΕΙ ΚΑΤΙ ΓΙΑ ΑΥΡΙΟ.',\n",
       "       'ΔΕΝ ΘΑ ΧΡΕΙΑΣΤΕΙ ΚΑΤΙ.',\n",
       "       'ΔΕΝ ΧΡΕΙΑΖΕΤΑΙ ΚΑΤΙ . ΣΥΝΗΘΩΣ ΠΑΙΡΝΕΙ ΤΟΝ ΠΩΛΗΤΗ',\n",
       "       'ΔΕΝ ΘΑ ΧΡΕΙΑΣΤΕΙ ΚΑΤΙ.', 'nan', 'ΔΕΝ ΘΑ ΧΡΕΙΑΣΤΕΙ ΚΑΤΙ.', 'nan',\n",
       "       'οκ παραγγελια', 'οκ παραγγελια',\n",
       "       'ΕΛΛΕΙΠΕ Ο ΜΑΣΤΟΡΑΣ .ΑΝ ΧΡΕΙΑΣΤΕΙ ΚΑΤΙ ΘΑ ΠΑΡΕΙ ΤΗΛΕΦΩΝΟ.',\n",
       "       'ΔΕΝ ΘΑ ΧΡΕΙΑΣΤΕΙ ΚΑΤΙ.', 'ΔΕΝ ΘΑ ΧΡΕΙΑΣΤΕΙ ΚΑΤΙ.',\n",
       "       'ΔΕΝ ΘΑ ΧΡΕΙΑΣΤΕΙ ΚΑΤΙ.', 'ΔΕΝ ΘΑ ΧΡΕΙΑΣΤΕΙ ΚΑΤΙ.',\n",
       "       'ΔΕΝ ΘΑ ΧΡΕΙΑΣΤΕΙ ΚΑΤΙ.', 'ΟΚ ΠΑΡΑΓΓΕΛΙΑ',\n",
       "       'OK ΕΔΩΣΕ ΠΑΡΑΓΓΕΛΙΑ ΜΙΑ PANACOTTA ΕΠΕΙΔΗ ΚΑΤΑργηθηκε Η FILK CH Kα Βασιλάκη',\n",
       "       'οκ εδωσε παραγγελια', 'ΔΕΝ ΕΝΔΙΑΦΕΡΕΤΑΙ  ΤΗΛ ΑΥΡΙΟ',\n",
       "       'OK ΕΔΩΣΕ ΠΑΡΑΓΓΕΛΙΑ', 'ΟΚ ΠΑΡΑΓΓΕΛΙΑ', 'ψωνιζει μονο απο εμπορο',\n",
       "       'δεν  ενδιαφερεται', 'nan', 'ΨΩΝΙΖΕΙ ΑΠΟ ΕΜΠΟΡΟ',\n",
       "       'ΨΩΝΙΖΕΙ ΑΠΟ ΠΑΡΜΑΞΙΣΟΓΛΟΥ', 'ΨΩΝΙΖΕΙ ΑΠΟ ΕΜΠΟΡΟ ΑΝ ΑΧΡΕΙΑΣΤΕΙ',\n",
       "       'ΜΙΛΑΕΙ ΜΕ ΤΟΝ ΠΩΛΗΤΗ ΚΑΙ ΔΙΝΕΙ ΣΤΟΝ ΜΑΓΙΑΤΖΗ ΠΑΡΑΓΓΕΛΙΑ,',\n",
       "       'ΔΕΝΕ ΕΝΔΙΑΦΕΡΕΤΑΙ', 'ΔΕΝ ΕΝΔΙΑΦΕΡΕΤΑΙ', 'ΨΩΝΙΖΕΙ ΑΠΟ ΕΜΠΟΡΟ',\n",
       "       'ΨΩΝΙΖΕΙ ΜΟΝΟ  ΑΠΟ ΚΕΙΜΠΙΝΟ ', 'ΔΕΝ ΕΝΔΙΑΦΕΡΕΤΑΙ',\n",
       "       'ΔΕΝ ΕΝΔΙΑΦΕΡΕΤΑΙ', 'ΔΙΝΕΙ ΜΟΝΟ ΣΤΟΝ ΕΜΠΟΡΟ',\n",
       "       'ΑΝ ΧΡΕΙΑΣΤΕΙ ΘΑ ΕΠΙΚΟΙΝΩΝΗΣΕΙ Ο ΙΔΙΟΣ', 'nan', 'ΟΚ ΠΑΡΑΓΓΕΛΙΑ',\n",
       "       'οκ παραγγελια', 'ΟΚ ΠΑΡΑΓΓΕΛΙΑ', 'ΟΚ ΕΔΩΣΕ ΠΑΡΑΓΓΕΛΙΑ',\n",
       "       'ΔΕΝ ΕΝΔΙΑΦΕΡΕΤΑΙ',\n",
       "       'ΘΑ ΚΛΕΙΣΕΙ ΓΙΑ ΔΙΑΚΟΠΕΣ ΕΠΙΣΤΡΟΦΗ ΑΠΟ 20 ΑΥΓΟΥΣΤΟΥ ΚΑΙ ΜΕΤΑ',\n",
       "       'ΔΕΝ ΕΝΔΙΑΦΕΡΕΤΑΙ', 'ΔΕΝ ΕΝΔΙΑΦΕΡΕΕΤΑΙ', 'ΔΕΝ ΕΝΔΙΑΦΕΡΕΤΑΙ',\n",
       "       'ΔΕΝ ΕΝΔΙΑΦΕΡΕΤΑΙ', 'ΔΕΝ ΕΝΔΙΑΦΕΡΕΤΑΙ ', 'ΔΕΝ ΕΝΔΙΑΦΕΡΕΤΑΙ',\n",
       "       'ΔΕΝ ΕΝΔΙΑΦΕΡΕΤΑΙ', 'ΔΕΝ ΕΝΔΙΑΦΕΡΕΤΑΙ ΓΙΑ ΠΑΡΑΓΓΕΛΙΑ',\n",
       "       'ΑΝ ΧΡΕΙΑΣΤΕΙ ΘΑ ΔΩΣΕΙ Ο ΙΔΙΟΣ.', 'ΔΕΝ ΕΝΔΙΑΦΕΡΕΤΑΙ',\n",
       "       'ΕΧΕΙ ΔΩΣΕΙ ΣΤΟΝ ΜΑΓΙΑΤΖΗ ΠΑΡΑΓΓΕΛΙΑ', 'οκ εδωσε παραγγελια',\n",
       "       'nan', 'ΔΕΝ ΘΑ ΧΡΕΙΑΣΤΕΙ ΚΑΤΙ', 'ΔΕΝ ΘΑ ΧΡΕΙΑΣΤΕΙ ΚΑΤΙ', 'nan',\n",
       "       'ΔΕΝ ΧΡΕΙΑΖΕΤΑΙ ΚΑΤΙ.', 'ΟΚ ΠΑΡΑΓΓΕΛΙΑ ', 'nan',\n",
       "       'ΔΕΝ ΘΑ ΧΡΕΙΑΣΤΕΙ ΚΑΤΙ.', 'ΔΕΝ ΘΑ ΧΡΕΙΑΣΤΕΙ ΚΑΤΙ.',\n",
       "       'ΔΕΝ ΘΑ ΧΡΕΙΑΣΤΕΙ ΚΑΤΙ.', 'θα δωσει ο ιδιιος αν χρειαστει,',\n",
       "       'δεν ενδιαφερεται', 'δεν ΕΧΟΥΝ ΠΟΛΥ ΔΟΥΛΕΙΑ ',\n",
       "       'ΘΑ ΔΩΣΕΙ ΠΑΡΑΓΓΕΛΙΑ ΑΡΓΟΤΕΡΑ,',\n",
       "       'ΔΕΝ ΕΝΔΙΑΦΕΡΕΤΑΙ ΓΙΑ ΤΑ ΠΡΟΙΙΟΝΤΑ ΜΑΣ ΤΕΛΙΚΑ', 'ΔΕΝ ΕΝΔΙΑΦΕΡΕΤΑΙ',\n",
       "       'DEN ENDIAFERETAI', 'ΠΑΙΡΝΕΙ ΛΙΓΑ ΠΡΟΙΝΤΑ ΑΠΟ ΤΗΝ ΕΤΑΙΡΕΙΑ ΜΑΣ',\n",
       "       'ΔΕΝ ΕΧΕΙ ΠΟΛΥ ΔΟΥΛΕΙΑ ΔΕΝ ΕΝΔΙΑΦΕΡΕΤΑΙ.', 'ΟΚ ΕΔΩΣΕ ΠΑΡΑΓΓΕΛΙΑ',\n",
       "       'ΘΕΛΕΙ ΝΑ ΤΟΥ ΣΤΕΙΛΩ ΚΑΙ ΔΕΙΓΜΑ ZELA PIZZA', 'nan',\n",
       "       'ΔΕΝ ΠΡΟΣΦΕΡΟΥΝ ΑΚΟΜΗ ΣΥΝΟΔΕΥΤΙΚΟ.',\n",
       "       'ΕΑΝ ΧΡΕΙΣΤΕΙ ΚΑΤΙ ,ΘΑ ΜΕ ΕΝΗΜΕΡΩΣΕΙ.',\n",
       "       'ΔΕΝ ΘΑ ΧΡΕΙΑΣΤΕΙ ΚΑΤΙ ,ΓΙΑΤΙ ΤΟΥς ΑΛΛΑΞΑΝΕ ΤΑ ΠΡΩΙΝΑ.',\n",
       "       'ΘΑ ΜΕ ΚΑΛΕΣΕΙ ΕΑΝ ΧΡΕΙΑΣΤΕΙ ΚΑΤΙ.', 'nan',\n",
       "       'ΔΕΝ ΑΝΟΙΞΕ ΛΟΓΟ ΤΗΣ ΚΑΤΑΣΤΑΣΗΣ ΔΕΝ ΕΧΕΙ ΚΑΘΟΛΟΥ ΔΟΥΛΕΙΑ.'],\n",
       "      dtype='<U231')"
      ]
     },
     "execution_count": 109,
     "metadata": {},
     "output_type": "execute_result"
    }
   ],
   "source": [
    "react = df_final.LongComment.values.astype(\"str\")\n",
    "react"
   ]
  },
  {
   "cell_type": "code",
   "execution_count": 110,
   "metadata": {},
   "outputs": [
    {
     "data": {
      "text/plain": [
       "(array([0, 1, 1, 1, 0, 1, 1, 1, 0, 0, 1, 1, 1, 1, 1, 1, 1, 1, 1, 1, 1, 1,\n",
       "        1, 1, 1, 1, 1, 1, 1, 1, 1, 1, 1, 1, 1, 1, 0, 1, 1, 1, 1, 1, 1, 1,\n",
       "        1, 1, 1, 1, 1, 1, 1, 1, 1, 1, 1, 1, 1, 0, 1, 0, 1, 1, 1, 1, 1, 1,\n",
       "        0, 1, 0, 0, 0, 1, 0, 1, 1, 0, 1, 1, 1, 1, 1, 1, 0, 0, 1, 1, 1, 1,\n",
       "        1, 1, 1, 1, 1, 1, 0, 1, 1, 1, 1, 1, 1, 1, 1, 0, 1, 0, 1, 0, 1, 1,\n",
       "        1, 1, 1, 1, 1, 1, 1, 1, 1, 1, 1, 0, 1, 1, 1, 1, 1, 1, 1, 1, 1, 1,\n",
       "        1, 1, 0, 1, 1, 0, 0, 0, 1, 0, 1, 1, 0, 1, 0, 1, 1, 1, 1, 1, 0, 0,\n",
       "        1, 1, 1, 1, 0, 1, 1, 1, 0, 1, 0, 1, 1, 1, 1, 1, 1, 1, 1, 1, 1, 1,\n",
       "        1, 1, 1, 1, 1, 0, 1, 1, 0, 0, 1, 1, 1, 1, 1, 1, 1, 1, 1, 1, 1, 1,\n",
       "        1, 1, 1, 1, 1, 1, 1, 1, 1, 1, 1, 0, 1, 1, 1, 1, 1, 1, 1, 1, 1, 1,\n",
       "        1, 1, 0, 1, 1, 1, 0, 1, 1, 1, 1, 1, 0, 1, 1, 1, 0, 0, 1, 0, 0, 1,\n",
       "        0, 0, 0, 1, 0, 1, 1, 0, 0, 1, 1, 0, 0, 1, 1, 0, 0, 1, 1, 1, 1, 1,\n",
       "        1, 1, 1, 1, 1, 1, 1, 1, 0, 1, 1, 1, 1, 1, 1, 1, 1, 1, 1, 1, 1, 0,\n",
       "        0, 0, 0, 1, 1, 1, 1, 1, 0, 0, 0, 0, 0, 0, 0, 0, 0, 0, 0, 0, 1, 1,\n",
       "        0, 1, 1, 0, 1, 1, 1, 1, 1, 1, 1, 1, 0, 1, 1, 0, 0, 1, 1, 0, 1, 0,\n",
       "        0, 1, 1, 1, 1, 1, 1, 1, 1, 1, 1, 1, 1, 1, 1, 1, 0, 1, 0, 1, 1, 1,\n",
       "        0, 1, 1, 1, 1, 1, 0, 1, 1, 1, 1, 1, 1, 1, 1, 1, 1, 1, 0, 1, 1, 1,\n",
       "        1, 1, 1, 1, 1, 1, 1, 1, 0, 0, 0, 0, 1, 1, 0, 1, 1, 1, 1, 1, 1, 1,\n",
       "        1, 1, 0, 0, 1, 0, 1, 1, 1, 1, 1, 1, 1, 1, 0, 0, 0, 1, 0, 1, 1, 1,\n",
       "        0, 1, 1, 1, 1, 1, 1, 0, 1, 1, 1, 1, 1, 1, 1, 0, 0, 0, 1, 1, 1, 1,\n",
       "        1, 1, 0, 1, 1, 1, 0, 0, 1, 1, 0, 1, 0, 0, 0, 0, 0, 0, 0, 0, 0, 0,\n",
       "        0, 0, 0, 0, 0, 1, 1, 0, 1, 1, 1, 0, 0, 0, 0, 1, 0, 0, 0, 0, 0, 0,\n",
       "        0, 0, 0, 1, 0, 1, 1, 1, 0, 0, 0, 1, 1, 1, 1, 1, 1, 1, 1, 0, 0, 0,\n",
       "        0, 0, 0, 0, 0, 0, 1, 1, 1, 1, 1, 1, 1, 1, 1, 1, 1, 0, 1, 1, 0, 0,\n",
       "        1, 1, 1, 1, 1, 1, 1, 1, 1, 1, 1, 1, 1, 1, 1, 1, 1, 1, 0, 0, 1, 1,\n",
       "        1, 1, 1, 1, 1, 1, 1, 1, 1, 0, 1, 0, 0, 0, 0, 1, 1, 1, 1, 0, 0, 0,\n",
       "        1, 1, 1, 1, 1, 1, 1, 1, 1, 1, 1, 1, 1, 0, 0, 1, 1, 1, 1, 1, 1, 1,\n",
       "        1, 1, 1, 1, 1, 1, 1, 0, 0, 0, 1, 1, 1, 1, 0, 0, 0, 0, 0, 0, 0, 1,\n",
       "        1, 1, 1, 1, 1, 1, 1, 1, 1, 1, 0, 1, 1, 1, 0, 1, 1, 1, 1, 1, 1, 1,\n",
       "        0, 1, 1, 1, 1, 0, 1, 1, 1, 1, 1, 1, 1, 1, 1, 1, 0, 1, 1, 1, 1, 1,\n",
       "        1, 1, 1, 0, 0, 0, 1, 0, 0, 0, 1, 1, 1, 1, 1, 1, 1, 1, 0, 1, 0, 1,\n",
       "        1, 1, 1, 0, 1, 1, 1, 1, 1, 1, 1, 0, 1, 1, 1, 1, 0, 1, 0, 0, 0, 1,\n",
       "        1, 1, 1, 1, 1, 0, 0, 0, 1, 0, 0, 1, 1, 1, 1, 1, 1, 1, 1, 1, 1, 1,\n",
       "        1, 1, 1, 1, 1, 0, 0, 0, 0, 1, 1, 1, 1, 1, 1, 1, 1, 1, 1, 1, 1, 0,\n",
       "        0, 0, 1, 1, 1, 1, 0, 1, 1, 1, 1, 1, 1, 1, 1, 1, 1, 1, 1, 1, 0, 0,\n",
       "        0, 1, 1, 1, 1, 0, 1], dtype=int64),\n",
       " Index(['pos', 'neg'], dtype='object'))"
      ]
     },
     "execution_count": 110,
     "metadata": {},
     "output_type": "execute_result"
    }
   ],
   "source": [
    "sentiment_label = df_final.Interest.factorize()\n",
    "sentiment_label"
   ]
  },
  {
   "cell_type": "code",
   "execution_count": 111,
   "metadata": {},
   "outputs": [],
   "source": [
    "#react = df_final.LongComment.values\n",
    "tokenizer = Tokenizer(num_words=2000)\n",
    "tokenizer.fit_on_texts(react)\n",
    "vocab_size = len(tokenizer.word_index) + 1\n",
    "encoded_docs = tokenizer.texts_to_sequences(react)\n",
    "padded_sequence = pad_sequences(encoded_docs, maxlen=200)"
   ]
  },
  {
   "cell_type": "code",
   "execution_count": 112,
   "metadata": {},
   "outputs": [
    {
     "data": {
      "text/plain": [
       "<keras_preprocessing.text.Tokenizer at 0x2809e9e59d0>"
      ]
     },
     "execution_count": 112,
     "metadata": {},
     "output_type": "execute_result"
    }
   ],
   "source": [
    "tokenizer"
   ]
  },
  {
   "cell_type": "code",
   "execution_count": 113,
   "metadata": {},
   "outputs": [
    {
     "name": "stdout",
     "output_type": "stream",
     "text": [
      "{'παραγγελια': 1, 'δεν': 2, 'ενδιαφερεται': 3, 'για': 4, 'θα': 5, 'εδωσε': 6, 'χρειαστει': 7, 'οκ': 8, 'nan': 9, 'δωσει': 10, 'στον': 11, 'ο': 12, 'κατι': 13, 'ιδιος': 14, 'απο': 15, 'αν': 16, 'εμπορο': 17, 'οταν': 18, 'και': 19, 'μας': 20, 'δινει': 21, 'τα': 22, 'πωλητη': 23, 'μονο': 24, 'προιοντα': 25, 'ψωνιζει': 26, 'τον': 27, 'ενδιαφερται': 28, 'χρειαζεται': 29, 'την': 30, 'το': 31, 'εχει': 32, 'με': 33, 'να': 34, 'παιρνει': 35, 'προς': 36, 'ειναι': 37, 'θελει': 38, 'εβδομαδα': 39, 'δενε': 40, 'ενημερωνεται': 41, '1': 42, 'ok': 43, 'ενημερωμενος': 44, 'νουση': 45, 'πυρρο': 46, 'mamas': 47, 'εταιρεια': 48, 'κειμπινο': 49, 'τωρα': 50, 'παρων': 51, 'αυτη': 52, 'δουλεια': 53, 'ενα': 54, 'καλεσει': 55, 'παρον': 56, 'εκεινον': 57, 'ενδιαφερονται': 58, 'η': 59, 'αργοτερα': 60, 'παρει': 61, 'χρειστει': 62, 'μιλαει': 63, 'του': 64, 'αλλη': 65, 'δειγμα': 66, 'chocolatier': 67, 'delicecover': 68, 'τηλ': 69, 'αντωνιου': 70, 'αλλα': 71, 'στην': 72, 'βουδρη': 73, 'μανο': 74, 'καταλογο': 75, 'ιδια': 76, 'ερδα': 77, 'kaseri': 78, 'σωσει': 79, 'ακομη': 80, '4': 81, 'κάτι': 82, 'αυριο': 83, 'cake': 84, 'sokolata': 85, 'μαζι': 86, 'νεα': 87, 'μια': 88, 'συγκεκριμενα': 89, 'ενημερωσει': 90, 'γνωριζει': 91, 'corn': 92, 'στο': 93, 'οτι': 94, 'τηλεφωνο': 95, 'συνεργαζεται': 96, 'kai': 97, '10': 98, 'pizza': 99, 'εμας': 100, 'paste': 101, 'ιδιο': 102, 'γιαννακο': 103, 'καθολου': 104, 'υπολειτουργει': 105, 'νδιαφερεται': 106, 'αύριο': 107, 'τους': 108, 'κ': 109, 'χρειαστεί': 110, 'ξανακαλεσω': 111, 'εγω': 112, 'πολυ': 113, 'συνηθως': 114, 'επομενη': 115, 'λευκο': 116, 'χρεαστει': 117, 'minuta': 118, 'λιγα': 119, 'πραγματα': 120, 'κωτση': 121, 'σε': 122, 'παραγγελιες': 123, 'που': 124, 'καφε': 125, 'λεττα': 126, 'παραγγελία': 127, 'choco': 128, 'προιον': 129, '2': 130, 'princelux': 131, 'becahmel': 132, 'περασε': 133, 'δωσουν': 134, 'οι': 135, 'ιδιοι': 136, 'μεσω': 137, 'μαμαs': 138, 'χρ': 139, 'θ': 140, 'ενδιαφερετια': 141, 'πακετο': 142, 'οτανα': 143, 'prozyl': 144, 'ειπε': 145, 'μετα': 146, 'χρειαστουν': 147, 'velex': 148, 'kl': 149, 'bechamel': 150, 'καπελο': 151, 'ενδιαφερει': 152, 'ενημερωνουμε': 153, 'εκεινος': 154, 'panacotta': 155, 'ενδιαφεερεται': 156, 'χρειαζονται': 157, 'δνιαφερεται': 158, 'εδωσαν': 159, 'επικοινωνησει': 160, 'γενικά': 161, 'μου': 162, 'ότι': 163, 'ενδιαφέρεται': 164, 'ελλειπε': 165, 'περασει': 166, 'πωλητης': 167, 'καλει': 168, 'ενδιαφερεεται': 169, 'προσφερουν': 170, 'συνοδευτικο': 171, 'ομως': 172, 'επειδη': 173, 'zela': 174, 'μαγιατζη': 175, 'εαν': 176, '2105621903': 177, 'συνεργαζοταν': 178, 'παλια': 179, 'ανταγωνιστη': 180, 'συνεργασια': 181, 'χονδρικη': 182, 'πωληση': 183, 'παγωτωμηχανων': 184, 'προοιντα': 185, 'σταματησει': 186, 'ανταγωνιστες': 187, 'μπεξης': 188, 'πελατης': 189, 'ενημερωθηκε': 190, 'πρωτη': 191, 'φορα': 192, 'ζητησε': 193, 'matcha': 194, 'tea': 195, 'ενημερωωνεται': 196, 'αγοραζει': 197, 'κατεψυγμενα': 198, 'αναψυκτηριο': 199, 'χρεριαστει': 200, 'διος': 201, 'tsoureki': 202, 'γαι': 203, 'ταβερνα': 204, 'αλλαγη': 205, 'επωνυμιας': 206, 'ζεκης': 207, 'χρηστος': 208, 'nordix': 209, 'ενημερωμενη': 210, 'σημερα': 211, 'blend': 212, 'it': 213, 'πριοντα': 214, 'ελαχιστα': 215, 'εναν': 216, 'περισσοτερα': 217, 'οκτωβρη': 218, 'υπευθυνος': 219, 'μυκονο': 220, 'επωνυμια': 221, '2289026206': 222, 'κος': 223, 'μαριος': 224, \"παραγγελια'\": 225, 'απ': 226, 'αλλο': 227, 'εδνιαφερται': 228, 'προμηθευεται': 229, 'κατευθειαν': 230, 'δημητριαδη': 231, 'καθε': 232, '15': 233, 'ημερες': 234, 'κια': 235, 'p': 236, 'fiesta': 237, 'ρουντα': 238, 'twin': 239, 'binaca': 240, 'gr': 241, 'neo': 242, 'καποιο': 243, 'διαστημα': 244, 'salty': 245, 'caramel': 246, '2princess': 247, 'εχθες': 248, 'δφε': 249, 'κιλο': 250, 'ανευ': 251, 'δωσσει': 252, 'carlex': 253, 'spray': 254, 'otan': 255, 'επικοινωνιας': 256, '6938871927': 257, 'ψνιζει': 258, 'εδρα': 259, 'αμφιλοχια': 260, 'mαλλον': 261, 'ξαναχρειαστουν': 262, 'zella': 263, 'nea': 264, 'τοποθετηση': 265, 'πυρο': 266, 'χρειαεται': 267, 'καλεσουμε': 268, 'τις': 269, 'γιορτες': 270, 'αποφασισει': 271, 'ποια': 272, 'παρειι': 273, 'φτιαχνει': 274, 'τιποτα': 275, 'ετοιμα': 276, 'βαλαρη': 277, 'χρειααστει': 278, 'μπερδευεται': 279, 'σττον': 280, 'σωσουν': 281, 'οτα': 282, '7': 283, 'princess': 284, 'prokorn': 285, 'θια': 286, 'μamas': 287, 'aney': 288, 'εδνδιαφερεται': 289, 'ψωνιζουν': 290, 'ειχε': 291, 'dip': 292, 'white': 293, 'πριν': 294, 'κλεισουμε': 295, 'μονος': 296, 'σ': 297, 'ενδιαφεται': 298, 'παραων': 299, 'απευθυνθει': 300, 'ζαφειρατο': 301, 'επικοινωνει': 302, 'ενδιααφερεται': 303, 'πριοιντα': 304, 'τν': 305, '6': 306, 'fruit': 307, 'filling': 308, 'προσφορα': 309, 'παρεγγελια': 310, 'διινει': 311, 'δνιαφερται': 312, 'ενδιαδερεται': 313, 'πραγγελια': 314, 'γprozyl': 315, 'pan': 316, 'f': 317, 'πλεον': 318, 'στομ': 319, 'οτνα': 320, 'παραγγεία': 321, 'παραγελια': 322, 'παραγγελλια': 323, 'zeemωτο': 324, 'einai': 325, 'κλειστα': 326, 'παιρνουν': 327, 'αδωσουν': 328, 'ανοιξουν': 329, 'οιδιος': 330, 'ενδιαφερεαται': 331, 'πωλτητη': 332, 'διαφερεται': 333, '3': 334, 'ts': 335, 'oriental': 336, 'χρεισετει': 337, 'ενχει': 338, 'ενδιαφερτεται': 339, 'δνιαφερρεται': 340, 'οκκ': 341, 'εχεο': 342, 'δν': 343, 'μομνοο': 344, 'τσαγαλα': 345, 'χρειάζεται': 346, 'αρνητικός': 347, 'είπε': 348, 'μίγματα': 349, 'κάνουνε': 350, 'μόνοι': 351, 'ενημέρωσα': 352, 'έχουμε': 353, 'μαργαρίνες': 354, 'σοκολάτες': 355, 'σταγόνες': 356, 'σοκολάτας': 357, 'άλλα': 358, 'ρώτησε': 359, 'πρωτεινικό': 360, 'μπισκότα': 361, 'παρόν': 362, 'καλέσει': 363, 'ίδια': 364, 'μαρια': 365, 'παπαζη': 366, 'εκλεισε': 367, 'ξανακαλέσω': 368, 'γιαπαραγγελια': 369, 'υοευθυνος': 370, 'καλεσε': 371, 'τρυφων': 372, 'προμηθεύεται': 373, 'από': 374, 'άλλους': 375, 'έδειξε': 376, 'ενδιαφέρον': 377, 'δικά': 378, 'προιόντα': 379, 'είναι': 380, 'φίλος': 381, 'πρώην': 382, 'πωλητή': 383, 'οπότε': 384, 'συνεργάζεται': 385, 'μαζί': 386, 'υπεύθυνη': 387, 'κόρη': 388, 'σοφία': 389, 'σταματησε': 390, 'παραγωγη': 391, 'χρειατει': 392, 'ενημερωσα': 393, 'ζαχαρη': 394, 'δουμε': 395, 'εβδοαμαδα': 396, 'κυριως': 397, 'δυο': 398, 'εβδομαδες': 399, 'καλω': 400, 'δωσιε': 401, 'πρωτα': 402, 'εξοφλησει': 403, 'ανα': 404, 'προιοντικο': 405, 'μιλησει': 406, 'ερχεται': 407, 'υποκαταστημα': 408, 'οχι': 409, 'σκοπευουν': 410, 'αναλογα': 411, 'τη': 412, 'επανελθουν': 413, 'παιρνω': 414, 'παραγγελαι': 415, 'μπορει': 416, 'πηγαινει': 417, 'φορτηγο': 418, 'δνιαφερεαται': 419, 'γαια': 420, 'καλημενος': 421, 'καλοκαιρινη': 422, 'σεζον': 423, 'μιλησουμε': 424, 'καλεσω': 425, 'σεπτεμβρη': 426, 'παργγελια': 427, 'αγοραζουν': 428, 'εμπορου': 429, 'κουκουζελοι': 430, 'αφοι': 431, 'βγαζουν': 432, 'δικα': 433, 'κερασματα': 434, 'θαν': 435, 'χρειαστειμ': 436, 'επαιρνε': 437, 'bianca': 438, 'αλλου': 439, 'καλυτερη': 440, 'τιμη': 441, 'ηταν': 442, 'ευχαριστημενος': 443, 'πωλητες': 444, 'καποιος': 445, 'τιμες': 446, 'συνταγες': 447, 'εταιρεεια': 448, 'μαστορας': 449, 'καταργηθηκε': 450, 'filk': 451, 'ch': 452, 'kα': 453, 'βασιλάκη': 454, 'παρμαξισογλου': 455, 'αχρειαστει': 456, 'κλεισει': 457, 'διακοπες': 458, 'επιστροφη': 459, '20': 460, 'αυγουστου': 461, 'ιδιιος': 462, 'εχουν': 463, 'προιιοντα': 464, 'τελικα': 465, 'den': 466, 'endiaferetai': 467, 'προιντα': 468, 'στειλω': 469, 'γιατι': 470, 'αλλαξανε': 471, 'πρωινα': 472, 'ανοιξε': 473, 'λογο': 474, 'της': 475, 'καταστασης': 476}\n"
     ]
    }
   ],
   "source": [
    "print(tokenizer.word_index)"
   ]
  },
  {
   "cell_type": "code",
   "execution_count": 114,
   "metadata": {},
   "outputs": [
    {
     "name": "stdout",
     "output_type": "stream",
     "text": [
      "ΕΔΩΣΕ ΠΑΡΑΓΓΕΛΙΑ ΕΝΑ MAMAS CAKE λΕΥΚΟ ΚΑΙ ΘΕΛΕΙ ΔΕΙΓΜΑ ΓΙΑ CHOCOLATIER DELICECOVER SOKOLATA,\n",
      "[6, 1, 54, 47, 84, 116, 19, 38, 66, 4, 67, 68, 85]\n"
     ]
    }
   ],
   "source": [
    "print(react[0])\n",
    "print(encoded_docs[0])"
   ]
  },
  {
   "cell_type": "code",
   "execution_count": 115,
   "metadata": {},
   "outputs": [
    {
     "name": "stdout",
     "output_type": "stream",
     "text": [
      "[  0   0   0   0   0   0   0   0   0   0   0   0   0   0   0   0   0   0\n",
      "   0   0   0   0   0   0   0   0   0   0   0   0   0   0   0   0   0   0\n",
      "   0   0   0   0   0   0   0   0   0   0   0   0   0   0   0   0   0   0\n",
      "   0   0   0   0   0   0   0   0   0   0   0   0   0   0   0   0   0   0\n",
      "   0   0   0   0   0   0   0   0   0   0   0   0   0   0   0   0   0   0\n",
      "   0   0   0   0   0   0   0   0   0   0   0   0   0   0   0   0   0   0\n",
      "   0   0   0   0   0   0   0   0   0   0   0   0   0   0   0   0   0   0\n",
      "   0   0   0   0   0   0   0   0   0   0   0   0   0   0   0   0   0   0\n",
      "   0   0   0   0   0   0   0   0   0   0   0   0   0   0   0   0   0   0\n",
      "   0   0   0   0   0   0   0   0   0   0   0   0   0   0   0   0   0   0\n",
      "   0   0   0   0   0   0   0   6   1  54  47  84 116  19  38  66   4  67\n",
      "  68  85]\n"
     ]
    }
   ],
   "source": [
    "print(padded_sequence[0])"
   ]
  },
  {
   "cell_type": "code",
   "execution_count": 116,
   "metadata": {},
   "outputs": [
    {
     "name": "stdout",
     "output_type": "stream",
     "text": [
      "Model: \"sequential_4\"\n",
      "_________________________________________________________________\n",
      "Layer (type)                 Output Shape              Param #   \n",
      "=================================================================\n",
      "embedding_4 (Embedding)      (None, 200, 32)           15264     \n",
      "_________________________________________________________________\n",
      "spatial_dropout1d_4 (Spatial (None, 200, 32)           0         \n",
      "_________________________________________________________________\n",
      "lstm_4 (LSTM)                (None, 50)                16600     \n",
      "_________________________________________________________________\n",
      "dropout_4 (Dropout)          (None, 50)                0         \n",
      "_________________________________________________________________\n",
      "dense_4 (Dense)              (None, 1)                 51        \n",
      "=================================================================\n",
      "Total params: 31,915\n",
      "Trainable params: 31,915\n",
      "Non-trainable params: 0\n",
      "_________________________________________________________________\n",
      "None\n"
     ]
    }
   ],
   "source": [
    "embedding_vector_length = 32\n",
    "model = Sequential() \n",
    "model.add(Embedding(vocab_size, embedding_vector_length, input_length=200) )\n",
    "model.add(SpatialDropout1D(0.25))\n",
    "model.add(LSTM(50, dropout=0.5, recurrent_dropout=0.5))\n",
    "model.add(Dropout(0.2))\n",
    "model.add(Dense(1, activation='sigmoid')) \n",
    "model.compile(loss='binary_crossentropy',optimizer='adam', metrics=['accuracy'])  \n",
    "print(model.summary()) "
   ]
  },
  {
   "cell_type": "code",
   "execution_count": 117,
   "metadata": {
    "scrolled": true
   },
   "outputs": [
    {
     "name": "stdout",
     "output_type": "stream",
     "text": [
      "Epoch 1/5\n",
      "20/20 [==============================] - 4s 94ms/step - loss: 0.6549 - accuracy: 0.6747 - val_loss: 0.5419 - val_accuracy: 0.7692\n",
      "Epoch 2/5\n",
      "20/20 [==============================] - 2s 84ms/step - loss: 0.5787 - accuracy: 0.7246 - val_loss: 0.5219 - val_accuracy: 0.7692\n",
      "Epoch 3/5\n",
      "20/20 [==============================] - 2s 83ms/step - loss: 0.5373 - accuracy: 0.7246 - val_loss: 0.4573 - val_accuracy: 0.7692\n",
      "Epoch 4/5\n",
      "20/20 [==============================] - 2s 83ms/step - loss: 0.4383 - accuracy: 0.7520 - val_loss: 0.3397 - val_accuracy: 0.8333\n",
      "Epoch 5/5\n",
      "20/20 [==============================] - 2s 84ms/step - loss: 0.2967 - accuracy: 0.9018 - val_loss: 0.2542 - val_accuracy: 0.9231\n"
     ]
    }
   ],
   "source": [
    "history = model.fit(padded_sequence,sentiment_label[0],validation_split=0.2, epochs= 5, batch_size=32)"
   ]
  },
  {
   "cell_type": "markdown",
   "metadata": {},
   "source": [
    "- Accuracy of the model is extremely high. This does not mean that this is a good model since the dataset is of small size"
   ]
  },
  {
   "cell_type": "code",
   "execution_count": 118,
   "metadata": {},
   "outputs": [
    {
     "data": {
      "image/png": "[encoded data removed]",
      "text/plain": [
       "<Figure size 432x288 with 1 Axes>"
      ]
     },
     "metadata": {
      "needs_background": "light"
     },
     "output_type": "display_data"
    },
    {
     "data": {
      "text/plain": [
       "<Figure size 432x288 with 0 Axes>"
      ]
     },
     "metadata": {},
     "output_type": "display_data"
    }
   ],
   "source": [
    "plt.plot(history.history['accuracy'], label='Accuracy ratio')\n",
    "plt.plot(history.history['val_accuracy'], label='val_Accuracy ratio')\n",
    "plt.xlabel(\"epochs\")\n",
    "plt.ylabel(\"Accuracy\")\n",
    "plt.legend()\n",
    "plt.show()\n",
    "plt.savefig(\"Accuracy plot.png\")"
   ]
  },
  {
   "cell_type": "code",
   "execution_count": 71,
   "metadata": {},
   "outputs": [
    {
     "data": {
      "image/png": "[encoded data removed]",
      "text/plain": [
       "<Figure size 432x288 with 1 Axes>"
      ]
     },
     "metadata": {
      "needs_background": "light"
     },
     "output_type": "display_data"
    },
    {
     "data": {
      "text/plain": [
       "<Figure size 432x288 with 0 Axes>"
      ]
     },
     "metadata": {},
     "output_type": "display_data"
    }
   ],
   "source": [
    "plt.plot(history.history['loss'], label='loss')\n",
    "plt.plot(history.history['val_loss'], label='val_loss')\n",
    "plt.xlabel(\"epochs\")\n",
    "plt.ylabel(\"Loss ratio\")\n",
    "plt.legend()\n",
    "plt.show()\n",
    "plt.savefig(\"Loss plot.jpg\")"
   ]
  },
  {
   "cell_type": "code",
   "execution_count": 72,
   "metadata": {},
   "outputs": [],
   "source": [
    "def predict_sentiment(text):\n",
    "    tw = tokenizer.texts_to_sequences([text])\n",
    "    tw = pad_sequences(tw,maxlen=200)\n",
    "    prediction = int(model.predict(tw).round().item())\n",
    "    print(\"Predicted label: \", sentiment_label[1][prediction])"
   ]
  },
  {
   "cell_type": "code",
   "execution_count": 73,
   "metadata": {},
   "outputs": [
    {
     "name": "stdout",
     "output_type": "stream",
     "text": [
      "Predicted label:  pos\n",
      "Predicted label:  neg\n"
     ]
    }
   ],
   "source": [
    "test_sentence1 = \"εδωσε παραγγελια\"\n",
    "predict_sentiment(test_sentence1)\n",
    "\n",
    "test_sentence2 = \"δεν εδωσε\"\n",
    "predict_sentiment(test_sentence2)"
   ]
  },
  {
   "cell_type": "code",
   "execution_count": null,
   "metadata": {},
   "outputs": [],
   "source": []
  },
  {
   "cell_type": "markdown",
   "metadata": {},
   "source": [
    "### Translate comments to English "
   ]
  },
  {
   "cell_type": "code",
   "execution_count": null,
   "metadata": {},
   "outputs": [],
   "source": [
    "pip uninstall googletrans\n"
   ]
  },
  {
   "cell_type": "code",
   "execution_count": null,
   "metadata": {},
   "outputs": [],
   "source": [
    "pip install googletrans == 3.1.0a0"
   ]
  },
  {
   "cell_type": "code",
   "execution_count": null,
   "metadata": {},
   "outputs": [],
   "source": [
    "import googletrans\n",
    "\n",
    "print(googletrans.LANGUAGES)"
   ]
  },
  {
   "cell_type": "code",
   "execution_count": null,
   "metadata": {},
   "outputs": [],
   "source": [
    "from googletrans import Translator, constants\n",
    "from pprint import pprint"
   ]
  },
  {
   "cell_type": "code",
   "execution_count": null,
   "metadata": {},
   "outputs": [],
   "source": [
    "translator = Translator()"
   ]
  },
  {
   "cell_type": "code",
   "execution_count": null,
   "metadata": {},
   "outputs": [],
   "source": [
    "result = translator.translate(\"καλημερα παιδια\")"
   ]
  },
  {
   "cell_type": "markdown",
   "metadata": {},
   "source": [
    "### Save model structure"
   ]
  },
  {
   "cell_type": "code",
   "execution_count": 59,
   "metadata": {},
   "outputs": [],
   "source": [
    "model_nn_json = model.to_json()\n",
    "with open(\"model_nn.json\", \"w\") as json_file:\n",
    "    json_file.write(model_nn_json)"
   ]
  },
  {
   "cell_type": "code",
   "execution_count": 58,
   "metadata": {},
   "outputs": [
    {
     "data": {
      "text/plain": [
       "'{\"class_name\": \"Sequential\", \"config\": {\"name\": \"sequential_2\", \"layers\": [{\"class_name\": \"InputLayer\", \"config\": {\"batch_input_shape\": [null, 200], \"dtype\": \"float32\", \"sparse\": false, \"ragged\": false, \"name\": \"embedding_2_input\"}}, {\"class_name\": \"Embedding\", \"config\": {\"name\": \"embedding_2\", \"trainable\": true, \"batch_input_shape\": [null, 200], \"dtype\": \"float32\", \"input_dim\": 477, \"output_dim\": 32, \"embeddings_initializer\": {\"class_name\": \"RandomUniform\", \"config\": {\"minval\": -0.05, \"maxval\": 0.05, \"seed\": null}}, \"embeddings_regularizer\": null, \"activity_regularizer\": null, \"embeddings_constraint\": null, \"mask_zero\": false, \"input_length\": 200}}, {\"class_name\": \"SpatialDropout1D\", \"config\": {\"name\": \"spatial_dropout1d_2\", \"trainable\": true, \"dtype\": \"float32\", \"rate\": 0.25, \"noise_shape\": null, \"seed\": null}}, {\"class_name\": \"LSTM\", \"config\": {\"name\": \"lstm_2\", \"trainable\": true, \"dtype\": \"float32\", \"return_sequences\": false, \"return_state\": false, \"go_backwards\": false, \"stateful\": false, \"unroll\": false, \"time_major\": false, \"units\": 50, \"activation\": \"tanh\", \"recurrent_activation\": \"sigmoid\", \"use_bias\": true, \"kernel_initializer\": {\"class_name\": \"GlorotUniform\", \"config\": {\"seed\": null}}, \"recurrent_initializer\": {\"class_name\": \"Orthogonal\", \"config\": {\"gain\": 1.0, \"seed\": null}}, \"bias_initializer\": {\"class_name\": \"Zeros\", \"config\": {}}, \"unit_forget_bias\": true, \"kernel_regularizer\": null, \"recurrent_regularizer\": null, \"bias_regularizer\": null, \"activity_regularizer\": null, \"kernel_constraint\": null, \"recurrent_constraint\": null, \"bias_constraint\": null, \"dropout\": 0.5, \"recurrent_dropout\": 0.5, \"implementation\": 1}}, {\"class_name\": \"Dropout\", \"config\": {\"name\": \"dropout_2\", \"trainable\": true, \"dtype\": \"float32\", \"rate\": 0.2, \"noise_shape\": null, \"seed\": null}}, {\"class_name\": \"Dense\", \"config\": {\"name\": \"dense_2\", \"trainable\": true, \"dtype\": \"float32\", \"units\": 1, \"activation\": \"sigmoid\", \"use_bias\": true, \"kernel_initializer\": {\"class_name\": \"GlorotUniform\", \"config\": {\"seed\": null}}, \"bias_initializer\": {\"class_name\": \"Zeros\", \"config\": {}}, \"kernel_regularizer\": null, \"bias_regularizer\": null, \"activity_regularizer\": null, \"kernel_constraint\": null, \"bias_constraint\": null}}]}, \"keras_version\": \"2.5.0\", \"backend\": \"tensorflow\"}'"
      ]
     },
     "execution_count": 58,
     "metadata": {},
     "output_type": "execute_result"
    }
   ],
   "source": [
    "model_nn_json"
   ]
  },
  {
   "cell_type": "code",
   "execution_count": 61,
   "metadata": {},
   "outputs": [
    {
     "name": "stdout",
     "output_type": "stream",
     "text": [
      "Saved model to disk\n"
     ]
    }
   ],
   "source": [
    "model.save_weights(\"model_nn_weights.h5\")\n",
    "print(\"Saved model to disk\")"
   ]
  }
 ],
 "metadata": {
  "kernelspec": {
   "display_name": "Python 3",
   "language": "python",
   "name": "python3"
  },
  "language_info": {
   "codemirror_mode": {
    "name": "ipython",
    "version": 3
   },
   "file_extension": ".py",
   "mimetype": "text/x-python",
   "name": "python",
   "nbconvert_exporter": "python",
   "pygments_lexer": "ipython3",
   "version": "3.8.5"
  }
 },
 "nbformat": 4,
 "nbformat_minor": 5
}
