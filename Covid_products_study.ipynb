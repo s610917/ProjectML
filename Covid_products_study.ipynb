{
 "cells": [
  {
   "cell_type": "markdown",
   "metadata": {
    "id": "qLApbWEllk5W"
   },
   "source": [
    "# Covid effect study on product mix sales\n",
    "**Project indends to investigate the COVID 19 crisis effect in customers purchase patterns**"
   ]
  },
  {
   "cell_type": "code",
   "execution_count": 66,
   "metadata": {
    "id": "MBbm4W7ulk5X"
   },
   "outputs": [],
   "source": [
    "import pandas as pd\n",
    "import numpy as np\n",
    "import sklearn as sk\n",
    "import matplotlib.pyplot as plt\n"
   ]
  },
  {
   "cell_type": "code",
   "execution_count": 67,
   "metadata": {
    "id": "Ta8L2J8jlk5Y"
   },
   "outputs": [],
   "source": [
    "products_2019 = pd.read_excel('Covid_products_study_2019.xlsx')"
   ]
  },
  {
   "cell_type": "code",
   "execution_count": 68,
   "metadata": {
    "colab": {
     "base_uri": "https://localhost:8080/",
     "height": 204
    },
    "id": "r3b-wPKmlk5Z",
    "outputId": "ec323f35-5389-4122-dd7e-52150348cd1f"
   },
   "outputs": [
    {
     "data": {
      "text/html": [
       "<div>\n",
       "<style scoped>\n",
       "    .dataframe tbody tr th:only-of-type {\n",
       "        vertical-align: middle;\n",
       "    }\n",
       "\n",
       "    .dataframe tbody tr th {\n",
       "        vertical-align: top;\n",
       "    }\n",
       "\n",
       "    .dataframe thead th {\n",
       "        text-align: right;\n",
       "    }\n",
       "</style>\n",
       "<table border=\"1\" class=\"dataframe\">\n",
       "  <thead>\n",
       "    <tr style=\"text-align: right;\">\n",
       "      <th></th>\n",
       "      <th>Cuscode</th>\n",
       "      <th>Domestic</th>\n",
       "      <th>Basket_2019</th>\n",
       "    </tr>\n",
       "  </thead>\n",
       "  <tbody>\n",
       "    <tr>\n",
       "      <th>0</th>\n",
       "      <td>A.00001</td>\n",
       "      <td>0</td>\n",
       "      <td>0015027000, 0018007003, 0025006010, 0025006011...</td>\n",
       "    </tr>\n",
       "    <tr>\n",
       "      <th>1</th>\n",
       "      <td>A.00008</td>\n",
       "      <td>0</td>\n",
       "      <td>0025022020, 0094013002, 0094079001, 0095004000...</td>\n",
       "    </tr>\n",
       "    <tr>\n",
       "      <th>2</th>\n",
       "      <td>A.00023</td>\n",
       "      <td>0</td>\n",
       "      <td>0005001010</td>\n",
       "    </tr>\n",
       "    <tr>\n",
       "      <th>3</th>\n",
       "      <td>A.00028</td>\n",
       "      <td>0</td>\n",
       "      <td>0001026020, 0015035000, 0068001001, 0105003001...</td>\n",
       "    </tr>\n",
       "    <tr>\n",
       "      <th>4</th>\n",
       "      <td>A.00032</td>\n",
       "      <td>0</td>\n",
       "      <td>0009001002, 0015027000, 0015042001, 0025006000...</td>\n",
       "    </tr>\n",
       "  </tbody>\n",
       "</table>\n",
       "</div>"
      ],
      "text/plain": [
       "   Cuscode  Domestic                                        Basket_2019\n",
       "0  A.00001         0  0015027000, 0018007003, 0025006010, 0025006011...\n",
       "1  A.00008         0  0025022020, 0094013002, 0094079001, 0095004000...\n",
       "2  A.00023         0                                         0005001010\n",
       "3  A.00028         0  0001026020, 0015035000, 0068001001, 0105003001...\n",
       "4  A.00032         0  0009001002, 0015027000, 0015042001, 0025006000..."
      ]
     },
     "execution_count": 68,
     "metadata": {},
     "output_type": "execute_result"
    }
   ],
   "source": [
    "products_2019.head()"
   ]
  },
  {
   "cell_type": "code",
   "execution_count": 69,
   "metadata": {
    "id": "5hTrv_GAlk5a"
   },
   "outputs": [],
   "source": [
    "local = products_2019[products_2019[\"Domestic\"] == 1]"
   ]
  },
  {
   "cell_type": "code",
   "execution_count": 5,
   "metadata": {
    "colab": {
     "base_uri": "https://localhost:8080/",
     "height": 419
    },
    "id": "uAgINEqOlk5b",
    "outputId": "3bad3234-f953-4926-978a-9c0082a09d48"
   },
   "outputs": [
    {
     "data": {
      "text/html": [
       "<div>\n",
       "<style scoped>\n",
       "    .dataframe tbody tr th:only-of-type {\n",
       "        vertical-align: middle;\n",
       "    }\n",
       "\n",
       "    .dataframe tbody tr th {\n",
       "        vertical-align: top;\n",
       "    }\n",
       "\n",
       "    .dataframe thead th {\n",
       "        text-align: right;\n",
       "    }\n",
       "</style>\n",
       "<table border=\"1\" class=\"dataframe\">\n",
       "  <thead>\n",
       "    <tr style=\"text-align: right;\">\n",
       "      <th></th>\n",
       "      <th>Cuscode</th>\n",
       "      <th>Domestic</th>\n",
       "      <th>Basket_2019</th>\n",
       "    </tr>\n",
       "  </thead>\n",
       "  <tbody>\n",
       "    <tr>\n",
       "      <th>8</th>\n",
       "      <td>A.00061</td>\n",
       "      <td>1</td>\n",
       "      <td>0025008012, 0104019000, 0195000000</td>\n",
       "    </tr>\n",
       "    <tr>\n",
       "      <th>9</th>\n",
       "      <td>A.00071</td>\n",
       "      <td>1</td>\n",
       "      <td>0010005001, 0015020000, 0025006000, 0025017001...</td>\n",
       "    </tr>\n",
       "    <tr>\n",
       "      <th>10</th>\n",
       "      <td>A.00078</td>\n",
       "      <td>1</td>\n",
       "      <td>0005001006, 0010006001, 0025006000, 0025006010...</td>\n",
       "    </tr>\n",
       "    <tr>\n",
       "      <th>11</th>\n",
       "      <td>A.00081</td>\n",
       "      <td>1</td>\n",
       "      <td>0010005001</td>\n",
       "    </tr>\n",
       "    <tr>\n",
       "      <th>12</th>\n",
       "      <td>A.00093</td>\n",
       "      <td>1</td>\n",
       "      <td>0010003001, 0010005001, 0015005003, 0015027000...</td>\n",
       "    </tr>\n",
       "    <tr>\n",
       "      <th>...</th>\n",
       "      <td>...</td>\n",
       "      <td>...</td>\n",
       "      <td>...</td>\n",
       "    </tr>\n",
       "    <tr>\n",
       "      <th>2834</th>\n",
       "      <td>L.00170</td>\n",
       "      <td>1</td>\n",
       "      <td>0003001000</td>\n",
       "    </tr>\n",
       "    <tr>\n",
       "      <th>2835</th>\n",
       "      <td>L.00183</td>\n",
       "      <td>1</td>\n",
       "      <td>0135008000</td>\n",
       "    </tr>\n",
       "    <tr>\n",
       "      <th>2836</th>\n",
       "      <td>L.00184</td>\n",
       "      <td>1</td>\n",
       "      <td>0010007001, 0017001002, 0025006000, 0025006010...</td>\n",
       "    </tr>\n",
       "    <tr>\n",
       "      <th>2837</th>\n",
       "      <td>L.00185</td>\n",
       "      <td>1</td>\n",
       "      <td>0032000014, 0115005009, 0150003000</td>\n",
       "    </tr>\n",
       "    <tr>\n",
       "      <th>2838</th>\n",
       "      <td>L.00187</td>\n",
       "      <td>1</td>\n",
       "      <td>0115005009</td>\n",
       "    </tr>\n",
       "  </tbody>\n",
       "</table>\n",
       "<p>2825 rows × 3 columns</p>\n",
       "</div>"
      ],
      "text/plain": [
       "      Cuscode  Domestic                                        Basket_2019\n",
       "8     A.00061         1                 0025008012, 0104019000, 0195000000\n",
       "9     A.00071         1  0010005001, 0015020000, 0025006000, 0025017001...\n",
       "10    A.00078         1  0005001006, 0010006001, 0025006000, 0025006010...\n",
       "11    A.00081         1                                         0010005001\n",
       "12    A.00093         1  0010003001, 0010005001, 0015005003, 0015027000...\n",
       "...       ...       ...                                                ...\n",
       "2834  L.00170         1                                         0003001000\n",
       "2835  L.00183         1                                         0135008000\n",
       "2836  L.00184         1  0010007001, 0017001002, 0025006000, 0025006010...\n",
       "2837  L.00185         1                 0032000014, 0115005009, 0150003000\n",
       "2838  L.00187         1                                         0115005009\n",
       "\n",
       "[2825 rows x 3 columns]"
      ]
     },
     "execution_count": 5,
     "metadata": {},
     "output_type": "execute_result"
    }
   ],
   "source": [
    "local"
   ]
  },
  {
   "cell_type": "code",
   "execution_count": 70,
   "metadata": {
    "id": "oKcMNWYulk5c"
   },
   "outputs": [],
   "source": [
    "products_2020 = pd.read_excel('Covid_products_study_2020.xlsx')"
   ]
  },
  {
   "cell_type": "code",
   "execution_count": 71,
   "metadata": {
    "colab": {
     "base_uri": "https://localhost:8080/",
     "height": 204
    },
    "id": "5OOBKWLBlk5d",
    "outputId": "deddc478-298c-4bca-b6d5-cfea06a6f8e1"
   },
   "outputs": [
    {
     "data": {
      "text/html": [
       "<div>\n",
       "<style scoped>\n",
       "    .dataframe tbody tr th:only-of-type {\n",
       "        vertical-align: middle;\n",
       "    }\n",
       "\n",
       "    .dataframe tbody tr th {\n",
       "        vertical-align: top;\n",
       "    }\n",
       "\n",
       "    .dataframe thead th {\n",
       "        text-align: right;\n",
       "    }\n",
       "</style>\n",
       "<table border=\"1\" class=\"dataframe\">\n",
       "  <thead>\n",
       "    <tr style=\"text-align: right;\">\n",
       "      <th></th>\n",
       "      <th>Cuscode</th>\n",
       "      <th>Domestic</th>\n",
       "      <th>Basket_2020</th>\n",
       "    </tr>\n",
       "  </thead>\n",
       "  <tbody>\n",
       "    <tr>\n",
       "      <th>0</th>\n",
       "      <td>A.00001</td>\n",
       "      <td>0</td>\n",
       "      <td>0015027000, 0015035001, 0018007003, 0025006011...</td>\n",
       "    </tr>\n",
       "    <tr>\n",
       "      <th>1</th>\n",
       "      <td>A.00008</td>\n",
       "      <td>0</td>\n",
       "      <td>0025022020, 0094013002, 0094079001, 0095004000...</td>\n",
       "    </tr>\n",
       "    <tr>\n",
       "      <th>2</th>\n",
       "      <td>A.00023</td>\n",
       "      <td>0</td>\n",
       "      <td>0005001010</td>\n",
       "    </tr>\n",
       "    <tr>\n",
       "      <th>3</th>\n",
       "      <td>A.00028</td>\n",
       "      <td>0</td>\n",
       "      <td>0001026020, 0015035000, 0068001001, 0135000000</td>\n",
       "    </tr>\n",
       "    <tr>\n",
       "      <th>4</th>\n",
       "      <td>A.00032</td>\n",
       "      <td>0</td>\n",
       "      <td>0015027000, 0015042001, 0025006000, 0025006010...</td>\n",
       "    </tr>\n",
       "  </tbody>\n",
       "</table>\n",
       "</div>"
      ],
      "text/plain": [
       "   Cuscode  Domestic                                        Basket_2020\n",
       "0  A.00001         0  0015027000, 0015035001, 0018007003, 0025006011...\n",
       "1  A.00008         0  0025022020, 0094013002, 0094079001, 0095004000...\n",
       "2  A.00023         0                                         0005001010\n",
       "3  A.00028         0     0001026020, 0015035000, 0068001001, 0135000000\n",
       "4  A.00032         0  0015027000, 0015042001, 0025006000, 0025006010..."
      ]
     },
     "execution_count": 71,
     "metadata": {},
     "output_type": "execute_result"
    }
   ],
   "source": [
    "products_2020.head()"
   ]
  },
  {
   "cell_type": "code",
   "execution_count": 72,
   "metadata": {
    "id": "xU-6noCxlk5e"
   },
   "outputs": [],
   "source": [
    "products_total = pd.merge(products_2019, products_2020, on=[\"Cuscode\"])"
   ]
  },
  {
   "cell_type": "code",
   "execution_count": 73,
   "metadata": {
    "colab": {
     "base_uri": "https://localhost:8080/"
    },
    "id": "OJU3D30Ilk5f",
    "outputId": "3866ef61-1800-40c5-801a-94398d0e1c20"
   },
   "outputs": [
    {
     "data": {
      "text/plain": [
       "(2154, 5)"
      ]
     },
     "execution_count": 73,
     "metadata": {},
     "output_type": "execute_result"
    }
   ],
   "source": [
    "products_total.shape"
   ]
  },
  {
   "cell_type": "code",
   "execution_count": 74,
   "metadata": {
    "colab": {
     "base_uri": "https://localhost:8080/"
    },
    "id": "QJWsJe54lk5g",
    "outputId": "21d0c8ab-3362-40af-ddbb-3c3f70175f72"
   },
   "outputs": [
    {
     "data": {
      "text/plain": [
       "<bound method DataFrame.info of       Cuscode  Domestic_x                                        Basket_2019  \\\n",
       "0     A.00001           0  0015027000, 0018007003, 0025006010, 0025006011...   \n",
       "1     A.00008           0  0025022020, 0094013002, 0094079001, 0095004000...   \n",
       "2     A.00023           0                                         0005001010   \n",
       "3     A.00028           0  0001026020, 0015035000, 0068001001, 0105003001...   \n",
       "4     A.00032           0  0009001002, 0015027000, 0015042001, 0025006000...   \n",
       "...       ...         ...                                                ...   \n",
       "2149  L.00166           1                                         0095005000   \n",
       "2150  L.00170           1                                         0003001000   \n",
       "2151  L.00183           1                                         0135008000   \n",
       "2152  L.00184           1  0010007001, 0017001002, 0025006000, 0025006010...   \n",
       "2153  L.00185           1                 0032000014, 0115005009, 0150003000   \n",
       "\n",
       "      Domestic_y                                        Basket_2020  \n",
       "0              0  0015027000, 0015035001, 0018007003, 0025006011...  \n",
       "1              0  0025022020, 0094013002, 0094079001, 0095004000...  \n",
       "2              0                                         0005001010  \n",
       "3              0     0001026020, 0015035000, 0068001001, 0135000000  \n",
       "4              0  0015027000, 0015042001, 0025006000, 0025006010...  \n",
       "...          ...                                                ...  \n",
       "2149           1                                         0095005000  \n",
       "2150           1                                         0003001000  \n",
       "2151           1                             0135000000, 0135008000  \n",
       "2152           1  0010003001, 0010005001, 0015027000, 0018013001...  \n",
       "2153           1  0025023002, 0032000014, 0068001001, 0095005000...  \n",
       "\n",
       "[2154 rows x 5 columns]>"
      ]
     },
     "execution_count": 74,
     "metadata": {},
     "output_type": "execute_result"
    }
   ],
   "source": [
    "products_total.info"
   ]
  },
  {
   "cell_type": "code",
   "execution_count": 75,
   "metadata": {
    "colab": {
     "base_uri": "https://localhost:8080/",
     "height": 204
    },
    "id": "CmVETQV6lk5g",
    "outputId": "90c0821d-c51b-4173-f14e-fdf0ddbaa8da"
   },
   "outputs": [
    {
     "data": {
      "text/html": [
       "<div>\n",
       "<style scoped>\n",
       "    .dataframe tbody tr th:only-of-type {\n",
       "        vertical-align: middle;\n",
       "    }\n",
       "\n",
       "    .dataframe tbody tr th {\n",
       "        vertical-align: top;\n",
       "    }\n",
       "\n",
       "    .dataframe thead th {\n",
       "        text-align: right;\n",
       "    }\n",
       "</style>\n",
       "<table border=\"1\" class=\"dataframe\">\n",
       "  <thead>\n",
       "    <tr style=\"text-align: right;\">\n",
       "      <th></th>\n",
       "      <th>Cuscode</th>\n",
       "      <th>Domestic_x</th>\n",
       "      <th>Basket_2019</th>\n",
       "      <th>Domestic_y</th>\n",
       "      <th>Basket_2020</th>\n",
       "    </tr>\n",
       "  </thead>\n",
       "  <tbody>\n",
       "    <tr>\n",
       "      <th>0</th>\n",
       "      <td>A.00001</td>\n",
       "      <td>0</td>\n",
       "      <td>0015027000, 0018007003, 0025006010, 0025006011...</td>\n",
       "      <td>0</td>\n",
       "      <td>0015027000, 0015035001, 0018007003, 0025006011...</td>\n",
       "    </tr>\n",
       "    <tr>\n",
       "      <th>1</th>\n",
       "      <td>A.00008</td>\n",
       "      <td>0</td>\n",
       "      <td>0025022020, 0094013002, 0094079001, 0095004000...</td>\n",
       "      <td>0</td>\n",
       "      <td>0025022020, 0094013002, 0094079001, 0095004000...</td>\n",
       "    </tr>\n",
       "    <tr>\n",
       "      <th>2</th>\n",
       "      <td>A.00023</td>\n",
       "      <td>0</td>\n",
       "      <td>0005001010</td>\n",
       "      <td>0</td>\n",
       "      <td>0005001010</td>\n",
       "    </tr>\n",
       "    <tr>\n",
       "      <th>3</th>\n",
       "      <td>A.00028</td>\n",
       "      <td>0</td>\n",
       "      <td>0001026020, 0015035000, 0068001001, 0105003001...</td>\n",
       "      <td>0</td>\n",
       "      <td>0001026020, 0015035000, 0068001001, 0135000000</td>\n",
       "    </tr>\n",
       "    <tr>\n",
       "      <th>4</th>\n",
       "      <td>A.00032</td>\n",
       "      <td>0</td>\n",
       "      <td>0009001002, 0015027000, 0015042001, 0025006000...</td>\n",
       "      <td>0</td>\n",
       "      <td>0015027000, 0015042001, 0025006000, 0025006010...</td>\n",
       "    </tr>\n",
       "  </tbody>\n",
       "</table>\n",
       "</div>"
      ],
      "text/plain": [
       "   Cuscode  Domestic_x                                        Basket_2019  \\\n",
       "0  A.00001           0  0015027000, 0018007003, 0025006010, 0025006011...   \n",
       "1  A.00008           0  0025022020, 0094013002, 0094079001, 0095004000...   \n",
       "2  A.00023           0                                         0005001010   \n",
       "3  A.00028           0  0001026020, 0015035000, 0068001001, 0105003001...   \n",
       "4  A.00032           0  0009001002, 0015027000, 0015042001, 0025006000...   \n",
       "\n",
       "   Domestic_y                                        Basket_2020  \n",
       "0           0  0015027000, 0015035001, 0018007003, 0025006011...  \n",
       "1           0  0025022020, 0094013002, 0094079001, 0095004000...  \n",
       "2           0                                         0005001010  \n",
       "3           0     0001026020, 0015035000, 0068001001, 0135000000  \n",
       "4           0  0015027000, 0015042001, 0025006000, 0025006010...  "
      ]
     },
     "execution_count": 75,
     "metadata": {},
     "output_type": "execute_result"
    }
   ],
   "source": [
    "products_total.head()"
   ]
  },
  {
   "cell_type": "markdown",
   "metadata": {
    "id": "i_Qx7HRHlk5h"
   },
   "source": [
    "## Similarity metrics . Implement SequenceMatcher and Jaccard similarity methods\n"
   ]
  },
  {
   "cell_type": "code",
   "execution_count": 13,
   "metadata": {
    "id": "guYl8E70lk5h"
   },
   "outputs": [],
   "source": [
    "from difflib import SequenceMatcher\n",
    "\n",
    "def similar(a, b):\n",
    "    return SequenceMatcher(None, a, b).ratio()"
   ]
  },
  {
   "cell_type": "code",
   "execution_count": 44,
   "metadata": {
    "colab": {
     "base_uri": "https://localhost:8080/"
    },
    "id": "7EB5AFB1lk5i",
    "outputId": "57a44639-217d-4bd8-91e9-955576f78913"
   },
   "outputs": [
    {
     "data": {
      "text/plain": [
       "0.86"
      ]
     },
     "execution_count": 44,
     "metadata": {},
     "output_type": "execute_result"
    }
   ],
   "source": [
    "round(similar(products_total[\"Basket_2019\"][4], products_total[\"Basket_2020\"][4]),2)"
   ]
  },
  {
   "cell_type": "code",
   "execution_count": 45,
   "metadata": {
    "colab": {
     "base_uri": "https://localhost:8080/"
    },
    "id": "PzWR8tm2lk5i",
    "outputId": "f48c39d9-cc83-48cf-e738-614fd4a4384b",
    "scrolled": true
   },
   "outputs": [
    {
     "data": {
      "text/plain": [
       "0.67"
      ]
     },
     "execution_count": 45,
     "metadata": {},
     "output_type": "execute_result"
    }
   ],
   "source": [
    "import numpy as np\n",
    "\n",
    "def jaccard(str1, str2) :\n",
    "    list1 = str1.split(\", \")\n",
    "    list2 = str2.split(\", \")\n",
    "    #print(list1)\n",
    "    intersection = len(list(set(list1).intersection(list2)))\n",
    "    #print(intersection)\n",
    "    union = (len(list1) + len(list2)) - intersection\n",
    "    #print(union)\n",
    "    return float(intersection) / union\n",
    "\n",
    "\n",
    "#jaccard([\"0015027000\", \"0018007003\", \"0025006010\", \"0025006011\"], [\"0015027000\",\"0025006011\"])\n",
    "round(jaccard(products_total[\"Basket_2019\"][4], products_total[\"Basket_2020\"][4]),2)"
   ]
  },
  {
   "cell_type": "code",
   "execution_count": 16,
   "metadata": {
    "colab": {
     "base_uri": "https://localhost:8080/",
     "height": 521
    },
    "id": "Qhoot9D7lk5j",
    "outputId": "0a3b6e83-313b-42c7-d267-10e40824f515",
    "scrolled": true
   },
   "outputs": [
    {
     "data": {
      "text/html": [
       "<div>\n",
       "<style scoped>\n",
       "    .dataframe tbody tr th:only-of-type {\n",
       "        vertical-align: middle;\n",
       "    }\n",
       "\n",
       "    .dataframe tbody tr th {\n",
       "        vertical-align: top;\n",
       "    }\n",
       "\n",
       "    .dataframe thead th {\n",
       "        text-align: right;\n",
       "    }\n",
       "</style>\n",
       "<table border=\"1\" class=\"dataframe\">\n",
       "  <thead>\n",
       "    <tr style=\"text-align: right;\">\n",
       "      <th></th>\n",
       "      <th>Cuscode</th>\n",
       "      <th>Domestic_x</th>\n",
       "      <th>Basket_2019</th>\n",
       "      <th>Domestic_y</th>\n",
       "      <th>Basket_2020</th>\n",
       "    </tr>\n",
       "  </thead>\n",
       "  <tbody>\n",
       "    <tr>\n",
       "      <th>0</th>\n",
       "      <td>A.00001</td>\n",
       "      <td>0</td>\n",
       "      <td>0015027000, 0018007003, 0025006010, 0025006011...</td>\n",
       "      <td>0</td>\n",
       "      <td>0015027000, 0015035001, 0018007003, 0025006011...</td>\n",
       "    </tr>\n",
       "    <tr>\n",
       "      <th>1</th>\n",
       "      <td>A.00008</td>\n",
       "      <td>0</td>\n",
       "      <td>0025022020, 0094013002, 0094079001, 0095004000...</td>\n",
       "      <td>0</td>\n",
       "      <td>0025022020, 0094013002, 0094079001, 0095004000...</td>\n",
       "    </tr>\n",
       "    <tr>\n",
       "      <th>2</th>\n",
       "      <td>A.00023</td>\n",
       "      <td>0</td>\n",
       "      <td>0005001010</td>\n",
       "      <td>0</td>\n",
       "      <td>0005001010</td>\n",
       "    </tr>\n",
       "    <tr>\n",
       "      <th>3</th>\n",
       "      <td>A.00028</td>\n",
       "      <td>0</td>\n",
       "      <td>0001026020, 0015035000, 0068001001, 0105003001...</td>\n",
       "      <td>0</td>\n",
       "      <td>0001026020, 0015035000, 0068001001, 0135000000</td>\n",
       "    </tr>\n",
       "    <tr>\n",
       "      <th>4</th>\n",
       "      <td>A.00032</td>\n",
       "      <td>0</td>\n",
       "      <td>0009001002, 0015027000, 0015042001, 0025006000...</td>\n",
       "      <td>0</td>\n",
       "      <td>0015027000, 0015042001, 0025006000, 0025006010...</td>\n",
       "    </tr>\n",
       "    <tr>\n",
       "      <th>...</th>\n",
       "      <td>...</td>\n",
       "      <td>...</td>\n",
       "      <td>...</td>\n",
       "      <td>...</td>\n",
       "      <td>...</td>\n",
       "    </tr>\n",
       "    <tr>\n",
       "      <th>2149</th>\n",
       "      <td>L.00166</td>\n",
       "      <td>1</td>\n",
       "      <td>0095005000</td>\n",
       "      <td>1</td>\n",
       "      <td>0095005000</td>\n",
       "    </tr>\n",
       "    <tr>\n",
       "      <th>2150</th>\n",
       "      <td>L.00170</td>\n",
       "      <td>1</td>\n",
       "      <td>0003001000</td>\n",
       "      <td>1</td>\n",
       "      <td>0003001000</td>\n",
       "    </tr>\n",
       "    <tr>\n",
       "      <th>2151</th>\n",
       "      <td>L.00183</td>\n",
       "      <td>1</td>\n",
       "      <td>0135008000</td>\n",
       "      <td>1</td>\n",
       "      <td>0135000000, 0135008000</td>\n",
       "    </tr>\n",
       "    <tr>\n",
       "      <th>2152</th>\n",
       "      <td>L.00184</td>\n",
       "      <td>1</td>\n",
       "      <td>0010007001, 0017001002, 0025006000, 0025006010...</td>\n",
       "      <td>1</td>\n",
       "      <td>0010003001, 0010005001, 0015027000, 0018013001...</td>\n",
       "    </tr>\n",
       "    <tr>\n",
       "      <th>2153</th>\n",
       "      <td>L.00185</td>\n",
       "      <td>1</td>\n",
       "      <td>0032000014, 0115005009, 0150003000</td>\n",
       "      <td>1</td>\n",
       "      <td>0025023002, 0032000014, 0068001001, 0095005000...</td>\n",
       "    </tr>\n",
       "  </tbody>\n",
       "</table>\n",
       "<p>2154 rows × 5 columns</p>\n",
       "</div>"
      ],
      "text/plain": [
       "      Cuscode  Domestic_x                                        Basket_2019  \\\n",
       "0     A.00001           0  0015027000, 0018007003, 0025006010, 0025006011...   \n",
       "1     A.00008           0  0025022020, 0094013002, 0094079001, 0095004000...   \n",
       "2     A.00023           0                                         0005001010   \n",
       "3     A.00028           0  0001026020, 0015035000, 0068001001, 0105003001...   \n",
       "4     A.00032           0  0009001002, 0015027000, 0015042001, 0025006000...   \n",
       "...       ...         ...                                                ...   \n",
       "2149  L.00166           1                                         0095005000   \n",
       "2150  L.00170           1                                         0003001000   \n",
       "2151  L.00183           1                                         0135008000   \n",
       "2152  L.00184           1  0010007001, 0017001002, 0025006000, 0025006010...   \n",
       "2153  L.00185           1                 0032000014, 0115005009, 0150003000   \n",
       "\n",
       "      Domestic_y                                        Basket_2020  \n",
       "0              0  0015027000, 0015035001, 0018007003, 0025006011...  \n",
       "1              0  0025022020, 0094013002, 0094079001, 0095004000...  \n",
       "2              0                                         0005001010  \n",
       "3              0     0001026020, 0015035000, 0068001001, 0135000000  \n",
       "4              0  0015027000, 0015042001, 0025006000, 0025006010...  \n",
       "...          ...                                                ...  \n",
       "2149           1                                         0095005000  \n",
       "2150           1                                         0003001000  \n",
       "2151           1                             0135000000, 0135008000  \n",
       "2152           1  0010003001, 0010005001, 0015027000, 0018013001...  \n",
       "2153           1  0025023002, 0032000014, 0068001001, 0095005000...  \n",
       "\n",
       "[2154 rows x 5 columns]"
      ]
     },
     "execution_count": 16,
     "metadata": {},
     "output_type": "execute_result"
    }
   ],
   "source": [
    "products_total.reset_index(drop = True)"
   ]
  },
  {
   "cell_type": "code",
   "execution_count": 46,
   "metadata": {
    "colab": {
     "base_uri": "https://localhost:8080/"
    },
    "id": "sHMUYDfVlk5k",
    "outputId": "b8ce62e5-f5e8-48b0-f742-f95c042b9ace"
   },
   "outputs": [
    {
     "data": {
      "text/plain": [
       "1    0025022020, 0094013002, 0094079001, 0095004000...\n",
       "2                                           0005001010\n",
       "3       0001026020, 0015035000, 0068001001, 0135000000\n",
       "Name: Basket_2020, dtype: object"
      ]
     },
     "execution_count": 46,
     "metadata": {},
     "output_type": "execute_result"
    }
   ],
   "source": [
    "products_total[\"Basket_2020\"][1:4]"
   ]
  },
  {
   "cell_type": "code",
   "execution_count": 47,
   "metadata": {
    "colab": {
     "base_uri": "https://localhost:8080/"
    },
    "id": "4VPp68Trlk5l",
    "outputId": "b7b98dc8-8b0f-46be-d7bc-46882527c528"
   },
   "outputs": [
    {
     "name": "stdout",
     "output_type": "stream",
     "text": [
      "0.9210526315789473\n",
      "0.8571428571428571\n",
      "____________________\n",
      "1.0\n",
      "1.0\n",
      "____________________\n",
      "0.6571428571428571\n",
      "0.5\n",
      "____________________\n",
      "0.8559322033898306\n",
      "0.6666666666666666\n",
      "____________________\n",
      "0.847457627118644\n",
      "0.6666666666666666\n",
      "____________________\n",
      "1.0\n",
      "1.0\n",
      "____________________\n",
      "0.8536585365853658\n",
      "0.75\n",
      "____________________\n",
      "0.6875\n",
      "0.35714285714285715\n",
      "____________________\n",
      "0.7711864406779662\n",
      "0.42857142857142855\n",
      "____________________\n"
     ]
    }
   ],
   "source": [
    "for i in range (1,10) :\n",
    "     print(similar(products_total[\"Basket_2019\"][i], products_total[\"Basket_2020\"][i]))\n",
    "     print(jaccard(products_total[\"Basket_2019\"][i], products_total[\"Basket_2020\"][i]))\n",
    "     print('____________________')"
   ]
  },
  {
   "cell_type": "code",
   "execution_count": 48,
   "metadata": {
    "id": "jmkj5e4slk5l"
   },
   "outputs": [],
   "source": [
    "sim_sim = []\n",
    "sim_jac = []\n",
    "for i in range (len(products_total)):\n",
    "    sim_sim_t = similar(products_total[\"Basket_2019\"][i], products_total[\"Basket_2020\"][i])\n",
    "    sim_sim.append(sim_sim_t)\n",
    "    sim_jac_t = jaccard(products_total[\"Basket_2019\"][i], products_total[\"Basket_2020\"][i])\n",
    "    sim_jac.append(sim_jac_t)"
   ]
  },
  {
   "cell_type": "code",
   "execution_count": 49,
   "metadata": {
    "id": "8Fk3xFXalk5l"
   },
   "outputs": [],
   "source": [
    "sim_data = pd.DataFrame(sim_sim)\n",
    "jac_data = pd.DataFrame(sim_jac)"
   ]
  },
  {
   "cell_type": "code",
   "execution_count": 50,
   "metadata": {
    "id": "GIzd6cUJlk5m"
   },
   "outputs": [],
   "source": [
    "sim_data.rename(columns={0: \"Similarity\"}, inplace = True)\n",
    "jac_data.rename(columns={0: \"Jaccard\"}, inplace = True)"
   ]
  },
  {
   "cell_type": "code",
   "execution_count": 51,
   "metadata": {
    "colab": {
     "base_uri": "https://localhost:8080/",
     "height": 419
    },
    "id": "ntGp7FATw262",
    "outputId": "a7b5b400-fafb-4aa7-f011-3bb910d7fb3a"
   },
   "outputs": [
    {
     "data": {
      "text/html": [
       "<div>\n",
       "<style scoped>\n",
       "    .dataframe tbody tr th:only-of-type {\n",
       "        vertical-align: middle;\n",
       "    }\n",
       "\n",
       "    .dataframe tbody tr th {\n",
       "        vertical-align: top;\n",
       "    }\n",
       "\n",
       "    .dataframe thead th {\n",
       "        text-align: right;\n",
       "    }\n",
       "</style>\n",
       "<table border=\"1\" class=\"dataframe\">\n",
       "  <thead>\n",
       "    <tr style=\"text-align: right;\">\n",
       "      <th></th>\n",
       "      <th>Similarity</th>\n",
       "      <th>Jaccard</th>\n",
       "    </tr>\n",
       "  </thead>\n",
       "  <tbody>\n",
       "    <tr>\n",
       "      <th>0</th>\n",
       "      <td>0.889831</td>\n",
       "      <td>0.666667</td>\n",
       "    </tr>\n",
       "    <tr>\n",
       "      <th>1</th>\n",
       "      <td>0.921053</td>\n",
       "      <td>0.857143</td>\n",
       "    </tr>\n",
       "    <tr>\n",
       "      <th>2</th>\n",
       "      <td>1.000000</td>\n",
       "      <td>1.000000</td>\n",
       "    </tr>\n",
       "    <tr>\n",
       "      <th>3</th>\n",
       "      <td>0.657143</td>\n",
       "      <td>0.500000</td>\n",
       "    </tr>\n",
       "    <tr>\n",
       "      <th>4</th>\n",
       "      <td>0.855932</td>\n",
       "      <td>0.666667</td>\n",
       "    </tr>\n",
       "    <tr>\n",
       "      <th>...</th>\n",
       "      <td>...</td>\n",
       "      <td>...</td>\n",
       "    </tr>\n",
       "    <tr>\n",
       "      <th>2149</th>\n",
       "      <td>1.000000</td>\n",
       "      <td>1.000000</td>\n",
       "    </tr>\n",
       "    <tr>\n",
       "      <th>2150</th>\n",
       "      <td>1.000000</td>\n",
       "      <td>1.000000</td>\n",
       "    </tr>\n",
       "    <tr>\n",
       "      <th>2151</th>\n",
       "      <td>0.625000</td>\n",
       "      <td>0.500000</td>\n",
       "    </tr>\n",
       "    <tr>\n",
       "      <th>2152</th>\n",
       "      <td>0.798387</td>\n",
       "      <td>0.312500</td>\n",
       "    </tr>\n",
       "    <tr>\n",
       "      <th>2153</th>\n",
       "      <td>0.485714</td>\n",
       "      <td>0.333333</td>\n",
       "    </tr>\n",
       "  </tbody>\n",
       "</table>\n",
       "<p>2154 rows × 2 columns</p>\n",
       "</div>"
      ],
      "text/plain": [
       "      Similarity   Jaccard\n",
       "0       0.889831  0.666667\n",
       "1       0.921053  0.857143\n",
       "2       1.000000  1.000000\n",
       "3       0.657143  0.500000\n",
       "4       0.855932  0.666667\n",
       "...          ...       ...\n",
       "2149    1.000000  1.000000\n",
       "2150    1.000000  1.000000\n",
       "2151    0.625000  0.500000\n",
       "2152    0.798387  0.312500\n",
       "2153    0.485714  0.333333\n",
       "\n",
       "[2154 rows x 2 columns]"
      ]
     },
     "execution_count": 51,
     "metadata": {},
     "output_type": "execute_result"
    }
   ],
   "source": [
    "sim_data['Jaccard'] = jac_data['Jaccard']\n",
    "sim_data"
   ]
  },
  {
   "cell_type": "code",
   "execution_count": 52,
   "metadata": {
    "colab": {
     "base_uri": "https://localhost:8080/"
    },
    "id": "B1bdnN5Flk5m",
    "outputId": "b731c78d-8842-4b66-9289-bebb5e6b1dd1"
   },
   "outputs": [
    {
     "name": "stdout",
     "output_type": "stream",
     "text": [
      "0.6838582975737337\n",
      "0.4502697556233573\n"
     ]
    }
   ],
   "source": [
    "avg_sim = sim_data.Similarity.mean(axis=0)\n",
    "avg_jac = sim_data.Jaccard.mean(axis=0)\n",
    "\n",
    "print(avg_sim)\n",
    "print(avg_jac)"
   ]
  },
  {
   "cell_type": "code",
   "execution_count": 53,
   "metadata": {
    "colab": {
     "base_uri": "https://localhost:8080/"
    },
    "id": "9tqqYfthlk5m",
    "outputId": "e01504e2-ce7d-4a46-f00c-fe9aea0903ff"
   },
   "outputs": [
    {
     "name": "stdout",
     "output_type": "stream",
     "text": [
      "1.0\n",
      "1.0\n"
     ]
    }
   ],
   "source": [
    "max_sim = sim_data.Similarity.max(axis=0)\n",
    "max_jac = sim_data.Jaccard.max(axis=0)\n",
    "\n",
    "print(max_sim)\n",
    "print(max_jac)"
   ]
  },
  {
   "cell_type": "code",
   "execution_count": 54,
   "metadata": {
    "colab": {
     "base_uri": "https://localhost:8080/"
    },
    "id": "o1vE8_Qklk5n",
    "outputId": "92ab6730-0bda-4cdd-ef68-94097c63cbb7"
   },
   "outputs": [
    {
     "name": "stdout",
     "output_type": "stream",
     "text": [
      "0.08152173913043478\n",
      "0.0\n"
     ]
    }
   ],
   "source": [
    "min_sim = sim_data.Similarity.min(axis=0)\n",
    "min_jac = sim_data.Jaccard.min(axis=0)\n",
    "\n",
    "print(min_sim)\n",
    "print(min_jac)"
   ]
  },
  {
   "cell_type": "code",
   "execution_count": 79,
   "metadata": {},
   "outputs": [
    {
     "name": "stdout",
     "output_type": "stream",
     "text": [
      "0.20929213733285942\n",
      "0.2835066763709561\n"
     ]
    }
   ],
   "source": [
    "stdv_sim = sim_data.Similarity.std(axis=0)\n",
    "stdv_jac = sim_data.Jaccard.std(axis=0)\n",
    "\n",
    "print(stdv_sim)\n",
    "print(stdv_jac)"
   ]
  },
  {
   "cell_type": "code",
   "execution_count": 76,
   "metadata": {
    "colab": {
     "base_uri": "https://localhost:8080/",
     "height": 334
    },
    "id": "vyEZjPimlk5n",
    "outputId": "9bb2c6f3-8947-41c8-84bc-2edf9f3417db",
    "scrolled": true
   },
   "outputs": [
    {
     "data": {
      "text/plain": [
       "array([[<AxesSubplot:title={'center':'Similarity'}>,\n",
       "        <AxesSubplot:title={'center':'Jaccard'}>]], dtype=object)"
      ]
     },
     "execution_count": 76,
     "metadata": {},
     "output_type": "execute_result"
    },
    {
     "data": {
      "image/png": "[encoded data removed]",
      "text/plain": [
       "<Figure size 432x288 with 2 Axes>"
      ]
     },
     "metadata": {
      "needs_background": "light"
     },
     "output_type": "display_data"
    }
   ],
   "source": [
    "sim_data.hist()"
   ]
  },
  {
   "cell_type": "markdown",
   "metadata": {},
   "source": [
    "* It is obvious that the two methods provide differenct results and  shapes. Subject will be analyzed further."
   ]
  },
  {
   "cell_type": "markdown",
   "metadata": {},
   "source": [
    "**Read the master file of customers**"
   ]
  },
  {
   "cell_type": "code",
   "execution_count": 28,
   "metadata": {
    "colab": {
     "base_uri": "https://localhost:8080/",
     "height": 341
    },
    "id": "E4GMT0Xklk5o",
    "outputId": "8aec6ada-2b48-45eb-f361-0f36b9fe546e"
   },
   "outputs": [
    {
     "data": {
      "text/html": [
       "<div>\n",
       "<style scoped>\n",
       "    .dataframe tbody tr th:only-of-type {\n",
       "        vertical-align: middle;\n",
       "    }\n",
       "\n",
       "    .dataframe tbody tr th {\n",
       "        vertical-align: top;\n",
       "    }\n",
       "\n",
       "    .dataframe thead th {\n",
       "        text-align: right;\n",
       "    }\n",
       "</style>\n",
       "<table border=\"1\" class=\"dataframe\">\n",
       "  <thead>\n",
       "    <tr style=\"text-align: right;\">\n",
       "      <th></th>\n",
       "      <th>CardCode</th>\n",
       "      <th>CustomerRank</th>\n",
       "      <th>Domestic</th>\n",
       "      <th>Attika</th>\n",
       "      <th>Territory</th>\n",
       "      <th>U_GRSL</th>\n",
       "      <th>U_ZeeKey2</th>\n",
       "      <th>SZSegmentation</th>\n",
       "      <th>MarketSegmentation</th>\n",
       "      <th>Subsegment</th>\n",
       "      <th>SlpCode</th>\n",
       "      <th>AvgPayDays</th>\n",
       "      <th>PaymentTerms</th>\n",
       "      <th>AvgLatePayDays</th>\n",
       "      <th>Tziros</th>\n",
       "      <th>AvgSVal</th>\n",
       "      <th>MaxSval</th>\n",
       "      <th>invNo</th>\n",
       "      <th>AvgInvNoPerMonth</th>\n",
       "      <th>Basket</th>\n",
       "    </tr>\n",
       "  </thead>\n",
       "  <tbody>\n",
       "    <tr>\n",
       "      <th>2482</th>\n",
       "      <td>L.00203</td>\n",
       "      <td>1424</td>\n",
       "      <td>1</td>\n",
       "      <td>1</td>\n",
       "      <td>108</td>\n",
       "      <td>11.0</td>\n",
       "      <td>2</td>\n",
       "      <td>c</td>\n",
       "      <td>C</td>\n",
       "      <td>1</td>\n",
       "      <td>140</td>\n",
       "      <td>32.51</td>\n",
       "      <td>30</td>\n",
       "      <td>3</td>\n",
       "      <td>838.23</td>\n",
       "      <td>39.92</td>\n",
       "      <td>209.50</td>\n",
       "      <td>21</td>\n",
       "      <td>1</td>\n",
       "      <td>0129000001, 0025006000, 0135000000, 0025017001...</td>\n",
       "    </tr>\n",
       "    <tr>\n",
       "      <th>2483</th>\n",
       "      <td>L.00205</td>\n",
       "      <td>1267</td>\n",
       "      <td>1</td>\n",
       "      <td>1</td>\n",
       "      <td>108</td>\n",
       "      <td>2.0</td>\n",
       "      <td>2</td>\n",
       "      <td>c</td>\n",
       "      <td>C</td>\n",
       "      <td>1</td>\n",
       "      <td>140</td>\n",
       "      <td>69.68</td>\n",
       "      <td>30</td>\n",
       "      <td>40</td>\n",
       "      <td>1072.73</td>\n",
       "      <td>59.60</td>\n",
       "      <td>135.80</td>\n",
       "      <td>18</td>\n",
       "      <td>2</td>\n",
       "      <td>0127010000, 0025017001, 0017001002, 0010008001...</td>\n",
       "    </tr>\n",
       "    <tr>\n",
       "      <th>2484</th>\n",
       "      <td>L.00206</td>\n",
       "      <td>2153</td>\n",
       "      <td>1</td>\n",
       "      <td>1</td>\n",
       "      <td>108</td>\n",
       "      <td>1.0</td>\n",
       "      <td>2</td>\n",
       "      <td>c</td>\n",
       "      <td>B</td>\n",
       "      <td>2</td>\n",
       "      <td>140</td>\n",
       "      <td>96.25</td>\n",
       "      <td>62</td>\n",
       "      <td>34</td>\n",
       "      <td>222.58</td>\n",
       "      <td>74.19</td>\n",
       "      <td>95.56</td>\n",
       "      <td>3</td>\n",
       "      <td>3</td>\n",
       "      <td>0026008002, 0094083001, 0094084000</td>\n",
       "    </tr>\n",
       "    <tr>\n",
       "      <th>2485</th>\n",
       "      <td>L.00207</td>\n",
       "      <td>1080</td>\n",
       "      <td>1</td>\n",
       "      <td>1</td>\n",
       "      <td>108</td>\n",
       "      <td>1.0</td>\n",
       "      <td>2</td>\n",
       "      <td>c</td>\n",
       "      <td>B</td>\n",
       "      <td>2</td>\n",
       "      <td>140</td>\n",
       "      <td>19.37</td>\n",
       "      <td>62</td>\n",
       "      <td>-43</td>\n",
       "      <td>1460.91</td>\n",
       "      <td>63.52</td>\n",
       "      <td>301.46</td>\n",
       "      <td>23</td>\n",
       "      <td>2</td>\n",
       "      <td>0196001005, 0094083001, 0196001001, 0196000003...</td>\n",
       "    </tr>\n",
       "    <tr>\n",
       "      <th>2486</th>\n",
       "      <td>L.00209</td>\n",
       "      <td>764</td>\n",
       "      <td>1</td>\n",
       "      <td>1</td>\n",
       "      <td>108</td>\n",
       "      <td>8.0</td>\n",
       "      <td>2</td>\n",
       "      <td>b</td>\n",
       "      <td>B</td>\n",
       "      <td>4</td>\n",
       "      <td>140</td>\n",
       "      <td>0.00</td>\n",
       "      <td>62</td>\n",
       "      <td>-62</td>\n",
       "      <td>2566.35</td>\n",
       "      <td>285.15</td>\n",
       "      <td>1950.09</td>\n",
       "      <td>9</td>\n",
       "      <td>4</td>\n",
       "      <td>0025014000, 0041002001, 0041003001, 0015019000...</td>\n",
       "    </tr>\n",
       "  </tbody>\n",
       "</table>\n",
       "</div>"
      ],
      "text/plain": [
       "     CardCode  CustomerRank  Domestic  Attika  Territory  U_GRSL  U_ZeeKey2  \\\n",
       "2482  L.00203          1424         1       1        108    11.0          2   \n",
       "2483  L.00205          1267         1       1        108     2.0          2   \n",
       "2484  L.00206          2153         1       1        108     1.0          2   \n",
       "2485  L.00207          1080         1       1        108     1.0          2   \n",
       "2486  L.00209           764         1       1        108     8.0          2   \n",
       "\n",
       "     SZSegmentation MarketSegmentation Subsegment  SlpCode  AvgPayDays  \\\n",
       "2482              c                  C          1      140       32.51   \n",
       "2483              c                  C          1      140       69.68   \n",
       "2484              c                  B          2      140       96.25   \n",
       "2485              c                  B          2      140       19.37   \n",
       "2486              b                  B          4      140        0.00   \n",
       "\n",
       "      PaymentTerms  AvgLatePayDays   Tziros  AvgSVal  MaxSval  invNo  \\\n",
       "2482            30               3   838.23    39.92   209.50     21   \n",
       "2483            30              40  1072.73    59.60   135.80     18   \n",
       "2484            62              34   222.58    74.19    95.56      3   \n",
       "2485            62             -43  1460.91    63.52   301.46     23   \n",
       "2486            62             -62  2566.35   285.15  1950.09      9   \n",
       "\n",
       "      AvgInvNoPerMonth                                             Basket  \n",
       "2482                 1  0129000001, 0025006000, 0135000000, 0025017001...  \n",
       "2483                 2  0127010000, 0025017001, 0017001002, 0010008001...  \n",
       "2484                 3                 0026008002, 0094083001, 0094084000  \n",
       "2485                 2  0196001005, 0094083001, 0196001001, 0196000003...  \n",
       "2486                 4  0025014000, 0041002001, 0041003001, 0015019000...  "
      ]
     },
     "execution_count": 28,
     "metadata": {},
     "output_type": "execute_result"
    }
   ],
   "source": [
    "customer_base = pd.read_excel('Customer_profile.xlsx', sheet_name='customers_profile_2021')\n",
    "customer_base.tail()"
   ]
  },
  {
   "cell_type": "code",
   "execution_count": 56,
   "metadata": {
    "id": "mVFt57SZlk5o"
   },
   "outputs": [],
   "source": [
    "customer_data = customer_base[[\"CardCode\",\"Domestic\",\"Attika\", \"SZSegmentation\"]]"
   ]
  },
  {
   "cell_type": "code",
   "execution_count": 57,
   "metadata": {
    "id": "bXAWWdVRlk5o"
   },
   "outputs": [
    {
     "name": "stderr",
     "output_type": "stream",
     "text": [
      "C:\\Users\\netadmin\\Anaconda3\\lib\\site-packages\\pandas\\core\\frame.py:5034: SettingWithCopyWarning: \n",
      "A value is trying to be set on a copy of a slice from a DataFrame\n",
      "\n",
      "See the caveats in the documentation: https://pandas.pydata.org/pandas-docs/stable/user_guide/indexing.html#returning-a-view-versus-a-copy\n",
      "  return super().rename(\n"
     ]
    }
   ],
   "source": [
    "customer_data.rename(columns={'CardCode':'Cuscode'}, inplace=True)"
   ]
  },
  {
   "cell_type": "code",
   "execution_count": 58,
   "metadata": {
    "id": "ZIIxDrATlk5o"
   },
   "outputs": [
    {
     "data": {
      "text/html": [
       "<div>\n",
       "<style scoped>\n",
       "    .dataframe tbody tr th:only-of-type {\n",
       "        vertical-align: middle;\n",
       "    }\n",
       "\n",
       "    .dataframe tbody tr th {\n",
       "        vertical-align: top;\n",
       "    }\n",
       "\n",
       "    .dataframe thead th {\n",
       "        text-align: right;\n",
       "    }\n",
       "</style>\n",
       "<table border=\"1\" class=\"dataframe\">\n",
       "  <thead>\n",
       "    <tr style=\"text-align: right;\">\n",
       "      <th></th>\n",
       "      <th>Cuscode</th>\n",
       "      <th>Domestic</th>\n",
       "      <th>Attika</th>\n",
       "      <th>SZSegmentation</th>\n",
       "    </tr>\n",
       "  </thead>\n",
       "  <tbody>\n",
       "    <tr>\n",
       "      <th>0</th>\n",
       "      <td>A.00001</td>\n",
       "      <td>0</td>\n",
       "      <td>1</td>\n",
       "      <td>NaN</td>\n",
       "    </tr>\n",
       "    <tr>\n",
       "      <th>1</th>\n",
       "      <td>A.00008</td>\n",
       "      <td>0</td>\n",
       "      <td>1</td>\n",
       "      <td>NaN</td>\n",
       "    </tr>\n",
       "    <tr>\n",
       "      <th>2</th>\n",
       "      <td>A.00023</td>\n",
       "      <td>0</td>\n",
       "      <td>1</td>\n",
       "      <td>NaN</td>\n",
       "    </tr>\n",
       "    <tr>\n",
       "      <th>3</th>\n",
       "      <td>A.00028</td>\n",
       "      <td>0</td>\n",
       "      <td>1</td>\n",
       "      <td>NaN</td>\n",
       "    </tr>\n",
       "    <tr>\n",
       "      <th>4</th>\n",
       "      <td>A.00032</td>\n",
       "      <td>0</td>\n",
       "      <td>1</td>\n",
       "      <td>NaN</td>\n",
       "    </tr>\n",
       "  </tbody>\n",
       "</table>\n",
       "</div>"
      ],
      "text/plain": [
       "   Cuscode  Domestic  Attika SZSegmentation\n",
       "0  A.00001         0       1            NaN\n",
       "1  A.00008         0       1            NaN\n",
       "2  A.00023         0       1            NaN\n",
       "3  A.00028         0       1            NaN\n",
       "4  A.00032         0       1            NaN"
      ]
     },
     "execution_count": 58,
     "metadata": {},
     "output_type": "execute_result"
    }
   ],
   "source": [
    "customer_data.head()"
   ]
  },
  {
   "cell_type": "code",
   "execution_count": 59,
   "metadata": {
    "id": "S_F8ihyklk5o"
   },
   "outputs": [],
   "source": [
    "customers_combined = pd.merge(products_total, customer_data, on=[\"Cuscode\"])"
   ]
  },
  {
   "cell_type": "code",
   "execution_count": 60,
   "metadata": {
    "id": "sz87cTV5lk5p"
   },
   "outputs": [
    {
     "data": {
      "text/html": [
       "<div>\n",
       "<style scoped>\n",
       "    .dataframe tbody tr th:only-of-type {\n",
       "        vertical-align: middle;\n",
       "    }\n",
       "\n",
       "    .dataframe tbody tr th {\n",
       "        vertical-align: top;\n",
       "    }\n",
       "\n",
       "    .dataframe thead th {\n",
       "        text-align: right;\n",
       "    }\n",
       "</style>\n",
       "<table border=\"1\" class=\"dataframe\">\n",
       "  <thead>\n",
       "    <tr style=\"text-align: right;\">\n",
       "      <th></th>\n",
       "      <th>Cuscode</th>\n",
       "      <th>Domestic_x</th>\n",
       "      <th>Basket_2019</th>\n",
       "      <th>Domestic_y</th>\n",
       "      <th>Basket_2020</th>\n",
       "      <th>Domestic</th>\n",
       "      <th>Attika</th>\n",
       "      <th>SZSegmentation</th>\n",
       "    </tr>\n",
       "  </thead>\n",
       "  <tbody>\n",
       "    <tr>\n",
       "      <th>1821</th>\n",
       "      <td>L.00153</td>\n",
       "      <td>1</td>\n",
       "      <td>0025006000, 0025006011</td>\n",
       "      <td>1</td>\n",
       "      <td>0010005001, 0025006000, 0025006003, 0025006011</td>\n",
       "      <td>1</td>\n",
       "      <td>1</td>\n",
       "      <td>b</td>\n",
       "    </tr>\n",
       "    <tr>\n",
       "      <th>1822</th>\n",
       "      <td>L.00157</td>\n",
       "      <td>1</td>\n",
       "      <td>0001016000, 0004001001, 0010005001, 0032000000...</td>\n",
       "      <td>1</td>\n",
       "      <td>0001016000, 0004001001, 0009001008, 0025006000...</td>\n",
       "      <td>1</td>\n",
       "      <td>1</td>\n",
       "      <td>b</td>\n",
       "    </tr>\n",
       "    <tr>\n",
       "      <th>1823</th>\n",
       "      <td>L.00160</td>\n",
       "      <td>1</td>\n",
       "      <td>0009001008</td>\n",
       "      <td>1</td>\n",
       "      <td>0001016000, 0009001003, 0009001008, 0010005001</td>\n",
       "      <td>1</td>\n",
       "      <td>1</td>\n",
       "      <td>c</td>\n",
       "    </tr>\n",
       "    <tr>\n",
       "      <th>1824</th>\n",
       "      <td>L.00161</td>\n",
       "      <td>1</td>\n",
       "      <td>0026008002, 0094093000, 0110020001, 0110022001...</td>\n",
       "      <td>1</td>\n",
       "      <td>0015027000, 0025006080, 0026008002, 0064001003...</td>\n",
       "      <td>1</td>\n",
       "      <td>1</td>\n",
       "      <td>b</td>\n",
       "    </tr>\n",
       "    <tr>\n",
       "      <th>1825</th>\n",
       "      <td>L.00184</td>\n",
       "      <td>1</td>\n",
       "      <td>0010007001, 0017001002, 0025006000, 0025006010...</td>\n",
       "      <td>1</td>\n",
       "      <td>0010003001, 0010005001, 0015027000, 0018013001...</td>\n",
       "      <td>1</td>\n",
       "      <td>1</td>\n",
       "      <td>a</td>\n",
       "    </tr>\n",
       "  </tbody>\n",
       "</table>\n",
       "</div>"
      ],
      "text/plain": [
       "      Cuscode  Domestic_x                                        Basket_2019  \\\n",
       "1821  L.00153           1                             0025006000, 0025006011   \n",
       "1822  L.00157           1  0001016000, 0004001001, 0010005001, 0032000000...   \n",
       "1823  L.00160           1                                         0009001008   \n",
       "1824  L.00161           1  0026008002, 0094093000, 0110020001, 0110022001...   \n",
       "1825  L.00184           1  0010007001, 0017001002, 0025006000, 0025006010...   \n",
       "\n",
       "      Domestic_y                                        Basket_2020  Domestic  \\\n",
       "1821           1     0010005001, 0025006000, 0025006003, 0025006011         1   \n",
       "1822           1  0001016000, 0004001001, 0009001008, 0025006000...         1   \n",
       "1823           1     0001016000, 0009001003, 0009001008, 0010005001         1   \n",
       "1824           1  0015027000, 0025006080, 0026008002, 0064001003...         1   \n",
       "1825           1  0010003001, 0010005001, 0015027000, 0018013001...         1   \n",
       "\n",
       "      Attika SZSegmentation  \n",
       "1821       1              b  \n",
       "1822       1              b  \n",
       "1823       1              c  \n",
       "1824       1              b  \n",
       "1825       1              a  "
      ]
     },
     "execution_count": 60,
     "metadata": {},
     "output_type": "execute_result"
    }
   ],
   "source": [
    "customers_combined.tail()"
   ]
  },
  {
   "cell_type": "code",
   "execution_count": 61,
   "metadata": {
    "id": "_GA2OeIvlk5p"
   },
   "outputs": [],
   "source": [
    "customers_c = customers_combined[customers_combined[\"SZSegmentation\"] == \"c\"]"
   ]
  },
  {
   "cell_type": "code",
   "execution_count": 62,
   "metadata": {
    "id": "d8zPzNsDlk5p"
   },
   "outputs": [],
   "source": [
    "customers_c = customers_c[[\"Cuscode\", \"Basket_2019\", \"Basket_2020\"]]\n",
    "\n"
   ]
  },
  {
   "cell_type": "code",
   "execution_count": 63,
   "metadata": {
    "id": "31X-QP84lk5p"
   },
   "outputs": [
    {
     "data": {
      "text/html": [
       "<div>\n",
       "<style scoped>\n",
       "    .dataframe tbody tr th:only-of-type {\n",
       "        vertical-align: middle;\n",
       "    }\n",
       "\n",
       "    .dataframe tbody tr th {\n",
       "        vertical-align: top;\n",
       "    }\n",
       "\n",
       "    .dataframe thead th {\n",
       "        text-align: right;\n",
       "    }\n",
       "</style>\n",
       "<table border=\"1\" class=\"dataframe\">\n",
       "  <thead>\n",
       "    <tr style=\"text-align: right;\">\n",
       "      <th></th>\n",
       "      <th>Cuscode</th>\n",
       "      <th>Basket_2019</th>\n",
       "      <th>Basket_2020</th>\n",
       "    </tr>\n",
       "  </thead>\n",
       "  <tbody>\n",
       "    <tr>\n",
       "      <th>8</th>\n",
       "      <td>A.00071</td>\n",
       "      <td>0010005001, 0015020000, 0025006000, 0025017001...</td>\n",
       "      <td>0001016000, 0025006000, 0025006003, 0025017001...</td>\n",
       "    </tr>\n",
       "    <tr>\n",
       "      <th>10</th>\n",
       "      <td>A.00093</td>\n",
       "      <td>0010003001, 0010005001, 0015005003, 0015027000...</td>\n",
       "      <td>0010002001, 0010005001, 0025006000, 0094089002...</td>\n",
       "    </tr>\n",
       "    <tr>\n",
       "      <th>11</th>\n",
       "      <td>A.00095</td>\n",
       "      <td>0004001001, 0025006012, 0025017001, 0095004000...</td>\n",
       "      <td>0004001001, 0025006070, 0025006080, 0025017001...</td>\n",
       "    </tr>\n",
       "    <tr>\n",
       "      <th>13</th>\n",
       "      <td>A.00108</td>\n",
       "      <td>0025006000, 0025006003, 0025017001, 0095004000...</td>\n",
       "      <td>0025006000, 0025017001, 0095004000</td>\n",
       "    </tr>\n",
       "    <tr>\n",
       "      <th>16</th>\n",
       "      <td>A.00115</td>\n",
       "      <td>0010005001, 0026018001</td>\n",
       "      <td>0026018001, 0118007001</td>\n",
       "    </tr>\n",
       "  </tbody>\n",
       "</table>\n",
       "</div>"
      ],
      "text/plain": [
       "    Cuscode                                        Basket_2019  \\\n",
       "8   A.00071  0010005001, 0015020000, 0025006000, 0025017001...   \n",
       "10  A.00093  0010003001, 0010005001, 0015005003, 0015027000...   \n",
       "11  A.00095  0004001001, 0025006012, 0025017001, 0095004000...   \n",
       "13  A.00108  0025006000, 0025006003, 0025017001, 0095004000...   \n",
       "16  A.00115                             0010005001, 0026018001   \n",
       "\n",
       "                                          Basket_2020  \n",
       "8   0001016000, 0025006000, 0025006003, 0025017001...  \n",
       "10  0010002001, 0010005001, 0025006000, 0094089002...  \n",
       "11  0004001001, 0025006070, 0025006080, 0025017001...  \n",
       "13                 0025006000, 0025017001, 0095004000  \n",
       "16                             0026018001, 0118007001  "
      ]
     },
     "execution_count": 63,
     "metadata": {},
     "output_type": "execute_result"
    }
   ],
   "source": [
    "customers_c.head()"
   ]
  },
  {
   "cell_type": "code",
   "execution_count": 64,
   "metadata": {
    "id": "Fc3byLSdlk5p"
   },
   "outputs": [],
   "source": [
    "customers_c = customers_c.reset_index()\n"
   ]
  },
  {
   "cell_type": "code",
   "execution_count": 65,
   "metadata": {
    "id": "lEJrW7lalk5p"
   },
   "outputs": [
    {
     "data": {
      "text/html": [
       "<div>\n",
       "<style scoped>\n",
       "    .dataframe tbody tr th:only-of-type {\n",
       "        vertical-align: middle;\n",
       "    }\n",
       "\n",
       "    .dataframe tbody tr th {\n",
       "        vertical-align: top;\n",
       "    }\n",
       "\n",
       "    .dataframe thead th {\n",
       "        text-align: right;\n",
       "    }\n",
       "</style>\n",
       "<table border=\"1\" class=\"dataframe\">\n",
       "  <thead>\n",
       "    <tr style=\"text-align: right;\">\n",
       "      <th></th>\n",
       "      <th>index</th>\n",
       "      <th>Cuscode</th>\n",
       "      <th>Basket_2019</th>\n",
       "      <th>Basket_2020</th>\n",
       "    </tr>\n",
       "  </thead>\n",
       "  <tbody>\n",
       "    <tr>\n",
       "      <th>0</th>\n",
       "      <td>8</td>\n",
       "      <td>A.00071</td>\n",
       "      <td>0010005001, 0015020000, 0025006000, 0025017001...</td>\n",
       "      <td>0001016000, 0025006000, 0025006003, 0025017001...</td>\n",
       "    </tr>\n",
       "    <tr>\n",
       "      <th>1</th>\n",
       "      <td>10</td>\n",
       "      <td>A.00093</td>\n",
       "      <td>0010003001, 0010005001, 0015005003, 0015027000...</td>\n",
       "      <td>0010002001, 0010005001, 0025006000, 0094089002...</td>\n",
       "    </tr>\n",
       "    <tr>\n",
       "      <th>2</th>\n",
       "      <td>11</td>\n",
       "      <td>A.00095</td>\n",
       "      <td>0004001001, 0025006012, 0025017001, 0095004000...</td>\n",
       "      <td>0004001001, 0025006070, 0025006080, 0025017001...</td>\n",
       "    </tr>\n",
       "    <tr>\n",
       "      <th>3</th>\n",
       "      <td>13</td>\n",
       "      <td>A.00108</td>\n",
       "      <td>0025006000, 0025006003, 0025017001, 0095004000...</td>\n",
       "      <td>0025006000, 0025017001, 0095004000</td>\n",
       "    </tr>\n",
       "    <tr>\n",
       "      <th>4</th>\n",
       "      <td>16</td>\n",
       "      <td>A.00115</td>\n",
       "      <td>0010005001, 0026018001</td>\n",
       "      <td>0026018001, 0118007001</td>\n",
       "    </tr>\n",
       "  </tbody>\n",
       "</table>\n",
       "</div>"
      ],
      "text/plain": [
       "   index  Cuscode                                        Basket_2019  \\\n",
       "0      8  A.00071  0010005001, 0015020000, 0025006000, 0025017001...   \n",
       "1     10  A.00093  0010003001, 0010005001, 0015005003, 0015027000...   \n",
       "2     11  A.00095  0004001001, 0025006012, 0025017001, 0095004000...   \n",
       "3     13  A.00108  0025006000, 0025006003, 0025017001, 0095004000...   \n",
       "4     16  A.00115                             0010005001, 0026018001   \n",
       "\n",
       "                                         Basket_2020  \n",
       "0  0001016000, 0025006000, 0025006003, 0025017001...  \n",
       "1  0010002001, 0010005001, 0025006000, 0094089002...  \n",
       "2  0004001001, 0025006070, 0025006080, 0025017001...  \n",
       "3                 0025006000, 0025017001, 0095004000  \n",
       "4                             0026018001, 0118007001  "
      ]
     },
     "execution_count": 65,
     "metadata": {},
     "output_type": "execute_result"
    }
   ],
   "source": [
    "customers_c.head()"
   ]
  },
  {
   "cell_type": "code",
   "execution_count": 39,
   "metadata": {
    "id": "owDfQmJdlk5p"
   },
   "outputs": [],
   "source": [
    "result_c = []\n",
    "for i in range (len(customers_c)):\n",
    "    result_t = similar(customers_c[\"Basket_2019\"][i], customers_c[\"Basket_2020\"][i])\n",
    "    result_c.append(result_t)"
   ]
  },
  {
   "cell_type": "code",
   "execution_count": 40,
   "metadata": {
    "id": "8fjKo8aJlk5q"
   },
   "outputs": [
    {
     "data": {
      "text/html": [
       "<div>\n",
       "<style scoped>\n",
       "    .dataframe tbody tr th:only-of-type {\n",
       "        vertical-align: middle;\n",
       "    }\n",
       "\n",
       "    .dataframe tbody tr th {\n",
       "        vertical-align: top;\n",
       "    }\n",
       "\n",
       "    .dataframe thead th {\n",
       "        text-align: right;\n",
       "    }\n",
       "</style>\n",
       "<table border=\"1\" class=\"dataframe\">\n",
       "  <thead>\n",
       "    <tr style=\"text-align: right;\">\n",
       "      <th></th>\n",
       "      <th>0</th>\n",
       "    </tr>\n",
       "  </thead>\n",
       "  <tbody>\n",
       "    <tr>\n",
       "      <th>0</th>\n",
       "      <td>0.687500</td>\n",
       "    </tr>\n",
       "    <tr>\n",
       "      <th>1</th>\n",
       "      <td>0.670732</td>\n",
       "    </tr>\n",
       "    <tr>\n",
       "      <th>2</th>\n",
       "      <td>0.780000</td>\n",
       "    </tr>\n",
       "    <tr>\n",
       "      <th>3</th>\n",
       "      <td>0.739130</td>\n",
       "    </tr>\n",
       "    <tr>\n",
       "      <th>4</th>\n",
       "      <td>0.454545</td>\n",
       "    </tr>\n",
       "  </tbody>\n",
       "</table>\n",
       "</div>"
      ],
      "text/plain": [
       "          0\n",
       "0  0.687500\n",
       "1  0.670732\n",
       "2  0.780000\n",
       "3  0.739130\n",
       "4  0.454545"
      ]
     },
     "execution_count": 40,
     "metadata": {},
     "output_type": "execute_result"
    }
   ],
   "source": [
    "result_data_c = pd.DataFrame(result_c)\n",
    "result_data_c.head()"
   ]
  },
  {
   "cell_type": "code",
   "execution_count": 42,
   "metadata": {
    "id": "njIi9H2Slk5q"
   },
   "outputs": [
    {
     "name": "stdout",
     "output_type": "stream",
     "text": [
      "0    0.667554\n",
      "dtype: float64\n"
     ]
    }
   ],
   "source": [
    "avg_c =result_data_c[[0]].mean(axis=0)\n",
    "print(avg_c)"
   ]
  },
  {
   "cell_type": "code",
   "execution_count": 43,
   "metadata": {
    "id": "YbLGf83_lk5q"
   },
   "outputs": [
    {
     "data": {
      "text/plain": [
       "array([[<AxesSubplot:title={'center':'0'}>]], dtype=object)"
      ]
     },
     "execution_count": 43,
     "metadata": {},
     "output_type": "execute_result"
    },
    {
     "data": {
      "image/png": "[encoded data removed]",
      "text/plain": [
       "<Figure size 432x288 with 1 Axes>"
      ]
     },
     "metadata": {
      "needs_background": "light"
     },
     "output_type": "display_data"
    }
   ],
   "source": [
    "result_data_c.hist([0], color = \"red\")"
   ]
  }
 ],
 "metadata": {
  "colab": {
   "collapsed_sections": [],
   "name": "Covid_products_study.ipynb",
   "provenance": []
  },
  "kernelspec": {
   "display_name": "Python 3",
   "language": "python",
   "name": "python3"
  },
  "language_info": {
   "codemirror_mode": {
    "name": "ipython",
    "version": 3
   },
   "file_extension": ".py",
   "mimetype": "text/x-python",
   "name": "python",
   "nbconvert_exporter": "python",
   "pygments_lexer": "ipython3",
   "version": "3.8.5"
  }
 },
 "nbformat": 4,
 "nbformat_minor": 1
}
