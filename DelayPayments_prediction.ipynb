{
 "cells": [
  {
   "cell_type": "markdown",
   "metadata": {},
   "source": [
    "# Delay payments prediction model"
   ]
  },
  {
   "cell_type": "markdown",
   "metadata": {},
   "source": [
    "**Scope of the the study is deployment of a model predicting customers payment delays**\n",
    "\n"
   ]
  },
  {
   "cell_type": "code",
   "execution_count": 16,
   "metadata": {},
   "outputs": [],
   "source": [
    "import pandas as pd\n",
    "import numpy as np\n",
    "%matplotlib inline\n",
    "import matplotlib.pyplot as plt\n",
    "plt.style.use('seaborn-whitegrid')\n",
    "import seaborn as sns\n"
   ]
  },
  {
   "cell_type": "code",
   "execution_count": 17,
   "metadata": {},
   "outputs": [],
   "source": [
    "customer_base = pd.read_excel('customer_profile.xlsx', sheet_name='customers_profile_2021')"
   ]
  },
  {
   "cell_type": "code",
   "execution_count": 18,
   "metadata": {},
   "outputs": [
    {
     "name": "stdout",
     "output_type": "stream",
     "text": [
      "<class 'pandas.core.frame.DataFrame'>\n",
      "RangeIndex: 2487 entries, 0 to 2486\n",
      "Data columns (total 20 columns):\n",
      " #   Column              Non-Null Count  Dtype  \n",
      "---  ------              --------------  -----  \n",
      " 0   CardCode            2487 non-null   object \n",
      " 1   CustomerRank        2487 non-null   int64  \n",
      " 2   Domestic            2487 non-null   int64  \n",
      " 3   Attika              2487 non-null   int64  \n",
      " 4   Territory           2487 non-null   int64  \n",
      " 5   U_GRSL              2483 non-null   float64\n",
      " 6   U_ZeeKey2           2487 non-null   int64  \n",
      " 7   SZSegmentation      2297 non-null   object \n",
      " 8   MarketSegmentation  2213 non-null   object \n",
      " 9   Subsegment          2399 non-null   object \n",
      " 10  SlpCode             2487 non-null   int64  \n",
      " 11  AvgPayDays          2487 non-null   float64\n",
      " 12  PaymentTerms        2487 non-null   int64  \n",
      " 13  AvgLatePayDays      2487 non-null   int64  \n",
      " 14  Tziros              2487 non-null   float64\n",
      " 15  AvgSVal             2487 non-null   float64\n",
      " 16  MaxSval             2487 non-null   float64\n",
      " 17  invNo               2487 non-null   int64  \n",
      " 18  AvgInvNoPerMonth    2487 non-null   int64  \n",
      " 19  Basket              2487 non-null   object \n",
      "dtypes: float64(5), int64(10), object(5)\n",
      "memory usage: 388.7+ KB\n"
     ]
    }
   ],
   "source": [
    "customer_base.info()"
   ]
  },
  {
   "cell_type": "markdown",
   "metadata": {},
   "source": [
    "* Quick view of the features values"
   ]
  },
  {
   "cell_type": "code",
   "execution_count": 19,
   "metadata": {},
   "outputs": [
    {
     "name": "stdout",
     "output_type": "stream",
     "text": [
      "############# START Domestic #############\n",
      "1    2472\n",
      "0      15\n",
      "Name: Domestic, dtype: int64\n",
      "############# END Domestic #############\n",
      "############# START Attika #############\n",
      "1    1643\n",
      "0     844\n",
      "Name: Attika, dtype: int64\n",
      "############# END Attika #############\n",
      "############# START Territory #############\n",
      "5      503\n",
      "85     117\n",
      "16     107\n",
      "15     105\n",
      "108     79\n",
      "      ... \n",
      "156      1\n",
      "93       1\n",
      "126      1\n",
      "145      1\n",
      "130      1\n",
      "Name: Territory, Length: 102, dtype: int64\n",
      "############# END Territory #############\n",
      "############# START U_GRSL #############\n",
      "1.0     505\n",
      "2.0     423\n",
      "10.0    398\n",
      "8.0     285\n",
      "0.0     132\n",
      "38.0     78\n",
      "9.0      76\n",
      "35.0     69\n",
      "18.0     60\n",
      "34.0     59\n",
      "40.0     44\n",
      "17.0     32\n",
      "16.0     30\n",
      "32.0     29\n",
      "12.0     27\n",
      "6.0      20\n",
      "43.0     19\n",
      "13.0     16\n",
      "7.0      15\n",
      "21.0     14\n",
      "26.0     12\n",
      "37.0     12\n",
      "11.0     12\n",
      "55.0     11\n",
      "31.0     11\n",
      "23.0     11\n",
      "25.0      9\n",
      "20.0      8\n",
      "15.0      7\n",
      "22.0      7\n",
      "36.0      7\n",
      "41.0      6\n",
      "27.0      5\n",
      "24.0      5\n",
      "64.0      4\n",
      "14.0      4\n",
      "33.0      4\n",
      "50.0      3\n",
      "54.0      2\n",
      "39.0      2\n",
      "19.0      2\n",
      "45.0      2\n",
      "48.0      1\n",
      "47.0      1\n",
      "51.0      1\n",
      "52.0      1\n",
      "63.0      1\n",
      "57.0      1\n",
      "Name: U_GRSL, dtype: int64\n",
      "############# END U_GRSL #############\n",
      "############# START U_ZeeKey2 #############\n",
      "2     2401\n",
      "1       52\n",
      "99      13\n",
      "4       12\n",
      "3        6\n",
      "5        3\n",
      "Name: U_ZeeKey2, dtype: int64\n",
      "############# END U_ZeeKey2 #############\n",
      "############# START SZSegmentation #############\n",
      "c    1113\n",
      "b     825\n",
      "a     359\n",
      "Name: SZSegmentation, dtype: int64\n",
      "############# END SZSegmentation #############\n",
      "############# START MarketSegmentation #############\n",
      "B    1097\n",
      "C     607\n",
      "A     509\n",
      "Name: MarketSegmentation, dtype: int64\n",
      "############# END MarketSegmentation #############\n",
      "############# START Subsegment #############\n",
      "1     863\n",
      "2     546\n",
      "3     359\n",
      "4     284\n",
      "5     127\n",
      "6     123\n",
      "7      45\n",
      "I2     21\n",
      "I3     20\n",
      "I1     11\n",
      "Name: Subsegment, dtype: int64\n",
      "############# END Subsegment #############\n",
      "############# START SlpCode #############\n",
      " 138    220\n",
      " 67     188\n",
      " 140    170\n",
      " 143    165\n",
      " 83     157\n",
      " 136    146\n",
      " 51     125\n",
      " 109    125\n",
      " 90     116\n",
      " 164    114\n",
      " 81     113\n",
      " 23     112\n",
      " 141    107\n",
      " 86      99\n",
      " 144     98\n",
      " 22      74\n",
      " 146     71\n",
      " 68      64\n",
      " 133     60\n",
      " 139     42\n",
      " 132     25\n",
      " 97      21\n",
      " 64      15\n",
      " 123     14\n",
      " 145     11\n",
      " 107      8\n",
      " 137      6\n",
      " 106      5\n",
      "-1        5\n",
      " 74       4\n",
      " 94       4\n",
      " 112      2\n",
      " 48       1\n",
      "Name: SlpCode, dtype: int64\n",
      "############# END SlpCode #############\n",
      "############# START AvgPayDays #############\n",
      " 0.00     328\n",
      " 1.00       9\n",
      " 0.01       8\n",
      " 22.00      6\n",
      " 14.00      5\n",
      "         ... \n",
      " 91.53      1\n",
      " 21.60      1\n",
      " 39.26      1\n",
      "-0.16       1\n",
      " 19.37      1\n",
      "Name: AvgPayDays, Length: 1888, dtype: int64\n",
      "############# END AvgPayDays #############\n",
      "############# START PaymentTerms #############\n",
      "30     544\n",
      "16     516\n",
      "1      405\n",
      "62     286\n",
      "45     208\n",
      "90     108\n",
      "120     95\n",
      "7       92\n",
      "75      64\n",
      "4       40\n",
      "135     23\n",
      "110     18\n",
      "20      17\n",
      "15      15\n",
      "5       14\n",
      "31      12\n",
      "12      10\n",
      "102      8\n",
      "85       3\n",
      "40       3\n",
      "210      3\n",
      "150      1\n",
      "50       1\n",
      "180      1\n",
      "Name: PaymentTerms, dtype: int64\n",
      "############# END PaymentTerms #############\n",
      "############# START AvgLatePayDays #############\n",
      "-1      259\n",
      " 0       68\n",
      "-30      56\n",
      " 1       49\n",
      "-16      46\n",
      "       ... \n",
      " 195      1\n",
      "-218      1\n",
      " 133      1\n",
      "-101      1\n",
      " 291      1\n",
      "Name: AvgLatePayDays, Length: 253, dtype: int64\n",
      "############# END AvgLatePayDays #############\n",
      "############# START Tziros #############\n",
      "164.50     6\n",
      "165.75     4\n",
      "175.00     4\n",
      "167.00     4\n",
      "128.25     3\n",
      "          ..\n",
      "3226.74    1\n",
      "4467.74    1\n",
      "975.29     1\n",
      "2388.82    1\n",
      "2566.35    1\n",
      "Name: Tziros, Length: 2449, dtype: int64\n",
      "############# END Tziros #############\n",
      "############# START AvgSVal #############\n",
      "164.50    4\n",
      "68.35     3\n",
      "82.88     3\n",
      "56.01     3\n",
      "68.94     3\n",
      "         ..\n",
      "158.01    1\n",
      "79.16     1\n",
      "116.19    1\n",
      "69.02     1\n",
      "285.15    1\n",
      "Name: AvgSVal, Length: 2345, dtype: int64\n",
      "############# END AvgSVal #############\n",
      "############# START MaxSval #############\n",
      "329.00     34\n",
      "83.50      23\n",
      "175.00     11\n",
      "128.25     10\n",
      "82.25      10\n",
      "           ..\n",
      "156.73      1\n",
      "213.75      1\n",
      "93.40       1\n",
      "144.60      1\n",
      "1950.09     1\n",
      "Name: MaxSval, Length: 2108, dtype: int64\n",
      "############# END MaxSval #############\n",
      "############# START invNo #############\n",
      "3      143\n",
      "6      138\n",
      "2      136\n",
      "4      128\n",
      "5      116\n",
      "      ... \n",
      "182      1\n",
      "162      1\n",
      "161      1\n",
      "106      1\n",
      "98       1\n",
      "Name: invNo, Length: 133, dtype: int64\n",
      "############# END invNo #############\n"
     ]
    }
   ],
   "source": [
    "for column in customer_base.columns[2:-2]:\n",
    "    print(f\"############# START {column} #############\")\n",
    "    print(customer_base[column].value_counts())\n",
    "    print(f\"############# END {column} #############\")"
   ]
  },
  {
   "cell_type": "code",
   "execution_count": 20,
   "metadata": {},
   "outputs": [
    {
     "data": {
      "text/html": [
       "<div>\n",
       "<style scoped>\n",
       "    .dataframe tbody tr th:only-of-type {\n",
       "        vertical-align: middle;\n",
       "    }\n",
       "\n",
       "    .dataframe tbody tr th {\n",
       "        vertical-align: top;\n",
       "    }\n",
       "\n",
       "    .dataframe thead th {\n",
       "        text-align: right;\n",
       "    }\n",
       "</style>\n",
       "<table border=\"1\" class=\"dataframe\">\n",
       "  <thead>\n",
       "    <tr style=\"text-align: right;\">\n",
       "      <th></th>\n",
       "      <th>CardCode</th>\n",
       "      <th>CustomerRank</th>\n",
       "      <th>Domestic</th>\n",
       "      <th>Attika</th>\n",
       "      <th>Territory</th>\n",
       "      <th>U_GRSL</th>\n",
       "      <th>U_ZeeKey2</th>\n",
       "      <th>SZSegmentation</th>\n",
       "      <th>MarketSegmentation</th>\n",
       "      <th>Subsegment</th>\n",
       "      <th>SlpCode</th>\n",
       "      <th>AvgPayDays</th>\n",
       "      <th>PaymentTerms</th>\n",
       "      <th>AvgLatePayDays</th>\n",
       "      <th>Tziros</th>\n",
       "      <th>AvgSVal</th>\n",
       "      <th>MaxSval</th>\n",
       "      <th>invNo</th>\n",
       "      <th>AvgInvNoPerMonth</th>\n",
       "      <th>Basket</th>\n",
       "    </tr>\n",
       "  </thead>\n",
       "  <tbody>\n",
       "    <tr>\n",
       "      <th>0</th>\n",
       "      <td>A.00001</td>\n",
       "      <td>7</td>\n",
       "      <td>0</td>\n",
       "      <td>1</td>\n",
       "      <td>130</td>\n",
       "      <td>0.0</td>\n",
       "      <td>5</td>\n",
       "      <td>NaN</td>\n",
       "      <td>NaN</td>\n",
       "      <td>NaN</td>\n",
       "      <td>64</td>\n",
       "      <td>0.00</td>\n",
       "      <td>210</td>\n",
       "      <td>-210</td>\n",
       "      <td>470640.83</td>\n",
       "      <td>21392.77</td>\n",
       "      <td>43385.5</td>\n",
       "      <td>22</td>\n",
       "      <td>2</td>\n",
       "      <td>0119001004, 0018007003, 0127003001, 0026007003...</td>\n",
       "    </tr>\n",
       "    <tr>\n",
       "      <th>1</th>\n",
       "      <td>A.00008</td>\n",
       "      <td>35</td>\n",
       "      <td>0</td>\n",
       "      <td>1</td>\n",
       "      <td>126</td>\n",
       "      <td>0.0</td>\n",
       "      <td>5</td>\n",
       "      <td>NaN</td>\n",
       "      <td>NaN</td>\n",
       "      <td>NaN</td>\n",
       "      <td>64</td>\n",
       "      <td>48.68</td>\n",
       "      <td>45</td>\n",
       "      <td>4</td>\n",
       "      <td>91826.00</td>\n",
       "      <td>15304.33</td>\n",
       "      <td>19551.0</td>\n",
       "      <td>6</td>\n",
       "      <td>1</td>\n",
       "      <td>0094079001, 0025022020, 0094013002</td>\n",
       "    </tr>\n",
       "    <tr>\n",
       "      <th>2</th>\n",
       "      <td>A.00023</td>\n",
       "      <td>43</td>\n",
       "      <td>0</td>\n",
       "      <td>1</td>\n",
       "      <td>134</td>\n",
       "      <td>0.0</td>\n",
       "      <td>4</td>\n",
       "      <td>NaN</td>\n",
       "      <td>NaN</td>\n",
       "      <td>NaN</td>\n",
       "      <td>64</td>\n",
       "      <td>117.00</td>\n",
       "      <td>62</td>\n",
       "      <td>55</td>\n",
       "      <td>68544.00</td>\n",
       "      <td>34272.00</td>\n",
       "      <td>36120.0</td>\n",
       "      <td>2</td>\n",
       "      <td>1</td>\n",
       "      <td>0005001010</td>\n",
       "    </tr>\n",
       "    <tr>\n",
       "      <th>3</th>\n",
       "      <td>A.00028</td>\n",
       "      <td>165</td>\n",
       "      <td>0</td>\n",
       "      <td>1</td>\n",
       "      <td>131</td>\n",
       "      <td>0.0</td>\n",
       "      <td>4</td>\n",
       "      <td>NaN</td>\n",
       "      <td>NaN</td>\n",
       "      <td>NaN</td>\n",
       "      <td>64</td>\n",
       "      <td>13.39</td>\n",
       "      <td>30</td>\n",
       "      <td>-17</td>\n",
       "      <td>14910.65</td>\n",
       "      <td>4970.22</td>\n",
       "      <td>5801.7</td>\n",
       "      <td>3</td>\n",
       "      <td>1</td>\n",
       "      <td>0015035000, 0001026020, 0068001001, 0135000000...</td>\n",
       "    </tr>\n",
       "    <tr>\n",
       "      <th>4</th>\n",
       "      <td>A.00032</td>\n",
       "      <td>2</td>\n",
       "      <td>0</td>\n",
       "      <td>1</td>\n",
       "      <td>123</td>\n",
       "      <td>0.0</td>\n",
       "      <td>4</td>\n",
       "      <td>NaN</td>\n",
       "      <td>NaN</td>\n",
       "      <td>NaN</td>\n",
       "      <td>64</td>\n",
       "      <td>26.97</td>\n",
       "      <td>1</td>\n",
       "      <td>26</td>\n",
       "      <td>1200310.47</td>\n",
       "      <td>25538.52</td>\n",
       "      <td>54926.6</td>\n",
       "      <td>47</td>\n",
       "      <td>3</td>\n",
       "      <td>0015042001, 0095005001, 0026008002, 0025006010...</td>\n",
       "    </tr>\n",
       "  </tbody>\n",
       "</table>\n",
       "</div>"
      ],
      "text/plain": [
       "  CardCode  CustomerRank  Domestic  Attika  Territory  U_GRSL  U_ZeeKey2  \\\n",
       "0  A.00001             7         0       1        130     0.0          5   \n",
       "1  A.00008            35         0       1        126     0.0          5   \n",
       "2  A.00023            43         0       1        134     0.0          4   \n",
       "3  A.00028           165         0       1        131     0.0          4   \n",
       "4  A.00032             2         0       1        123     0.0          4   \n",
       "\n",
       "  SZSegmentation MarketSegmentation Subsegment  SlpCode  AvgPayDays  \\\n",
       "0            NaN                NaN        NaN       64        0.00   \n",
       "1            NaN                NaN        NaN       64       48.68   \n",
       "2            NaN                NaN        NaN       64      117.00   \n",
       "3            NaN                NaN        NaN       64       13.39   \n",
       "4            NaN                NaN        NaN       64       26.97   \n",
       "\n",
       "   PaymentTerms  AvgLatePayDays      Tziros   AvgSVal  MaxSval  invNo  \\\n",
       "0           210            -210   470640.83  21392.77  43385.5     22   \n",
       "1            45               4    91826.00  15304.33  19551.0      6   \n",
       "2            62              55    68544.00  34272.00  36120.0      2   \n",
       "3            30             -17    14910.65   4970.22   5801.7      3   \n",
       "4             1              26  1200310.47  25538.52  54926.6     47   \n",
       "\n",
       "   AvgInvNoPerMonth                                             Basket  \n",
       "0                 2  0119001004, 0018007003, 0127003001, 0026007003...  \n",
       "1                 1                 0094079001, 0025022020, 0094013002  \n",
       "2                 1                                         0005001010  \n",
       "3                 1  0015035000, 0001026020, 0068001001, 0135000000...  \n",
       "4                 3  0015042001, 0095005001, 0026008002, 0025006010...  "
      ]
     },
     "execution_count": 20,
     "metadata": {},
     "output_type": "execute_result"
    }
   ],
   "source": [
    "customer_base.head()\n"
   ]
  },
  {
   "cell_type": "markdown",
   "metadata": {},
   "source": [
    "* We create delay day buckets to make visualization of results better\n",
    "* Then we remove the cases where payment days are negative (customers paying earlier than agreed!!)"
   ]
  },
  {
   "cell_type": "code",
   "execution_count": 21,
   "metadata": {},
   "outputs": [],
   "source": [
    "customer_base['AvgLatePayDays_Buckets'] = customer_base['AvgLatePayDays'].apply(lambda days: days//30 * 30)\n",
    "customer_base_filtered = customer_base[customer_base['AvgLatePayDays'] >= 0]"
   ]
  },
  {
   "cell_type": "code",
   "execution_count": 22,
   "metadata": {},
   "outputs": [
    {
     "data": {
      "text/html": [
       "<div>\n",
       "<style scoped>\n",
       "    .dataframe tbody tr th:only-of-type {\n",
       "        vertical-align: middle;\n",
       "    }\n",
       "\n",
       "    .dataframe tbody tr th {\n",
       "        vertical-align: top;\n",
       "    }\n",
       "\n",
       "    .dataframe thead th {\n",
       "        text-align: right;\n",
       "    }\n",
       "</style>\n",
       "<table border=\"1\" class=\"dataframe\">\n",
       "  <thead>\n",
       "    <tr style=\"text-align: right;\">\n",
       "      <th></th>\n",
       "      <th>CardCode</th>\n",
       "      <th>CustomerRank</th>\n",
       "      <th>Domestic</th>\n",
       "      <th>Attika</th>\n",
       "      <th>Territory</th>\n",
       "      <th>U_GRSL</th>\n",
       "      <th>U_ZeeKey2</th>\n",
       "      <th>SZSegmentation</th>\n",
       "      <th>MarketSegmentation</th>\n",
       "      <th>Subsegment</th>\n",
       "      <th>...</th>\n",
       "      <th>AvgPayDays</th>\n",
       "      <th>PaymentTerms</th>\n",
       "      <th>AvgLatePayDays</th>\n",
       "      <th>Tziros</th>\n",
       "      <th>AvgSVal</th>\n",
       "      <th>MaxSval</th>\n",
       "      <th>invNo</th>\n",
       "      <th>AvgInvNoPerMonth</th>\n",
       "      <th>Basket</th>\n",
       "      <th>AvgLatePayDays_Buckets</th>\n",
       "    </tr>\n",
       "  </thead>\n",
       "  <tbody>\n",
       "    <tr>\n",
       "      <th>1</th>\n",
       "      <td>A.00008</td>\n",
       "      <td>35</td>\n",
       "      <td>0</td>\n",
       "      <td>1</td>\n",
       "      <td>126</td>\n",
       "      <td>0.0</td>\n",
       "      <td>5</td>\n",
       "      <td>NaN</td>\n",
       "      <td>NaN</td>\n",
       "      <td>NaN</td>\n",
       "      <td>...</td>\n",
       "      <td>48.68</td>\n",
       "      <td>45</td>\n",
       "      <td>4</td>\n",
       "      <td>91826.00</td>\n",
       "      <td>15304.33</td>\n",
       "      <td>19551.00</td>\n",
       "      <td>6</td>\n",
       "      <td>1</td>\n",
       "      <td>0094079001, 0025022020, 0094013002</td>\n",
       "      <td>0</td>\n",
       "    </tr>\n",
       "    <tr>\n",
       "      <th>2</th>\n",
       "      <td>A.00023</td>\n",
       "      <td>43</td>\n",
       "      <td>0</td>\n",
       "      <td>1</td>\n",
       "      <td>134</td>\n",
       "      <td>0.0</td>\n",
       "      <td>4</td>\n",
       "      <td>NaN</td>\n",
       "      <td>NaN</td>\n",
       "      <td>NaN</td>\n",
       "      <td>...</td>\n",
       "      <td>117.00</td>\n",
       "      <td>62</td>\n",
       "      <td>55</td>\n",
       "      <td>68544.00</td>\n",
       "      <td>34272.00</td>\n",
       "      <td>36120.00</td>\n",
       "      <td>2</td>\n",
       "      <td>1</td>\n",
       "      <td>0005001010</td>\n",
       "      <td>30</td>\n",
       "    </tr>\n",
       "    <tr>\n",
       "      <th>4</th>\n",
       "      <td>A.00032</td>\n",
       "      <td>2</td>\n",
       "      <td>0</td>\n",
       "      <td>1</td>\n",
       "      <td>123</td>\n",
       "      <td>0.0</td>\n",
       "      <td>4</td>\n",
       "      <td>NaN</td>\n",
       "      <td>NaN</td>\n",
       "      <td>NaN</td>\n",
       "      <td>...</td>\n",
       "      <td>26.97</td>\n",
       "      <td>1</td>\n",
       "      <td>26</td>\n",
       "      <td>1200310.47</td>\n",
       "      <td>25538.52</td>\n",
       "      <td>54926.60</td>\n",
       "      <td>47</td>\n",
       "      <td>3</td>\n",
       "      <td>0015042001, 0095005001, 0026008002, 0025006010...</td>\n",
       "      <td>0</td>\n",
       "    </tr>\n",
       "    <tr>\n",
       "      <th>5</th>\n",
       "      <td>A.00033</td>\n",
       "      <td>5</td>\n",
       "      <td>0</td>\n",
       "      <td>1</td>\n",
       "      <td>139</td>\n",
       "      <td>0.0</td>\n",
       "      <td>4</td>\n",
       "      <td>NaN</td>\n",
       "      <td>NaN</td>\n",
       "      <td>NaN</td>\n",
       "      <td>...</td>\n",
       "      <td>53.21</td>\n",
       "      <td>1</td>\n",
       "      <td>52</td>\n",
       "      <td>564752.17</td>\n",
       "      <td>26892.96</td>\n",
       "      <td>46480.50</td>\n",
       "      <td>21</td>\n",
       "      <td>1</td>\n",
       "      <td>0015042001, 0025006010, 0015033000, 0026007002...</td>\n",
       "      <td>30</td>\n",
       "    </tr>\n",
       "    <tr>\n",
       "      <th>6</th>\n",
       "      <td>A.00035</td>\n",
       "      <td>11</td>\n",
       "      <td>0</td>\n",
       "      <td>1</td>\n",
       "      <td>120</td>\n",
       "      <td>0.0</td>\n",
       "      <td>4</td>\n",
       "      <td>NaN</td>\n",
       "      <td>NaN</td>\n",
       "      <td>NaN</td>\n",
       "      <td>...</td>\n",
       "      <td>63.66</td>\n",
       "      <td>62</td>\n",
       "      <td>2</td>\n",
       "      <td>257464.69</td>\n",
       "      <td>10727.70</td>\n",
       "      <td>27756.06</td>\n",
       "      <td>24</td>\n",
       "      <td>2</td>\n",
       "      <td>0025006000, 0127010000, 0025017001, 0025006010...</td>\n",
       "      <td>0</td>\n",
       "    </tr>\n",
       "  </tbody>\n",
       "</table>\n",
       "<p>5 rows × 21 columns</p>\n",
       "</div>"
      ],
      "text/plain": [
       "  CardCode  CustomerRank  Domestic  Attika  Territory  U_GRSL  U_ZeeKey2  \\\n",
       "1  A.00008            35         0       1        126     0.0          5   \n",
       "2  A.00023            43         0       1        134     0.0          4   \n",
       "4  A.00032             2         0       1        123     0.0          4   \n",
       "5  A.00033             5         0       1        139     0.0          4   \n",
       "6  A.00035            11         0       1        120     0.0          4   \n",
       "\n",
       "  SZSegmentation MarketSegmentation Subsegment  ...  AvgPayDays  PaymentTerms  \\\n",
       "1            NaN                NaN        NaN  ...       48.68            45   \n",
       "2            NaN                NaN        NaN  ...      117.00            62   \n",
       "4            NaN                NaN        NaN  ...       26.97             1   \n",
       "5            NaN                NaN        NaN  ...       53.21             1   \n",
       "6            NaN                NaN        NaN  ...       63.66            62   \n",
       "\n",
       "   AvgLatePayDays      Tziros   AvgSVal   MaxSval  invNo  AvgInvNoPerMonth  \\\n",
       "1               4    91826.00  15304.33  19551.00      6                 1   \n",
       "2              55    68544.00  34272.00  36120.00      2                 1   \n",
       "4              26  1200310.47  25538.52  54926.60     47                 3   \n",
       "5              52   564752.17  26892.96  46480.50     21                 1   \n",
       "6               2   257464.69  10727.70  27756.06     24                 2   \n",
       "\n",
       "                                              Basket AvgLatePayDays_Buckets  \n",
       "1                 0094079001, 0025022020, 0094013002                      0  \n",
       "2                                         0005001010                     30  \n",
       "4  0015042001, 0095005001, 0026008002, 0025006010...                      0  \n",
       "5  0015042001, 0025006010, 0015033000, 0026007002...                     30  \n",
       "6  0025006000, 0127010000, 0025017001, 0025006010...                      0  \n",
       "\n",
       "[5 rows x 21 columns]"
      ]
     },
     "execution_count": 22,
     "metadata": {},
     "output_type": "execute_result"
    }
   ],
   "source": [
    "customer_base_filtered.head()"
   ]
  },
  {
   "cell_type": "code",
   "execution_count": 23,
   "metadata": {},
   "outputs": [
    {
     "data": {
      "text/plain": [
       "array([[<AxesSubplot:title={'center':'AvgLatePayDays_Buckets'}>]],\n",
       "      dtype=object)"
      ]
     },
     "execution_count": 23,
     "metadata": {},
     "output_type": "execute_result"
    },
    {
     "data": {
      "image/png": "[encoded data removed]",
      "text/plain": [
       "<Figure size 432x288 with 1 Axes>"
      ]
     },
     "metadata": {},
     "output_type": "display_data"
    }
   ],
   "source": [
    "customer_base_filtered.hist(['AvgLatePayDays_Buckets'], color = \"red\")"
   ]
  },
  {
   "cell_type": "code",
   "execution_count": 24,
   "metadata": {},
   "outputs": [
    {
     "data": {
      "text/plain": [
       "CardCode                    0\n",
       "CustomerRank                0\n",
       "Domestic                    0\n",
       "Attika                      0\n",
       "Territory                   0\n",
       "U_GRSL                      0\n",
       "U_ZeeKey2                   0\n",
       "SZSegmentation             92\n",
       "MarketSegmentation        128\n",
       "Subsegment                 35\n",
       "SlpCode                     0\n",
       "AvgPayDays                  0\n",
       "PaymentTerms                0\n",
       "AvgLatePayDays              0\n",
       "Tziros                      0\n",
       "AvgSVal                     0\n",
       "MaxSval                     0\n",
       "invNo                       0\n",
       "AvgInvNoPerMonth            0\n",
       "Basket                      0\n",
       "AvgLatePayDays_Buckets      0\n",
       "dtype: int64"
      ]
     },
     "execution_count": 24,
     "metadata": {},
     "output_type": "execute_result"
    }
   ],
   "source": [
    "customer_base_filtered.isnull().sum()"
   ]
  },
  {
   "cell_type": "markdown",
   "metadata": {},
   "source": [
    "* Remove records with null values"
   ]
  },
  {
   "cell_type": "code",
   "execution_count": 25,
   "metadata": {},
   "outputs": [],
   "source": [
    "customer_base_cleaned = customer_base_filtered.dropna()"
   ]
  },
  {
   "cell_type": "code",
   "execution_count": 26,
   "metadata": {},
   "outputs": [
    {
     "data": {
      "text/plain": [
       "CardCode                  0\n",
       "CustomerRank              0\n",
       "Domestic                  0\n",
       "Attika                    0\n",
       "Territory                 0\n",
       "U_GRSL                    0\n",
       "U_ZeeKey2                 0\n",
       "SZSegmentation            0\n",
       "MarketSegmentation        0\n",
       "Subsegment                0\n",
       "SlpCode                   0\n",
       "AvgPayDays                0\n",
       "PaymentTerms              0\n",
       "AvgLatePayDays            0\n",
       "Tziros                    0\n",
       "AvgSVal                   0\n",
       "MaxSval                   0\n",
       "invNo                     0\n",
       "AvgInvNoPerMonth          0\n",
       "Basket                    0\n",
       "AvgLatePayDays_Buckets    0\n",
       "dtype: int64"
      ]
     },
     "execution_count": 26,
     "metadata": {},
     "output_type": "execute_result"
    }
   ],
   "source": [
    "customer_base_cleaned.isnull().sum()"
   ]
  },
  {
   "cell_type": "code",
   "execution_count": 27,
   "metadata": {},
   "outputs": [
    {
     "data": {
      "text/plain": [
       "<seaborn.axisgrid.FacetGrid at 0x1b6b4b508e0>"
      ]
     },
     "execution_count": 27,
     "metadata": {},
     "output_type": "execute_result"
    },
    {
     "data": {
      "image/png": "[encoded data removed]",
      "text/plain": [
       "<Figure size 360x360 with 1 Axes>"
      ]
     },
     "metadata": {},
     "output_type": "display_data"
    }
   ],
   "source": [
    "sns.catplot(x=\"SZSegmentation\", y=\"AvgLatePayDays_Buckets\", data=customer_base_filtered)"
   ]
  },
  {
   "cell_type": "code",
   "execution_count": 28,
   "metadata": {},
   "outputs": [
    {
     "data": {
      "text/plain": [
       "<seaborn.axisgrid.FacetGrid at 0x1b6b4c38a60>"
      ]
     },
     "execution_count": 28,
     "metadata": {},
     "output_type": "execute_result"
    },
    {
     "data": {
      "image/png": "[encoded data removed]",
      "text/plain": [
       "<Figure size 360x360 with 1 Axes>"
      ]
     },
     "metadata": {},
     "output_type": "display_data"
    }
   ],
   "source": [
    "sns.catplot(x=\"PaymentTerms\", y=\"AvgLatePayDays_Buckets\", data=customer_base_filtered )"
   ]
  },
  {
   "cell_type": "markdown",
   "metadata": {},
   "source": [
    "* Visualize possible correlation between delays in payments and customer characteristics"
   ]
  },
  {
   "cell_type": "markdown",
   "metadata": {},
   "source": [
    "* Remove features wich assumed not be direclty connected the payment behavior of a customer"
   ]
  },
  {
   "cell_type": "code",
   "execution_count": 32,
   "metadata": {},
   "outputs": [],
   "source": [
    "X = customer_base_cleaned.drop(['CardCode',\"CustomerRank\", \"AvgLatePayDays_Buckets\", \"Domestic\",\"Attika\",\"Territory\",\"U_GRSL\",\"U_ZeeKey2\",\"MarketSegmentation\",\"Subsegment\",\"SlpCode\",\"AvgLatePayDays\",\"AvgSVal\", \"MaxSval\", \"AvgInvNoPerMonth\",\"AvgPayDays\", \"Basket\"], axis =1)\n",
    "y = customer_base_cleaned['AvgLatePayDays_Buckets']"
   ]
  },
  {
   "cell_type": "code",
   "execution_count": 33,
   "metadata": {},
   "outputs": [
    {
     "name": "stdout",
     "output_type": "stream",
     "text": [
      "<class 'pandas.core.frame.DataFrame'>\n",
      "Int64Index: 1137 entries, 9 to 2484\n",
      "Data columns (total 4 columns):\n",
      " #   Column          Non-Null Count  Dtype  \n",
      "---  ------          --------------  -----  \n",
      " 0   SZSegmentation  1137 non-null   object \n",
      " 1   PaymentTerms    1137 non-null   int64  \n",
      " 2   Tziros          1137 non-null   float64\n",
      " 3   invNo           1137 non-null   int64  \n",
      "dtypes: float64(1), int64(2), object(1)\n",
      "memory usage: 44.4+ KB\n"
     ]
    }
   ],
   "source": [
    "X.info()"
   ]
  },
  {
   "cell_type": "code",
   "execution_count": 34,
   "metadata": {},
   "outputs": [],
   "source": [
    "from sklearn.preprocessing import OrdinalEncoder\n",
    "enc = OrdinalEncoder()\n",
    "str_columns = [column for column in X.columns if customer_base_cleaned[column].dtype == 'object']\n",
    "X[str_columns] = enc.fit_transform(X[str_columns])"
   ]
  },
  {
   "cell_type": "markdown",
   "metadata": {},
   "source": [
    "* We built a DecisionTreeClassifier model "
   ]
  },
  {
   "cell_type": "code",
   "execution_count": 35,
   "metadata": {},
   "outputs": [
    {
     "name": "stderr",
     "output_type": "stream",
     "text": [
      "C:\\Users\\netadmin\\Anaconda3\\lib\\site-packages\\sklearn\\model_selection\\_split.py:666: UserWarning: The least populated class in y has only 1 members, which is less than n_splits=5.\n",
      "  warnings.warn((\"The least populated class in y has only %d\"\n"
     ]
    },
    {
     "data": {
      "text/plain": [
       "array([0.53947368, 0.54385965, 0.52422907, 0.55066079, 0.50220264])"
      ]
     },
     "execution_count": 35,
     "metadata": {},
     "output_type": "execute_result"
    }
   ],
   "source": [
    "from sklearn.model_selection import cross_val_score\n",
    "from sklearn.tree import DecisionTreeClassifier\n",
    "clf = DecisionTreeClassifier(random_state=0)\n",
    "cross_val_score(clf, X,y)"
   ]
  },
  {
   "cell_type": "code",
   "execution_count": 36,
   "metadata": {},
   "outputs": [
    {
     "data": {
      "text/plain": [
       "DecisionTreeClassifier(random_state=0)"
      ]
     },
     "execution_count": 36,
     "metadata": {},
     "output_type": "execute_result"
    }
   ],
   "source": [
    "from sklearn.model_selection import train_test_split\n",
    "X_train, X_test, y_train, y_test = train_test_split(X, y, random_state=4)\n",
    "clf.fit(X_train,y_train)"
   ]
  },
  {
   "cell_type": "code",
   "execution_count": 37,
   "metadata": {},
   "outputs": [
    {
     "data": {
      "text/plain": [
       "array([  0, 150,   0,   0,   0,   0,   0,   0,   0,   0,   0,   0,   0,\n",
       "         0,   0,   0,  60,   0,  30,   0,   0,   0,   0,  90,   0,   0,\n",
       "         0,   0,   0,   0,   0,   0,   0,   0,   0,   0,   0,   0,   0,\n",
       "        30,  30,   0,   0,  90,  30,  30,  30,   0,   0,   0,  60,   0,\n",
       "         0,   0,  30,   0,   0,   0,  30,   0,  30,  30, 150,   0,   0,\n",
       "        30,  30,   0,   0,  60,   0,   0,   0,   0,   0,   0,   0,  30,\n",
       "         0,  60,   0,   0,  30,   0,  60,  30,   0,   0,   0,   0,   0,\n",
       "         0,   0,   0,   0,   0,   0,   0,  60,  60,   0,  30,   0,   0,\n",
       "         0,   0,  30,   0,   0,  30,   0,   0,   0,  90,   0,   0,   0,\n",
       "         0,   0,   0,  30,   0,   0,   0,   0,   0,   0,   0,   0,  30,\n",
       "         0,   0,   0,   0,   0,   0,  30,  30,   0,   0,   0,   0,   0,\n",
       "         0,   0,   0,  90,   0,  30,   0,   0,   0,   0,   0,   0,   0,\n",
       "         0,   0,   0,   0,   0, 180,  30,   0,   0,   0,   0,   0,   0,\n",
       "         0,   0,   0,   0,   0,  90,   0,  30,  30,   0,   0,   0,  30,\n",
       "         0,   0,  90,  30,   0,   0,  30,   0,   0,   0,  60,  30,   0,\n",
       "        30,   0,  30,   0,   0,   0,   0,  30,   0,   0,  30,   0,   0,\n",
       "         0,   0,   0,  30,  30,   0,   0,   0,  30, 120,  30,  90,   0,\n",
       "        30,   0,  30,   0,   0,  30,   0,   0,  30,   0,   0,   0,  30,\n",
       "         0,   0,  30,   0,   0,  30,   0,   0,   0,  30,   0,   0,   0,\n",
       "         0,   0,  30,  30,   0,  60,   0,   0,   0,   0,  60,   0,   0,\n",
       "         0,   0,  30,  30,   0,  60,   0, 150,  30,  30,   0,   0,   0,\n",
       "         0,  30,  30,   0,  30,   0,  30,   0, 180,   0,   0,  30],\n",
       "      dtype=int64)"
      ]
     },
     "execution_count": 37,
     "metadata": {},
     "output_type": "execute_result"
    }
   ],
   "source": [
    "clf.predict(X_test)"
   ]
  },
  {
   "cell_type": "code",
   "execution_count": 38,
   "metadata": {},
   "outputs": [
    {
     "name": "stdout",
     "output_type": "stream",
     "text": [
      "Accuracy score= 0.5578947368421052\n",
      "Training error = 0.4421052631578948\n"
     ]
    }
   ],
   "source": [
    "from sklearn.metrics import zero_one_loss\n",
    "from sklearn.metrics import accuracy_score\n",
    "print(\"Accuracy score=\" ,accuracy_score(y_test, clf.predict(X_test)))\n",
    "print(\"Training error =\", zero_one_loss(y_test, clf.predict(X_test)))"
   ]
  },
  {
   "cell_type": "code",
   "execution_count": 39,
   "metadata": {},
   "outputs": [
    {
     "data": {
      "image/png": "[encoded data removed]",
      "text/plain": [
       "<Figure size 432x288 with 2 Axes>"
      ]
     },
     "metadata": {},
     "output_type": "display_data"
    }
   ],
   "source": [
    "import itertools\n",
    "import matplotlib.pyplot as plt\n",
    "import seaborn as sns\n",
    "import numpy as np\n",
    "from sklearn.metrics import confusion_matrix\n",
    "def plot_confusion_matrix(cm, classes,\n",
    "                          title='Confusion matrix',\n",
    "                          cmap=plt.cm.Blues):\n",
    "    plt.imshow(cm, interpolation='nearest', cmap=cmap)\n",
    "    plt.title(title)\n",
    "    plt.colorbar()\n",
    "    tick_marks = np.arange(len(classes))\n",
    "    plt.xticks(tick_marks, classes, rotation=45)\n",
    "    plt.yticks(tick_marks, classes)\n",
    "\n",
    "    fmt = 'd'\n",
    "    thresh = cm.max() / 2.\n",
    "    for i, j in itertools.product(range(cm.shape[0]), range(cm.shape[1])):\n",
    "        plt.text(j, i, format(cm[i, j], fmt),\n",
    "                 horizontalalignment=\"center\",\n",
    "                 color=\"blue\" if cm[i, j] > thresh else \"green\")\n",
    "\n",
    "    plt.ylabel('True label')\n",
    "    plt.xlabel('Predicted label')\n",
    "    plt.tight_layout()  \n",
    "    plt.show()\n",
    "\n",
    "cm = confusion_matrix(y_test, clf.predict(X_test))\n",
    "\n",
    "plot_confusion_matrix(cm, y.unique())"
   ]
  },
  {
   "cell_type": "code",
   "execution_count": 40,
   "metadata": {},
   "outputs": [
    {
     "data": {
      "text/plain": [
       "array([[147,  41,   6,   3,   0,   2,   1,   0,   0,   0],\n",
       "       [ 38,  10,   2,   3,   0,   1,   0,   0,   0,   0],\n",
       "       [  8,   3,   1,   1,   0,   0,   1,   0,   0,   0],\n",
       "       [  3,   1,   1,   0,   0,   0,   0,   0,   0,   0],\n",
       "       [  2,   2,   0,   0,   1,   0,   0,   0,   0,   0],\n",
       "       [  2,   0,   0,   0,   0,   0,   0,   0,   0,   0],\n",
       "       [  1,   0,   0,   0,   0,   0,   0,   0,   0,   0],\n",
       "       [  1,   0,   1,   0,   0,   0,   0,   0,   0,   0],\n",
       "       [  1,   0,   0,   0,   0,   0,   0,   0,   0,   0],\n",
       "       [  1,   0,   0,   0,   0,   0,   0,   0,   0,   0]], dtype=int64)"
      ]
     },
     "execution_count": 40,
     "metadata": {},
     "output_type": "execute_result"
    }
   ],
   "source": [
    "cm"
   ]
  },
  {
   "cell_type": "markdown",
   "metadata": {},
   "source": [
    "**We bring togheter predictions of the DT model and actual bucket of days**"
   ]
  },
  {
   "cell_type": "code",
   "execution_count": 41,
   "metadata": {},
   "outputs": [],
   "source": [
    "result = X.copy()"
   ]
  },
  {
   "cell_type": "code",
   "execution_count": 42,
   "metadata": {},
   "outputs": [],
   "source": [
    "result['prediction_decission_tree'] = clf.predict(X)\n",
    "result['AvgLatePayDays_Buckets'] = y"
   ]
  },
  {
   "cell_type": "code",
   "execution_count": 43,
   "metadata": {},
   "outputs": [
    {
     "data": {
      "text/html": [
       "<div>\n",
       "<style scoped>\n",
       "    .dataframe tbody tr th:only-of-type {\n",
       "        vertical-align: middle;\n",
       "    }\n",
       "\n",
       "    .dataframe tbody tr th {\n",
       "        vertical-align: top;\n",
       "    }\n",
       "\n",
       "    .dataframe thead th {\n",
       "        text-align: right;\n",
       "    }\n",
       "</style>\n",
       "<table border=\"1\" class=\"dataframe\">\n",
       "  <thead>\n",
       "    <tr style=\"text-align: right;\">\n",
       "      <th></th>\n",
       "      <th>SZSegmentation</th>\n",
       "      <th>PaymentTerms</th>\n",
       "      <th>Tziros</th>\n",
       "      <th>invNo</th>\n",
       "      <th>prediction_decission_tree</th>\n",
       "      <th>AvgLatePayDays_Buckets</th>\n",
       "    </tr>\n",
       "  </thead>\n",
       "  <tbody>\n",
       "    <tr>\n",
       "      <th>9</th>\n",
       "      <td>0.0</td>\n",
       "      <td>45</td>\n",
       "      <td>5660.52</td>\n",
       "      <td>44</td>\n",
       "      <td>0</td>\n",
       "      <td>0</td>\n",
       "    </tr>\n",
       "    <tr>\n",
       "      <th>11</th>\n",
       "      <td>2.0</td>\n",
       "      <td>16</td>\n",
       "      <td>376.68</td>\n",
       "      <td>4</td>\n",
       "      <td>90</td>\n",
       "      <td>90</td>\n",
       "    </tr>\n",
       "    <tr>\n",
       "      <th>12</th>\n",
       "      <td>2.0</td>\n",
       "      <td>16</td>\n",
       "      <td>330.08</td>\n",
       "      <td>3</td>\n",
       "      <td>0</td>\n",
       "      <td>0</td>\n",
       "    </tr>\n",
       "    <tr>\n",
       "      <th>13</th>\n",
       "      <td>2.0</td>\n",
       "      <td>45</td>\n",
       "      <td>480.40</td>\n",
       "      <td>4</td>\n",
       "      <td>30</td>\n",
       "      <td>30</td>\n",
       "    </tr>\n",
       "    <tr>\n",
       "      <th>15</th>\n",
       "      <td>2.0</td>\n",
       "      <td>16</td>\n",
       "      <td>177.45</td>\n",
       "      <td>2</td>\n",
       "      <td>0</td>\n",
       "      <td>0</td>\n",
       "    </tr>\n",
       "  </tbody>\n",
       "</table>\n",
       "</div>"
      ],
      "text/plain": [
       "    SZSegmentation  PaymentTerms   Tziros  invNo  prediction_decission_tree  \\\n",
       "9              0.0            45  5660.52     44                          0   \n",
       "11             2.0            16   376.68      4                         90   \n",
       "12             2.0            16   330.08      3                          0   \n",
       "13             2.0            45   480.40      4                         30   \n",
       "15             2.0            16   177.45      2                          0   \n",
       "\n",
       "    AvgLatePayDays_Buckets  \n",
       "9                        0  \n",
       "11                      90  \n",
       "12                       0  \n",
       "13                      30  \n",
       "15                       0  "
      ]
     },
     "execution_count": 43,
     "metadata": {},
     "output_type": "execute_result"
    }
   ],
   "source": [
    "result.head()"
   ]
  },
  {
   "cell_type": "code",
   "execution_count": 44,
   "metadata": {},
   "outputs": [
    {
     "data": {
      "image/png": "[encoded data removed]",
      "text/plain": [
       "<Figure size 432x288 with 1 Axes>"
      ]
     },
     "metadata": {},
     "output_type": "display_data"
    }
   ],
   "source": [
    "x = result[\"AvgLatePayDays_Buckets\"]\n",
    "y = result[\"prediction_decission_tree\"]\n",
    "plt.plot(x,y, 'o', color='purple',markersize=8)\n",
    "plt.xlabel(\"Actual delays\")\n",
    "plt.ylabel(\"Predicted delays\")\n",
    "plt.title(\"Prediction model accuracy\")\n",
    "plt.ylim(0,250) \n",
    "plt.savefig('accuracy_dt.png')"
   ]
  },
  {
   "cell_type": "markdown",
   "metadata": {},
   "source": [
    "* We notice a strong accuracy prediction ratio when days are less than 150. For days more than 150 , model seems inadequate"
   ]
  },
  {
   "cell_type": "markdown",
   "metadata": {},
   "source": [
    "### Prediction with neural network"
   ]
  },
  {
   "cell_type": "code",
   "execution_count": null,
   "metadata": {},
   "outputs": [],
   "source": [
    "from sklearn.neural_network import MLPClassifier\n",
    "clf_nn = MLPClassifier(hidden_layer_sizes=(100,100,100,100,100))\n",
    "cross_val_score(clf_nn, X,y)"
   ]
  },
  {
   "cell_type": "code",
   "execution_count": null,
   "metadata": {},
   "outputs": [],
   "source": [
    "clf_nn.fit(X_train,y_train)"
   ]
  },
  {
   "cell_type": "code",
   "execution_count": null,
   "metadata": {},
   "outputs": [],
   "source": [
    "from sklearn.metrics import zero_one_loss\n",
    "\n",
    "print(\"Training error =\", zero_one_loss(y_train, clf_nn.predict(X_train)))"
   ]
  },
  {
   "cell_type": "code",
   "execution_count": null,
   "metadata": {},
   "outputs": [],
   "source": [
    "from sklearn.metrics import accuracy_score\n",
    "print(\"Accurace score=\" ,accuracy_score(y_train, clf_nn.predict(X_train)))\n"
   ]
  },
  {
   "cell_type": "code",
   "execution_count": null,
   "metadata": {},
   "outputs": [],
   "source": [
    "cm_nn = confusion_matrix(y_test, clf_nn.predict(X_test))\n",
    "cm_nn"
   ]
  },
  {
   "cell_type": "code",
   "execution_count": null,
   "metadata": {},
   "outputs": [],
   "source": [
    "result['prediction_nn'] = clf_nn.predict(X)\n",
    "result.tail(10)"
   ]
  },
  {
   "cell_type": "code",
   "execution_count": null,
   "metadata": {
    "scrolled": true
   },
   "outputs": [],
   "source": [
    "x = result[\"AvgLatePayDays_Buckets\"]\n",
    "z = result[\"prediction_nn\"]\n",
    "plt.plot(x,z, 'o', color='blue',markersize=8)\n",
    "plt.xlabel(\"Actual delays\")\n",
    "plt.ylabel(\"Predicted delays\")\n",
    "plt.title(\"Prediction NN model accuracy\")\n",
    "plt.ylim(0,250) \n",
    "plt.savefig('accuracy_nn.png')"
   ]
  },
  {
   "cell_type": "markdown",
   "metadata": {},
   "source": [
    "### Prediction with Linear suppor vector machine model"
   ]
  },
  {
   "cell_type": "code",
   "execution_count": null,
   "metadata": {},
   "outputs": [],
   "source": [
    "from sklearn.svm import LinearSVC\n",
    "clf_svm = LinearSVC()\n",
    "cross_val_score(clf_svm, X_train, y_train)"
   ]
  },
  {
   "cell_type": "markdown",
   "metadata": {},
   "source": [
    "**Results of this model are poor. So this method will not be included in any further analysis**"
   ]
  },
  {
   "cell_type": "code",
   "execution_count": null,
   "metadata": {},
   "outputs": [],
   "source": [
    "#pip install openpyxl"
   ]
  },
  {
   "cell_type": "code",
   "execution_count": null,
   "metadata": {},
   "outputs": [],
   "source": [
    "# Write the predicions to an excel file\n",
    "result.to_excel(\"predictions.xlsx\",sheet_name='Sheet_name_1') "
   ]
  },
  {
   "cell_type": "markdown",
   "metadata": {},
   "source": [
    "#### Author : Dimitris Mantaos"
   ]
  },
  {
   "cell_type": "code",
   "execution_count": null,
   "metadata": {},
   "outputs": [],
   "source": []
  }
 ],
 "metadata": {
  "kernelspec": {
   "display_name": "Python 3",
   "language": "python",
   "name": "python3"
  },
  "language_info": {
   "codemirror_mode": {
    "name": "ipython",
    "version": 3
   },
   "file_extension": ".py",
   "mimetype": "text/x-python",
   "name": "python",
   "nbconvert_exporter": "python",
   "pygments_lexer": "ipython3",
   "version": "3.8.5"
  }
 },
 "nbformat": 4,
 "nbformat_minor": 5
}
