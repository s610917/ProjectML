{
 "cells": [
  {
   "cell_type": "markdown",
   "metadata": {},
   "source": [
    "# Delay payments prediction model"
   ]
  },
  {
   "cell_type": "markdown",
   "metadata": {},
   "source": [
    "* Scope of the the study is deployment of a model predicting customers payment delays."
   ]
  },
  {
   "cell_type": "code",
   "execution_count": 2,
   "metadata": {},
   "outputs": [],
   "source": [
    "import pandas as pd\n",
    "import numpy as np\n"
   ]
  },
  {
   "cell_type": "code",
   "execution_count": 3,
   "metadata": {},
   "outputs": [],
   "source": [
    "customer_base = pd.read_excel('customer_profile.xlsx', sheet_name='customers_profile_2021')"
   ]
  },
  {
   "cell_type": "code",
   "execution_count": 4,
   "metadata": {},
   "outputs": [
    {
     "name": "stdout",
     "output_type": "stream",
     "text": [
      "<class 'pandas.core.frame.DataFrame'>\n",
      "RangeIndex: 2492 entries, 0 to 2491\n",
      "Data columns (total 20 columns):\n",
      " #   Column              Non-Null Count  Dtype  \n",
      "---  ------              --------------  -----  \n",
      " 0   CardCode            2492 non-null   object \n",
      " 1   CustomerRank        2492 non-null   int64  \n",
      " 2   Domestic            2492 non-null   int64  \n",
      " 3   Attika              2492 non-null   int64  \n",
      " 4   Territory           2492 non-null   int64  \n",
      " 5   U_GRSL              2488 non-null   float64\n",
      " 6   U_ZeeKey2           2492 non-null   int64  \n",
      " 7   SZSegmentation      2289 non-null   object \n",
      " 8   MarketSegmentation  2214 non-null   object \n",
      " 9   Subsegment          2390 non-null   object \n",
      " 10  SlpCode             2492 non-null   int64  \n",
      " 11  AvgPayDays          2492 non-null   float64\n",
      " 12  PaymentTerms        2492 non-null   int64  \n",
      " 13  AvgLatePayDays      2492 non-null   int64  \n",
      " 14  Tziros              2492 non-null   float64\n",
      " 15  AvgSVal             2492 non-null   float64\n",
      " 16  MaxSval             2492 non-null   float64\n",
      " 17  invNo               2492 non-null   int64  \n",
      " 18  AvgInvNoPerMonth    2492 non-null   int64  \n",
      " 19  ranking             2492 non-null   object \n",
      "dtypes: float64(5), int64(10), object(5)\n",
      "memory usage: 389.5+ KB\n"
     ]
    }
   ],
   "source": [
    "customer_base.info()"
   ]
  },
  {
   "cell_type": "code",
   "execution_count": null,
   "metadata": {},
   "outputs": [],
   "source": [
    "for column in customer_base.columns[2:-2]:\n",
    "    print(f\"############# START {column} #############\")\n",
    "    print(customer_base[column].value_counts())\n",
    "    print(f\"############# END {column} #############\")"
   ]
  },
  {
   "cell_type": "code",
   "execution_count": 5,
   "metadata": {},
   "outputs": [
    {
     "data": {
      "text/html": [
       "<div>\n",
       "<style scoped>\n",
       "    .dataframe tbody tr th:only-of-type {\n",
       "        vertical-align: middle;\n",
       "    }\n",
       "\n",
       "    .dataframe tbody tr th {\n",
       "        vertical-align: top;\n",
       "    }\n",
       "\n",
       "    .dataframe thead th {\n",
       "        text-align: right;\n",
       "    }\n",
       "</style>\n",
       "<table border=\"1\" class=\"dataframe\">\n",
       "  <thead>\n",
       "    <tr style=\"text-align: right;\">\n",
       "      <th></th>\n",
       "      <th>CardCode</th>\n",
       "      <th>CustomerRank</th>\n",
       "      <th>Domestic</th>\n",
       "      <th>Attika</th>\n",
       "      <th>Territory</th>\n",
       "      <th>U_GRSL</th>\n",
       "      <th>U_ZeeKey2</th>\n",
       "      <th>SZSegmentation</th>\n",
       "      <th>MarketSegmentation</th>\n",
       "      <th>Subsegment</th>\n",
       "      <th>SlpCode</th>\n",
       "      <th>AvgPayDays</th>\n",
       "      <th>PaymentTerms</th>\n",
       "      <th>AvgLatePayDays</th>\n",
       "      <th>Tziros</th>\n",
       "      <th>AvgSVal</th>\n",
       "      <th>MaxSval</th>\n",
       "      <th>invNo</th>\n",
       "      <th>AvgInvNoPerMonth</th>\n",
       "      <th>ranking</th>\n",
       "    </tr>\n",
       "  </thead>\n",
       "  <tbody>\n",
       "    <tr>\n",
       "      <th>0</th>\n",
       "      <td>A.00001</td>\n",
       "      <td>6</td>\n",
       "      <td>0</td>\n",
       "      <td>1</td>\n",
       "      <td>130</td>\n",
       "      <td>0.0</td>\n",
       "      <td>5</td>\n",
       "      <td>NaN</td>\n",
       "      <td>NaN</td>\n",
       "      <td>NaN</td>\n",
       "      <td>64</td>\n",
       "      <td>0.00</td>\n",
       "      <td>210</td>\n",
       "      <td>-210</td>\n",
       "      <td>486810.83</td>\n",
       "      <td>21165.69</td>\n",
       "      <td>43385.5</td>\n",
       "      <td>23</td>\n",
       "      <td>2</td>\n",
       "      <td>0119001004, 0018007003, 0127003001, 0026007003...</td>\n",
       "    </tr>\n",
       "    <tr>\n",
       "      <th>1</th>\n",
       "      <td>A.00008</td>\n",
       "      <td>35</td>\n",
       "      <td>0</td>\n",
       "      <td>1</td>\n",
       "      <td>126</td>\n",
       "      <td>0.0</td>\n",
       "      <td>5</td>\n",
       "      <td>NaN</td>\n",
       "      <td>NaN</td>\n",
       "      <td>NaN</td>\n",
       "      <td>64</td>\n",
       "      <td>48.68</td>\n",
       "      <td>45</td>\n",
       "      <td>4</td>\n",
       "      <td>91826.00</td>\n",
       "      <td>15304.33</td>\n",
       "      <td>19551.0</td>\n",
       "      <td>6</td>\n",
       "      <td>1</td>\n",
       "      <td>0094079001, 0025022020, 0094013002</td>\n",
       "    </tr>\n",
       "    <tr>\n",
       "      <th>2</th>\n",
       "      <td>A.00023</td>\n",
       "      <td>43</td>\n",
       "      <td>0</td>\n",
       "      <td>1</td>\n",
       "      <td>134</td>\n",
       "      <td>0.0</td>\n",
       "      <td>4</td>\n",
       "      <td>NaN</td>\n",
       "      <td>NaN</td>\n",
       "      <td>NaN</td>\n",
       "      <td>64</td>\n",
       "      <td>117.00</td>\n",
       "      <td>62</td>\n",
       "      <td>55</td>\n",
       "      <td>68544.00</td>\n",
       "      <td>34272.00</td>\n",
       "      <td>36120.0</td>\n",
       "      <td>2</td>\n",
       "      <td>1</td>\n",
       "      <td>0005001010</td>\n",
       "    </tr>\n",
       "    <tr>\n",
       "      <th>3</th>\n",
       "      <td>A.00028</td>\n",
       "      <td>161</td>\n",
       "      <td>0</td>\n",
       "      <td>1</td>\n",
       "      <td>131</td>\n",
       "      <td>0.0</td>\n",
       "      <td>4</td>\n",
       "      <td>NaN</td>\n",
       "      <td>NaN</td>\n",
       "      <td>NaN</td>\n",
       "      <td>64</td>\n",
       "      <td>13.39</td>\n",
       "      <td>30</td>\n",
       "      <td>-17</td>\n",
       "      <td>14910.65</td>\n",
       "      <td>4970.22</td>\n",
       "      <td>5801.7</td>\n",
       "      <td>3</td>\n",
       "      <td>1</td>\n",
       "      <td>0015035000, 0001026020, 0068001001, 0135000000...</td>\n",
       "    </tr>\n",
       "    <tr>\n",
       "      <th>4</th>\n",
       "      <td>A.00032</td>\n",
       "      <td>2</td>\n",
       "      <td>0</td>\n",
       "      <td>1</td>\n",
       "      <td>123</td>\n",
       "      <td>0.0</td>\n",
       "      <td>4</td>\n",
       "      <td>NaN</td>\n",
       "      <td>NaN</td>\n",
       "      <td>NaN</td>\n",
       "      <td>64</td>\n",
       "      <td>26.69</td>\n",
       "      <td>1</td>\n",
       "      <td>26</td>\n",
       "      <td>1207838.62</td>\n",
       "      <td>25698.69</td>\n",
       "      <td>54926.6</td>\n",
       "      <td>47</td>\n",
       "      <td>3</td>\n",
       "      <td>0015042001, 0095005001, 0026008002, 0025006010...</td>\n",
       "    </tr>\n",
       "  </tbody>\n",
       "</table>\n",
       "</div>"
      ],
      "text/plain": [
       "  CardCode  CustomerRank  Domestic  Attika  Territory  U_GRSL  U_ZeeKey2  \\\n",
       "0  A.00001             6         0       1        130     0.0          5   \n",
       "1  A.00008            35         0       1        126     0.0          5   \n",
       "2  A.00023            43         0       1        134     0.0          4   \n",
       "3  A.00028           161         0       1        131     0.0          4   \n",
       "4  A.00032             2         0       1        123     0.0          4   \n",
       "\n",
       "  SZSegmentation MarketSegmentation Subsegment  SlpCode  AvgPayDays  \\\n",
       "0            NaN                NaN        NaN       64        0.00   \n",
       "1            NaN                NaN        NaN       64       48.68   \n",
       "2            NaN                NaN        NaN       64      117.00   \n",
       "3            NaN                NaN        NaN       64       13.39   \n",
       "4            NaN                NaN        NaN       64       26.69   \n",
       "\n",
       "   PaymentTerms  AvgLatePayDays      Tziros   AvgSVal  MaxSval  invNo  \\\n",
       "0           210            -210   486810.83  21165.69  43385.5     23   \n",
       "1            45               4    91826.00  15304.33  19551.0      6   \n",
       "2            62              55    68544.00  34272.00  36120.0      2   \n",
       "3            30             -17    14910.65   4970.22   5801.7      3   \n",
       "4             1              26  1207838.62  25698.69  54926.6     47   \n",
       "\n",
       "   AvgInvNoPerMonth                                            ranking  \n",
       "0                 2  0119001004, 0018007003, 0127003001, 0026007003...  \n",
       "1                 1                 0094079001, 0025022020, 0094013002  \n",
       "2                 1                                         0005001010  \n",
       "3                 1  0015035000, 0001026020, 0068001001, 0135000000...  \n",
       "4                 3  0015042001, 0095005001, 0026008002, 0025006010...  "
      ]
     },
     "execution_count": 5,
     "metadata": {},
     "output_type": "execute_result"
    }
   ],
   "source": [
    "customer_base.head()\n"
   ]
  },
  {
   "cell_type": "code",
   "execution_count": 6,
   "metadata": {},
   "outputs": [],
   "source": [
    "customer_base['AvgLatePayDays_Buckets'] = customer_base['AvgLatePayDays'].apply(lambda days: days//20 * 20)\n",
    "customer_base_filtered = customer_base[customer_base['AvgLatePayDays'] >= 0]"
   ]
  },
  {
   "cell_type": "code",
   "execution_count": 7,
   "metadata": {},
   "outputs": [
    {
     "data": {
      "text/html": [
       "<div>\n",
       "<style scoped>\n",
       "    .dataframe tbody tr th:only-of-type {\n",
       "        vertical-align: middle;\n",
       "    }\n",
       "\n",
       "    .dataframe tbody tr th {\n",
       "        vertical-align: top;\n",
       "    }\n",
       "\n",
       "    .dataframe thead th {\n",
       "        text-align: right;\n",
       "    }\n",
       "</style>\n",
       "<table border=\"1\" class=\"dataframe\">\n",
       "  <thead>\n",
       "    <tr style=\"text-align: right;\">\n",
       "      <th></th>\n",
       "      <th>CardCode</th>\n",
       "      <th>CustomerRank</th>\n",
       "      <th>Domestic</th>\n",
       "      <th>Attika</th>\n",
       "      <th>Territory</th>\n",
       "      <th>U_GRSL</th>\n",
       "      <th>U_ZeeKey2</th>\n",
       "      <th>SZSegmentation</th>\n",
       "      <th>MarketSegmentation</th>\n",
       "      <th>Subsegment</th>\n",
       "      <th>...</th>\n",
       "      <th>AvgPayDays</th>\n",
       "      <th>PaymentTerms</th>\n",
       "      <th>AvgLatePayDays</th>\n",
       "      <th>Tziros</th>\n",
       "      <th>AvgSVal</th>\n",
       "      <th>MaxSval</th>\n",
       "      <th>invNo</th>\n",
       "      <th>AvgInvNoPerMonth</th>\n",
       "      <th>ranking</th>\n",
       "      <th>AvgLatePayDays_Buckets</th>\n",
       "    </tr>\n",
       "  </thead>\n",
       "  <tbody>\n",
       "    <tr>\n",
       "      <th>1</th>\n",
       "      <td>A.00008</td>\n",
       "      <td>35</td>\n",
       "      <td>0</td>\n",
       "      <td>1</td>\n",
       "      <td>126</td>\n",
       "      <td>0.0</td>\n",
       "      <td>5</td>\n",
       "      <td>NaN</td>\n",
       "      <td>NaN</td>\n",
       "      <td>NaN</td>\n",
       "      <td>...</td>\n",
       "      <td>48.68</td>\n",
       "      <td>45</td>\n",
       "      <td>4</td>\n",
       "      <td>91826.00</td>\n",
       "      <td>15304.33</td>\n",
       "      <td>19551.00</td>\n",
       "      <td>6</td>\n",
       "      <td>1</td>\n",
       "      <td>0094079001, 0025022020, 0094013002</td>\n",
       "      <td>0</td>\n",
       "    </tr>\n",
       "    <tr>\n",
       "      <th>2</th>\n",
       "      <td>A.00023</td>\n",
       "      <td>43</td>\n",
       "      <td>0</td>\n",
       "      <td>1</td>\n",
       "      <td>134</td>\n",
       "      <td>0.0</td>\n",
       "      <td>4</td>\n",
       "      <td>NaN</td>\n",
       "      <td>NaN</td>\n",
       "      <td>NaN</td>\n",
       "      <td>...</td>\n",
       "      <td>117.00</td>\n",
       "      <td>62</td>\n",
       "      <td>55</td>\n",
       "      <td>68544.00</td>\n",
       "      <td>34272.00</td>\n",
       "      <td>36120.00</td>\n",
       "      <td>2</td>\n",
       "      <td>1</td>\n",
       "      <td>0005001010</td>\n",
       "      <td>40</td>\n",
       "    </tr>\n",
       "    <tr>\n",
       "      <th>4</th>\n",
       "      <td>A.00032</td>\n",
       "      <td>2</td>\n",
       "      <td>0</td>\n",
       "      <td>1</td>\n",
       "      <td>123</td>\n",
       "      <td>0.0</td>\n",
       "      <td>4</td>\n",
       "      <td>NaN</td>\n",
       "      <td>NaN</td>\n",
       "      <td>NaN</td>\n",
       "      <td>...</td>\n",
       "      <td>26.69</td>\n",
       "      <td>1</td>\n",
       "      <td>26</td>\n",
       "      <td>1207838.62</td>\n",
       "      <td>25698.69</td>\n",
       "      <td>54926.60</td>\n",
       "      <td>47</td>\n",
       "      <td>3</td>\n",
       "      <td>0015042001, 0095005001, 0026008002, 0025006010...</td>\n",
       "      <td>20</td>\n",
       "    </tr>\n",
       "    <tr>\n",
       "      <th>5</th>\n",
       "      <td>A.00033</td>\n",
       "      <td>5</td>\n",
       "      <td>0</td>\n",
       "      <td>1</td>\n",
       "      <td>139</td>\n",
       "      <td>0.0</td>\n",
       "      <td>4</td>\n",
       "      <td>NaN</td>\n",
       "      <td>NaN</td>\n",
       "      <td>NaN</td>\n",
       "      <td>...</td>\n",
       "      <td>58.54</td>\n",
       "      <td>1</td>\n",
       "      <td>58</td>\n",
       "      <td>560209.79</td>\n",
       "      <td>28010.49</td>\n",
       "      <td>46480.50</td>\n",
       "      <td>20</td>\n",
       "      <td>1</td>\n",
       "      <td>0015042001, 0025006010, 0015033000, 0026010001...</td>\n",
       "      <td>40</td>\n",
       "    </tr>\n",
       "    <tr>\n",
       "      <th>6</th>\n",
       "      <td>A.00035</td>\n",
       "      <td>12</td>\n",
       "      <td>0</td>\n",
       "      <td>1</td>\n",
       "      <td>120</td>\n",
       "      <td>0.0</td>\n",
       "      <td>4</td>\n",
       "      <td>NaN</td>\n",
       "      <td>NaN</td>\n",
       "      <td>NaN</td>\n",
       "      <td>...</td>\n",
       "      <td>63.72</td>\n",
       "      <td>62</td>\n",
       "      <td>2</td>\n",
       "      <td>240023.19</td>\n",
       "      <td>10435.79</td>\n",
       "      <td>27756.06</td>\n",
       "      <td>23</td>\n",
       "      <td>1</td>\n",
       "      <td>0025006000, 0127010000, 0025017001, 0025006010...</td>\n",
       "      <td>0</td>\n",
       "    </tr>\n",
       "  </tbody>\n",
       "</table>\n",
       "<p>5 rows × 21 columns</p>\n",
       "</div>"
      ],
      "text/plain": [
       "  CardCode  CustomerRank  Domestic  Attika  Territory  U_GRSL  U_ZeeKey2  \\\n",
       "1  A.00008            35         0       1        126     0.0          5   \n",
       "2  A.00023            43         0       1        134     0.0          4   \n",
       "4  A.00032             2         0       1        123     0.0          4   \n",
       "5  A.00033             5         0       1        139     0.0          4   \n",
       "6  A.00035            12         0       1        120     0.0          4   \n",
       "\n",
       "  SZSegmentation MarketSegmentation Subsegment  ...  AvgPayDays  PaymentTerms  \\\n",
       "1            NaN                NaN        NaN  ...       48.68            45   \n",
       "2            NaN                NaN        NaN  ...      117.00            62   \n",
       "4            NaN                NaN        NaN  ...       26.69             1   \n",
       "5            NaN                NaN        NaN  ...       58.54             1   \n",
       "6            NaN                NaN        NaN  ...       63.72            62   \n",
       "\n",
       "   AvgLatePayDays      Tziros   AvgSVal   MaxSval  invNo  AvgInvNoPerMonth  \\\n",
       "1               4    91826.00  15304.33  19551.00      6                 1   \n",
       "2              55    68544.00  34272.00  36120.00      2                 1   \n",
       "4              26  1207838.62  25698.69  54926.60     47                 3   \n",
       "5              58   560209.79  28010.49  46480.50     20                 1   \n",
       "6               2   240023.19  10435.79  27756.06     23                 1   \n",
       "\n",
       "                                             ranking AvgLatePayDays_Buckets  \n",
       "1                 0094079001, 0025022020, 0094013002                      0  \n",
       "2                                         0005001010                     40  \n",
       "4  0015042001, 0095005001, 0026008002, 0025006010...                     20  \n",
       "5  0015042001, 0025006010, 0015033000, 0026010001...                     40  \n",
       "6  0025006000, 0127010000, 0025017001, 0025006010...                      0  \n",
       "\n",
       "[5 rows x 21 columns]"
      ]
     },
     "execution_count": 7,
     "metadata": {},
     "output_type": "execute_result"
    }
   ],
   "source": [
    "customer_base_filtered.head()"
   ]
  },
  {
   "cell_type": "code",
   "execution_count": 8,
   "metadata": {},
   "outputs": [
    {
     "data": {
      "text/plain": [
       "array([[<AxesSubplot:title={'center':'AvgLatePayDays_Buckets'}>]],\n",
       "      dtype=object)"
      ]
     },
     "execution_count": 8,
     "metadata": {},
     "output_type": "execute_result"
    },
    {
     "data": {
      "image/png": "[encoded data removed]",
      "text/plain": [
       "<Figure size 432x288 with 1 Axes>"
      ]
     },
     "metadata": {
      "needs_background": "light"
     },
     "output_type": "display_data"
    }
   ],
   "source": [
    "customer_base_filtered.hist(['AvgLatePayDays_Buckets'])"
   ]
  },
  {
   "cell_type": "code",
   "execution_count": 9,
   "metadata": {},
   "outputs": [
    {
     "data": {
      "text/plain": [
       "CardCode                    0\n",
       "CustomerRank                0\n",
       "Domestic                    0\n",
       "Attika                      0\n",
       "Territory                   0\n",
       "U_GRSL                      0\n",
       "U_ZeeKey2                   0\n",
       "SZSegmentation             87\n",
       "MarketSegmentation        117\n",
       "Subsegment                 36\n",
       "SlpCode                     0\n",
       "AvgPayDays                  0\n",
       "PaymentTerms                0\n",
       "AvgLatePayDays              0\n",
       "Tziros                      0\n",
       "AvgSVal                     0\n",
       "MaxSval                     0\n",
       "invNo                       0\n",
       "AvgInvNoPerMonth            0\n",
       "ranking                     0\n",
       "AvgLatePayDays_Buckets      0\n",
       "dtype: int64"
      ]
     },
     "execution_count": 9,
     "metadata": {},
     "output_type": "execute_result"
    }
   ],
   "source": [
    "customer_base_filtered.isnull().sum()"
   ]
  },
  {
   "cell_type": "code",
   "execution_count": 10,
   "metadata": {},
   "outputs": [],
   "source": [
    "customer_base_cleaned = customer_base_filtered.dropna()"
   ]
  },
  {
   "cell_type": "code",
   "execution_count": 11,
   "metadata": {},
   "outputs": [
    {
     "data": {
      "text/plain": [
       "CardCode                  0\n",
       "CustomerRank              0\n",
       "Domestic                  0\n",
       "Attika                    0\n",
       "Territory                 0\n",
       "U_GRSL                    0\n",
       "U_ZeeKey2                 0\n",
       "SZSegmentation            0\n",
       "MarketSegmentation        0\n",
       "Subsegment                0\n",
       "SlpCode                   0\n",
       "AvgPayDays                0\n",
       "PaymentTerms              0\n",
       "AvgLatePayDays            0\n",
       "Tziros                    0\n",
       "AvgSVal                   0\n",
       "MaxSval                   0\n",
       "invNo                     0\n",
       "AvgInvNoPerMonth          0\n",
       "ranking                   0\n",
       "AvgLatePayDays_Buckets    0\n",
       "dtype: int64"
      ]
     },
     "execution_count": 11,
     "metadata": {},
     "output_type": "execute_result"
    }
   ],
   "source": [
    "customer_base_cleaned.isnull().sum()"
   ]
  },
  {
   "cell_type": "code",
   "execution_count": 45,
   "metadata": {},
   "outputs": [],
   "source": [
    "X = customer_base_cleaned.drop(['CardCode',\"CustomerRank\",'AvgPayDays', \"SlpCode\",\"invNo\",'AvgLatePayDays_Buckets','Attika','U_GRSL','U_ZeeKey2',\"ranking\"], axis=1)\n",
    "y = customer_base_cleaned['AvgLatePayDays_Buckets']"
   ]
  },
  {
   "cell_type": "code",
   "execution_count": 46,
   "metadata": {},
   "outputs": [],
   "source": [
    "from sklearn.preprocessing import OrdinalEncoder\n",
    "enc = OrdinalEncoder()\n",
    "str_columns = [column for column in X.columns if customer_base_cleaned[column].dtype == 'object']\n",
    "X[str_columns] = enc.fit_transform(X[str_columns])"
   ]
  },
  {
   "cell_type": "code",
   "execution_count": 48,
   "metadata": {},
   "outputs": [
    {
     "name": "stderr",
     "output_type": "stream",
     "text": [
      "C:\\Users\\netadmin\\Anaconda3\\lib\\site-packages\\sklearn\\model_selection\\_split.py:670: UserWarning: The least populated class in y has only 1 members, which is less than n_splits=5.\n",
      "  warnings.warn((\"The least populated class in y has only %d\"\n"
     ]
    },
    {
     "data": {
      "text/plain": [
       "array([0.98947368, 0.98421053, 0.98421053, 0.97354497, 0.98941799])"
      ]
     },
     "execution_count": 48,
     "metadata": {},
     "output_type": "execute_result"
    }
   ],
   "source": [
    "from sklearn.model_selection import cross_val_score\n",
    "from sklearn.tree import DecisionTreeClassifier\n",
    "clf = DecisionTreeClassifier(random_state=0)\n",
    "cross_val_score(clf, X,y)"
   ]
  },
  {
   "cell_type": "code",
   "execution_count": 55,
   "metadata": {},
   "outputs": [
    {
     "data": {
      "text/plain": [
       "DecisionTreeClassifier(random_state=0)"
      ]
     },
     "execution_count": 55,
     "metadata": {},
     "output_type": "execute_result"
    }
   ],
   "source": [
    "from sklearn.model_selection import train_test_split\n",
    "X_train, X_test, y_train, y_test = train_test_split(X, y, random_state=4)\n",
    "clf.fit(X_train,y_train)"
   ]
  },
  {
   "cell_type": "code",
   "execution_count": 56,
   "metadata": {},
   "outputs": [
    {
     "data": {
      "text/plain": [
       "array([ 20,  20,  20,  60,  20,  60,   0,   0,  20,   0,  20,  20,  20,\n",
       "        40,   0,   0,  40, 280,  20,   0,   0, 120,   0,   0,  40,  20,\n",
       "         0,   0,   0,   0,   0,   0,  20,   0,  20,   0,   0,  40,   0,\n",
       "       120,  40,  20,  20,   0,  20, 120,   0,   0,   0,  20,   0,  40,\n",
       "        40,   0,  40,  20,   0,   0,  20,  60,   0,   0,  20,   0,  20,\n",
       "         0,  80,   0,   0,   0,   0,  20,   0,  40,   0,  20,  40,  60,\n",
       "         0,   0, 280,  40, 280,   0,   0,   0,  20,   0,   0,   0,   0,\n",
       "         0,  40,   0, 200,  40,  20,   0,  20, 100,   0,   0,   0,  20,\n",
       "         0,   0,  20,  20,   0,   0,  20,   0,   0,  20,   0,  80,   0,\n",
       "         0,  20,   0,  20,   0,   0,   0,  40,  80,   0,  40,   0,  60,\n",
       "         0,  40, 120, 120,   0,   0,   0,   0,   0, 120,  40,  40,   0,\n",
       "       200,   0,  80,  20,  20,  20,  20,   0,   0,   0,  20,  20,   0,\n",
       "         0,   0,   0,   0,   0,  20,   0,  20,   0,  40,   0,  20,   0,\n",
       "       140,  20,   0,   0, 100,  40,   0,   0,  20,  60,   0,   0,   0,\n",
       "        20,   0,  20,  20,  20,  40,   0,   0,  20,   0, 280,  60,   0,\n",
       "         0,  40,   0,   0,   0,   0,   0,   0,   0,   0,   0, 140,   0,\n",
       "        20,   0,   0,   0,  20,   0,   0,   0,  20,   0,   0,   0,   0,\n",
       "         0,  80,  20,  20, 140,   0,   0,  20,   0,   0,   0,  20,  40,\n",
       "         0,  20,   0], dtype=int64)"
      ]
     },
     "execution_count": 56,
     "metadata": {},
     "output_type": "execute_result"
    }
   ],
   "source": [
    "clf.predict(X_test)"
   ]
  },
  {
   "cell_type": "code",
   "execution_count": 57,
   "metadata": {},
   "outputs": [
    {
     "name": "stdout",
     "output_type": "stream",
     "text": [
      "Training error = 0.029535864978902926\n"
     ]
    }
   ],
   "source": [
    "from sklearn.metrics import zero_one_loss\n",
    "\n",
    "print(\"Training error =\", zero_one_loss(y_test, clf.predict(X_test)))"
   ]
  },
  {
   "cell_type": "code",
   "execution_count": 52,
   "metadata": {},
   "outputs": [
    {
     "data": {
      "image/png": "[encoded data removed]",
      "text/plain": [
       "<Figure size 432x288 with 2 Axes>"
      ]
     },
     "metadata": {
      "needs_background": "light"
     },
     "output_type": "display_data"
    }
   ],
   "source": [
    "import itertools\n",
    "import matplotlib.pyplot as plt\n",
    "import seaborn as sns\n",
    "import numpy as np\n",
    "from sklearn.metrics import confusion_matrix\n",
    "def plot_confusion_matrix(cm, classes,\n",
    "                          title='Confusion matrix',\n",
    "                          cmap=plt.cm.Blues):\n",
    "    plt.imshow(cm, interpolation='nearest', cmap=cmap)\n",
    "    plt.title(title)\n",
    "    plt.colorbar()\n",
    "    tick_marks = np.arange(len(classes))\n",
    "    plt.xticks(tick_marks, classes, rotation=45)\n",
    "    plt.yticks(tick_marks, classes)\n",
    "\n",
    "    fmt = 'd'\n",
    "    thresh = cm.max() / 2.\n",
    "    for i, j in itertools.product(range(cm.shape[0]), range(cm.shape[1])):\n",
    "        plt.text(j, i, format(cm[i, j], fmt),\n",
    "                 horizontalalignment=\"center\",\n",
    "                 color=\"blue\" if cm[i, j] > thresh else \"green\")\n",
    "\n",
    "    plt.ylabel('True label')\n",
    "    plt.xlabel('Predicted label')\n",
    "    plt.tight_layout()  \n",
    "    plt.show()\n",
    "\n",
    "cm = confusion_matrix(y_test, clf.predict(X_test))\n",
    "\n",
    "plot_confusion_matrix(cm, y.unique())"
   ]
  },
  {
   "cell_type": "code",
   "execution_count": 24,
   "metadata": {},
   "outputs": [],
   "source": [
    "cm = confusion_matrix(y_test, clf.predict(X_test))"
   ]
  },
  {
   "cell_type": "code",
   "execution_count": 36,
   "metadata": {},
   "outputs": [
    {
     "data": {
      "text/plain": [
       "array([[113,   0,   0,   0,   0,   0,   0,   0,   0,   0,   0,   0,   0],\n",
       "       [  0,  60,   0,   0,   0,   0,   0,   0,   0,   0,   0,   0,   0],\n",
       "       [  0,   0,  30,   0,   0,   0,   0,   0,   0,   0,   0,   0,   0],\n",
       "       [  0,   0,   0,  13,   0,   0,   0,   0,   0,   0,   0,   0,   0],\n",
       "       [  0,   0,   0,   0,   7,   1,   0,   0,   0,   0,   0,   0,   0],\n",
       "       [  0,   0,   0,   0,   0,   4,   0,   0,   0,   0,   0,   0,   0],\n",
       "       [  0,   0,   0,   0,   0,   0,   2,   0,   0,   0,   0,   0,   0],\n",
       "       [  0,   0,   0,   0,   0,   0,   0,   2,   0,   0,   0,   0,   0],\n",
       "       [  0,   0,   0,   0,   0,   0,   0,   0,   1,   0,   0,   0,   1],\n",
       "       [  0,   0,   0,   0,   0,   0,   0,   0,   0,   0,   0,   0,   0],\n",
       "       [  0,   0,   0,   0,   0,   0,   0,   0,   0,   1,   0,   0,   0],\n",
       "       [  0,   0,   0,   0,   0,   0,   0,   0,   0,   0,   0,   1,   0],\n",
       "       [  0,   0,   0,   0,   0,   0,   0,   0,   0,   0,   0,   1,   0]],\n",
       "      dtype=int64)"
      ]
     },
     "execution_count": 36,
     "metadata": {},
     "output_type": "execute_result"
    }
   ],
   "source": [
    "cm"
   ]
  },
  {
   "cell_type": "code",
   "execution_count": null,
   "metadata": {},
   "outputs": [],
   "source": []
  },
  {
   "cell_type": "code",
   "execution_count": 37,
   "metadata": {},
   "outputs": [
    {
     "name": "stderr",
     "output_type": "stream",
     "text": [
      "C:\\Users\\netadmin\\Anaconda3\\lib\\site-packages\\sklearn\\model_selection\\_split.py:670: UserWarning: The least populated class in y has only 1 members, which is less than n_splits=5.\n",
      "  warnings.warn((\"The least populated class in y has only %d\"\n"
     ]
    },
    {
     "data": {
      "text/plain": [
       "array([0.35789474, 0.39473684, 0.47368421, 0.56084656, 0.5026455 ])"
      ]
     },
     "execution_count": 37,
     "metadata": {},
     "output_type": "execute_result"
    }
   ],
   "source": [
    "from sklearn.neural_network import MLPClassifier\n",
    "clf_nn = MLPClassifier(hidden_layer_sizes=(100,100, 100, 100, 100))\n",
    "cross_val_score(clf_nn, X,y)"
   ]
  },
  {
   "cell_type": "code",
   "execution_count": 38,
   "metadata": {},
   "outputs": [
    {
     "name": "stderr",
     "output_type": "stream",
     "text": [
      "C:\\Users\\netadmin\\Anaconda3\\lib\\site-packages\\sklearn\\model_selection\\_split.py:670: UserWarning: The least populated class in y has only 1 members, which is less than n_splits=5.\n",
      "  warnings.warn((\"The least populated class in y has only %d\"\n",
      "C:\\Users\\netadmin\\Anaconda3\\lib\\site-packages\\sklearn\\svm\\_base.py:976: ConvergenceWarning: Liblinear failed to converge, increase the number of iterations.\n",
      "  warnings.warn(\"Liblinear failed to converge, increase \"\n",
      "C:\\Users\\netadmin\\Anaconda3\\lib\\site-packages\\sklearn\\svm\\_base.py:976: ConvergenceWarning: Liblinear failed to converge, increase the number of iterations.\n",
      "  warnings.warn(\"Liblinear failed to converge, increase \"\n",
      "C:\\Users\\netadmin\\Anaconda3\\lib\\site-packages\\sklearn\\svm\\_base.py:976: ConvergenceWarning: Liblinear failed to converge, increase the number of iterations.\n",
      "  warnings.warn(\"Liblinear failed to converge, increase \"\n",
      "C:\\Users\\netadmin\\Anaconda3\\lib\\site-packages\\sklearn\\svm\\_base.py:976: ConvergenceWarning: Liblinear failed to converge, increase the number of iterations.\n",
      "  warnings.warn(\"Liblinear failed to converge, increase \"\n",
      "C:\\Users\\netadmin\\Anaconda3\\lib\\site-packages\\sklearn\\svm\\_base.py:976: ConvergenceWarning: Liblinear failed to converge, increase the number of iterations.\n",
      "  warnings.warn(\"Liblinear failed to converge, increase \"\n"
     ]
    },
    {
     "data": {
      "text/plain": [
       "array([0.54545455, 0.62676056, 0.51408451, 0.64788732, 0.49295775])"
      ]
     },
     "execution_count": 38,
     "metadata": {},
     "output_type": "execute_result"
    }
   ],
   "source": [
    "from sklearn.svm import LinearSVC\n",
    "clf_svm = LinearSVC()\n",
    "cross_val_score(clf_svm, X_train, y_train)"
   ]
  },
  {
   "cell_type": "code",
   "execution_count": 68,
   "metadata": {},
   "outputs": [
    {
     "data": {
      "text/plain": [
       "<seaborn.axisgrid.FacetGrid at 0x2573fa3ad90>"
      ]
     },
     "execution_count": 68,
     "metadata": {},
     "output_type": "execute_result"
    },
    {
     "data": {
      "image/png": "[encoded data removed]",
      "text/plain": [
       "<Figure size 360x360 with 1 Axes>"
      ]
     },
     "metadata": {
      "needs_background": "light"
     },
     "output_type": "display_data"
    }
   ],
   "source": [
    "sns.catplot(x=\"MarketSegmentation\", y=\"AvgLatePayDays_Buckets\", data=customer_base_filtered)"
   ]
  },
  {
   "cell_type": "markdown",
   "metadata": {},
   "source": [
    "## Models results visualization"
   ]
  },
  {
   "cell_type": "code",
   "execution_count": null,
   "metadata": {},
   "outputs": [],
   "source": []
  }
 ],
 "metadata": {
  "kernelspec": {
   "display_name": "Python 3",
   "language": "python",
   "name": "python3"
  },
  "language_info": {
   "codemirror_mode": {
    "name": "ipython",
    "version": 3
   },
   "file_extension": ".py",
   "mimetype": "text/x-python",
   "name": "python",
   "nbconvert_exporter": "python",
   "pygments_lexer": "ipython3",
   "version": "3.8.5"
  }
 },
 "nbformat": 4,
 "nbformat_minor": 5
}
